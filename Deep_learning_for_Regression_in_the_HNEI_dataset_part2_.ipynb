{
  "nbformat": 4,
  "nbformat_minor": 0,
  "metadata": {
    "colab": {
      "name": "Deep learning for Regression in the HNEI dataset part2 .ipynb",
      "provenance": [],
      "collapsed_sections": [],
      "authorship_tag": "ABX9TyNSIhdqjDV3OF7nSqqNl4xi",
      "include_colab_link": true
    },
    "kernelspec": {
      "name": "python3",
      "display_name": "Python 3"
    },
    "language_info": {
      "name": "python"
    }
  },
  "cells": [
    {
      "cell_type": "markdown",
      "metadata": {
        "id": "view-in-github",
        "colab_type": "text"
      },
      "source": [
        "<a href=\"https://colab.research.google.com/github/TarekAzzouni/Baterries-ML-Lithium-Ions-01/blob/main/Deep_learning_for_Regression_in_the_HNEI_dataset_part2_.ipynb\" target=\"_parent\"><img src=\"https://colab.research.google.com/assets/colab-badge.svg\" alt=\"Open In Colab\"/></a>"
      ]
    },
    {
      "cell_type": "code",
      "metadata": {
        "id": "1dIK5D6OnJkw"
      },
      "source": [
        "import numpy as np \n",
        "import pandas as pd\n",
        "import seaborn as sns\n",
        "\n",
        "from matplotlib.colors import ListedColormap\n",
        "from sklearn.metrics import plot_confusion_matrix\n",
        "from scipy.stats import norm, boxcox\n",
        "from sklearn.metrics import confusion_matrix, classification_report, accuracy_score\n",
        "from collections import Counter\n",
        "from scipy import stats\n",
        "\n",
        "import tensorflow as tf\n",
        "import matplotlib.pyplot as plt\n",
        "\n",
        "import io\n",
        "import requests\n",
        "import os\n",
        "\n",
        "from warnings import simplefilter\n",
        "import warnings\n",
        "# ignore all warnings\n",
        "simplefilter(action='ignore')\n",
        "\n",
        "from keras.callbacks import ModelCheckpoint\n",
        "from keras.models import Sequential\n",
        "from keras.layers import Dense, Activation, Flatten\n",
        "from sklearn.model_selection import train_test_split\n",
        "from sklearn.ensemble import RandomForestRegressor\n",
        "from sklearn.metrics import mean_absolute_error \n",
        "from matplotlib import pyplot as plt\n",
        "import seaborn as sb\n",
        "\n",
        "import warnings \n",
        "warnings.filterwarnings('ignore')\n",
        "warnings.filterwarnings('ignore', category=DeprecationWarning)\n",
        "from xgboost import XGBRegressor"
      ],
      "execution_count": 144,
      "outputs": []
    },
    {
      "cell_type": "code",
      "metadata": {
        "id": "kj07k0tAnmia"
      },
      "source": [
        "url=\"https://www.batteryarchive.org/data/HNEI_18650_NMC_LCO_25C_0-100_0.5-1.5C_a_timeseries.csv\"\n",
        "s = requests.get(url).content\n",
        "data = pd.read_csv(io.StringIO(s.decode('utf-8')))"
      ],
      "execution_count": 145,
      "outputs": []
    },
    {
      "cell_type": "code",
      "metadata": {
        "colab": {
          "base_uri": "https://localhost:8080/",
          "height": 302
        },
        "id": "nftDhI71nqjY",
        "outputId": "d4695d45-b669-4b71-e16a-60fd09058c57"
      },
      "source": [
        "data.head()"
      ],
      "execution_count": 146,
      "outputs": [
        {
          "output_type": "execute_result",
          "data": {
            "text/html": [
              "<div>\n",
              "<style scoped>\n",
              "    .dataframe tbody tr th:only-of-type {\n",
              "        vertical-align: middle;\n",
              "    }\n",
              "\n",
              "    .dataframe tbody tr th {\n",
              "        vertical-align: top;\n",
              "    }\n",
              "\n",
              "    .dataframe thead th {\n",
              "        text-align: right;\n",
              "    }\n",
              "</style>\n",
              "<table border=\"1\" class=\"dataframe\">\n",
              "  <thead>\n",
              "    <tr style=\"text-align: right;\">\n",
              "      <th></th>\n",
              "      <th>Date_Time</th>\n",
              "      <th>Test_Time (s)</th>\n",
              "      <th>Cycle_Index</th>\n",
              "      <th>Current (A)</th>\n",
              "      <th>Voltage (V)</th>\n",
              "      <th>Charge_Capacity (Ah)</th>\n",
              "      <th>Discharge_Capacity (Ah)</th>\n",
              "      <th>Charge_Energy (Wh)</th>\n",
              "      <th>Discharge_Energy (Wh)</th>\n",
              "      <th>Environment_Temperature (C)</th>\n",
              "      <th>Cell_Temperature (C)</th>\n",
              "    </tr>\n",
              "  </thead>\n",
              "  <tbody>\n",
              "    <tr>\n",
              "      <th>0</th>\n",
              "      <td>2013-05-22 11:46:56</td>\n",
              "      <td>30.014</td>\n",
              "      <td>1.0</td>\n",
              "      <td>0.000</td>\n",
              "      <td>3.779</td>\n",
              "      <td>0.0</td>\n",
              "      <td>0.000</td>\n",
              "      <td>0.0</td>\n",
              "      <td>0.000</td>\n",
              "      <td>NaN</td>\n",
              "      <td>NaN</td>\n",
              "    </tr>\n",
              "    <tr>\n",
              "      <th>1</th>\n",
              "      <td>2013-05-22 11:47:26</td>\n",
              "      <td>59.999</td>\n",
              "      <td>1.0</td>\n",
              "      <td>0.000</td>\n",
              "      <td>3.779</td>\n",
              "      <td>0.0</td>\n",
              "      <td>0.000</td>\n",
              "      <td>0.0</td>\n",
              "      <td>0.000</td>\n",
              "      <td>NaN</td>\n",
              "      <td>NaN</td>\n",
              "    </tr>\n",
              "    <tr>\n",
              "      <th>2</th>\n",
              "      <td>2013-05-22 11:47:33</td>\n",
              "      <td>67.294</td>\n",
              "      <td>1.0</td>\n",
              "      <td>-1.398</td>\n",
              "      <td>3.670</td>\n",
              "      <td>0.0</td>\n",
              "      <td>0.001</td>\n",
              "      <td>0.0</td>\n",
              "      <td>0.005</td>\n",
              "      <td>NaN</td>\n",
              "      <td>NaN</td>\n",
              "    </tr>\n",
              "    <tr>\n",
              "      <th>3</th>\n",
              "      <td>2013-05-22 11:47:41</td>\n",
              "      <td>74.303</td>\n",
              "      <td>1.0</td>\n",
              "      <td>-1.398</td>\n",
              "      <td>3.664</td>\n",
              "      <td>0.0</td>\n",
              "      <td>0.004</td>\n",
              "      <td>0.0</td>\n",
              "      <td>0.015</td>\n",
              "      <td>NaN</td>\n",
              "      <td>NaN</td>\n",
              "    </tr>\n",
              "    <tr>\n",
              "      <th>4</th>\n",
              "      <td>2013-05-22 11:47:48</td>\n",
              "      <td>81.310</td>\n",
              "      <td>1.0</td>\n",
              "      <td>-1.399</td>\n",
              "      <td>3.659</td>\n",
              "      <td>0.0</td>\n",
              "      <td>0.006</td>\n",
              "      <td>0.0</td>\n",
              "      <td>0.025</td>\n",
              "      <td>NaN</td>\n",
              "      <td>NaN</td>\n",
              "    </tr>\n",
              "  </tbody>\n",
              "</table>\n",
              "</div>"
            ],
            "text/plain": [
              "             Date_Time  ...  Cell_Temperature (C)\n",
              "0  2013-05-22 11:46:56  ...                   NaN\n",
              "1  2013-05-22 11:47:26  ...                   NaN\n",
              "2  2013-05-22 11:47:33  ...                   NaN\n",
              "3  2013-05-22 11:47:41  ...                   NaN\n",
              "4  2013-05-22 11:47:48  ...                   NaN\n",
              "\n",
              "[5 rows x 11 columns]"
            ]
          },
          "metadata": {
            "tags": []
          },
          "execution_count": 146
        }
      ]
    },
    {
      "cell_type": "code",
      "metadata": {
        "colab": {
          "base_uri": "https://localhost:8080/",
          "height": 597
        },
        "id": "E0RHHIo_nrj_",
        "outputId": "ab8ec70a-a705-4171-cb0d-c297dd6eef0f"
      },
      "source": [
        "train = data[data['Cycle_Index'] == 1 ]\n",
        "train"
      ],
      "execution_count": 147,
      "outputs": [
        {
          "output_type": "execute_result",
          "data": {
            "text/html": [
              "<div>\n",
              "<style scoped>\n",
              "    .dataframe tbody tr th:only-of-type {\n",
              "        vertical-align: middle;\n",
              "    }\n",
              "\n",
              "    .dataframe tbody tr th {\n",
              "        vertical-align: top;\n",
              "    }\n",
              "\n",
              "    .dataframe thead th {\n",
              "        text-align: right;\n",
              "    }\n",
              "</style>\n",
              "<table border=\"1\" class=\"dataframe\">\n",
              "  <thead>\n",
              "    <tr style=\"text-align: right;\">\n",
              "      <th></th>\n",
              "      <th>Date_Time</th>\n",
              "      <th>Test_Time (s)</th>\n",
              "      <th>Cycle_Index</th>\n",
              "      <th>Current (A)</th>\n",
              "      <th>Voltage (V)</th>\n",
              "      <th>Charge_Capacity (Ah)</th>\n",
              "      <th>Discharge_Capacity (Ah)</th>\n",
              "      <th>Charge_Energy (Wh)</th>\n",
              "      <th>Discharge_Energy (Wh)</th>\n",
              "      <th>Environment_Temperature (C)</th>\n",
              "      <th>Cell_Temperature (C)</th>\n",
              "    </tr>\n",
              "  </thead>\n",
              "  <tbody>\n",
              "    <tr>\n",
              "      <th>0</th>\n",
              "      <td>2013-05-22 11:46:56</td>\n",
              "      <td>30.014</td>\n",
              "      <td>1.0</td>\n",
              "      <td>0.000</td>\n",
              "      <td>3.779</td>\n",
              "      <td>0.000</td>\n",
              "      <td>0.000</td>\n",
              "      <td>0.00</td>\n",
              "      <td>0.000</td>\n",
              "      <td>NaN</td>\n",
              "      <td>NaN</td>\n",
              "    </tr>\n",
              "    <tr>\n",
              "      <th>1</th>\n",
              "      <td>2013-05-22 11:47:26</td>\n",
              "      <td>59.999</td>\n",
              "      <td>1.0</td>\n",
              "      <td>0.000</td>\n",
              "      <td>3.779</td>\n",
              "      <td>0.000</td>\n",
              "      <td>0.000</td>\n",
              "      <td>0.00</td>\n",
              "      <td>0.000</td>\n",
              "      <td>NaN</td>\n",
              "      <td>NaN</td>\n",
              "    </tr>\n",
              "    <tr>\n",
              "      <th>2</th>\n",
              "      <td>2013-05-22 11:47:33</td>\n",
              "      <td>67.294</td>\n",
              "      <td>1.0</td>\n",
              "      <td>-1.398</td>\n",
              "      <td>3.670</td>\n",
              "      <td>0.000</td>\n",
              "      <td>0.001</td>\n",
              "      <td>0.00</td>\n",
              "      <td>0.005</td>\n",
              "      <td>NaN</td>\n",
              "      <td>NaN</td>\n",
              "    </tr>\n",
              "    <tr>\n",
              "      <th>3</th>\n",
              "      <td>2013-05-22 11:47:41</td>\n",
              "      <td>74.303</td>\n",
              "      <td>1.0</td>\n",
              "      <td>-1.398</td>\n",
              "      <td>3.664</td>\n",
              "      <td>0.000</td>\n",
              "      <td>0.004</td>\n",
              "      <td>0.00</td>\n",
              "      <td>0.015</td>\n",
              "      <td>NaN</td>\n",
              "      <td>NaN</td>\n",
              "    </tr>\n",
              "    <tr>\n",
              "      <th>4</th>\n",
              "      <td>2013-05-22 11:47:48</td>\n",
              "      <td>81.310</td>\n",
              "      <td>1.0</td>\n",
              "      <td>-1.399</td>\n",
              "      <td>3.659</td>\n",
              "      <td>0.000</td>\n",
              "      <td>0.006</td>\n",
              "      <td>0.00</td>\n",
              "      <td>0.025</td>\n",
              "      <td>NaN</td>\n",
              "      <td>NaN</td>\n",
              "    </tr>\n",
              "    <tr>\n",
              "      <th>...</th>\n",
              "      <td>...</td>\n",
              "      <td>...</td>\n",
              "      <td>...</td>\n",
              "      <td>...</td>\n",
              "      <td>...</td>\n",
              "      <td>...</td>\n",
              "      <td>...</td>\n",
              "      <td>...</td>\n",
              "      <td>...</td>\n",
              "      <td>...</td>\n",
              "      <td>...</td>\n",
              "    </tr>\n",
              "    <tr>\n",
              "      <th>1951</th>\n",
              "      <td>2013-05-22 15:49:05</td>\n",
              "      <td>14558.462</td>\n",
              "      <td>1.0</td>\n",
              "      <td>0.000</td>\n",
              "      <td>4.342</td>\n",
              "      <td>2.869</td>\n",
              "      <td>0.000</td>\n",
              "      <td>11.58</td>\n",
              "      <td>0.000</td>\n",
              "      <td>NaN</td>\n",
              "      <td>NaN</td>\n",
              "    </tr>\n",
              "    <tr>\n",
              "      <th>1952</th>\n",
              "      <td>2013-05-22 15:49:35</td>\n",
              "      <td>14588.447</td>\n",
              "      <td>1.0</td>\n",
              "      <td>0.000</td>\n",
              "      <td>4.341</td>\n",
              "      <td>2.869</td>\n",
              "      <td>0.000</td>\n",
              "      <td>11.58</td>\n",
              "      <td>0.000</td>\n",
              "      <td>NaN</td>\n",
              "      <td>NaN</td>\n",
              "    </tr>\n",
              "    <tr>\n",
              "      <th>1953</th>\n",
              "      <td>2013-05-22 15:50:05</td>\n",
              "      <td>14618.462</td>\n",
              "      <td>1.0</td>\n",
              "      <td>0.000</td>\n",
              "      <td>4.341</td>\n",
              "      <td>2.869</td>\n",
              "      <td>0.000</td>\n",
              "      <td>11.58</td>\n",
              "      <td>0.000</td>\n",
              "      <td>NaN</td>\n",
              "      <td>NaN</td>\n",
              "    </tr>\n",
              "    <tr>\n",
              "      <th>1954</th>\n",
              "      <td>2013-05-22 15:50:34</td>\n",
              "      <td>14648.447</td>\n",
              "      <td>1.0</td>\n",
              "      <td>0.000</td>\n",
              "      <td>4.341</td>\n",
              "      <td>2.869</td>\n",
              "      <td>0.000</td>\n",
              "      <td>11.58</td>\n",
              "      <td>0.000</td>\n",
              "      <td>NaN</td>\n",
              "      <td>NaN</td>\n",
              "    </tr>\n",
              "    <tr>\n",
              "      <th>1955</th>\n",
              "      <td>2013-05-22 15:50:35</td>\n",
              "      <td>14648.447</td>\n",
              "      <td>1.0</td>\n",
              "      <td>0.000</td>\n",
              "      <td>4.341</td>\n",
              "      <td>2.869</td>\n",
              "      <td>0.000</td>\n",
              "      <td>11.58</td>\n",
              "      <td>0.000</td>\n",
              "      <td>NaN</td>\n",
              "      <td>NaN</td>\n",
              "    </tr>\n",
              "  </tbody>\n",
              "</table>\n",
              "<p>1956 rows × 11 columns</p>\n",
              "</div>"
            ],
            "text/plain": [
              "                Date_Time  ...  Cell_Temperature (C)\n",
              "0     2013-05-22 11:46:56  ...                   NaN\n",
              "1     2013-05-22 11:47:26  ...                   NaN\n",
              "2     2013-05-22 11:47:33  ...                   NaN\n",
              "3     2013-05-22 11:47:41  ...                   NaN\n",
              "4     2013-05-22 11:47:48  ...                   NaN\n",
              "...                   ...  ...                   ...\n",
              "1951  2013-05-22 15:49:05  ...                   NaN\n",
              "1952  2013-05-22 15:49:35  ...                   NaN\n",
              "1953  2013-05-22 15:50:05  ...                   NaN\n",
              "1954  2013-05-22 15:50:34  ...                   NaN\n",
              "1955  2013-05-22 15:50:35  ...                   NaN\n",
              "\n",
              "[1956 rows x 11 columns]"
            ]
          },
          "metadata": {
            "tags": []
          },
          "execution_count": 147
        }
      ]
    },
    {
      "cell_type": "code",
      "metadata": {
        "id": "jRTEgGyLojcA"
      },
      "source": [
        "test = data[data['Cycle_Index'] == 2 ]"
      ],
      "execution_count": 148,
      "outputs": []
    },
    {
      "cell_type": "code",
      "metadata": {
        "id": "c-agIuTEpOPW"
      },
      "source": [
        "#rename the charge capacity\n",
        "train1 = train.rename(columns={'Charge_Capacity (Ah)': 'Charge_Capacity'})\n",
        "test1 = test.rename(columns={'Charge_Capacity (Ah)': 'Charge_Capacity'})"
      ],
      "execution_count": 149,
      "outputs": []
    },
    {
      "cell_type": "code",
      "metadata": {
        "id": "UPiIKpzptvef"
      },
      "source": [
        "#train1 = train.drop(['Environment_Temperature (C)','Cell_Temperature (C)','Date_Time','Charge_Capacity'],axis=1)\n",
        "#test1 = test.drop(['Environment_Temperature (C)','Cell_Temperature (C)','Date_Time','Charge_Capacity'],axis=1)"
      ],
      "execution_count": 150,
      "outputs": []
    },
    {
      "cell_type": "code",
      "metadata": {
        "id": "Jpm8-1MbovrH"
      },
      "source": [
        "def get_data():\n",
        "    \n",
        "    train1 = data[data['Cycle_Index'] == 1 ]\n",
        "    \n",
        "    test1 = data[data['Cycle_Index'] == 2 ]\n",
        "    \n",
        "    return train , test\n",
        "\n"
      ],
      "execution_count": 151,
      "outputs": []
    },
    {
      "cell_type": "code",
      "metadata": {
        "id": "EJN20myzraZH"
      },
      "source": [
        "Col_target = [\"Charge_Capacity\"]\n",
        "target = train1[Col_target]"
      ],
      "execution_count": 152,
      "outputs": []
    },
    {
      "cell_type": "code",
      "metadata": {
        "colab": {
          "base_uri": "https://localhost:8080/"
        },
        "id": "TICv9OhfsBuc",
        "outputId": "5c6279a0-1c22-4f82-e20b-9f2a1d8d3db1"
      },
      "source": [
        "train1.columns"
      ],
      "execution_count": 153,
      "outputs": [
        {
          "output_type": "execute_result",
          "data": {
            "text/plain": [
              "Index(['Date_Time', 'Test_Time (s)', 'Cycle_Index', 'Current (A)',\n",
              "       'Voltage (V)', 'Charge_Capacity', 'Discharge_Capacity (Ah)',\n",
              "       'Charge_Energy (Wh)', 'Discharge_Energy (Wh)',\n",
              "       'Environment_Temperature (C)', 'Cell_Temperature (C)'],\n",
              "      dtype='object')"
            ]
          },
          "metadata": {
            "tags": []
          },
          "execution_count": 153
        }
      ]
    },
    {
      "cell_type": "code",
      "metadata": {
        "id": "4H6CruFnpPm_"
      },
      "source": [
        "def get_combined_data():\n",
        "  #reading train data\n",
        "  train1 , test1 = get_data()\n",
        "  #train.drop(['Charge_Capacity'],axis = 1 , inplace = True)\n",
        "\n",
        "  combined = train1.append(test)\n",
        "  combined.reset_index(inplace=True)\n",
        "  combined.drop(['Environment_Temperature (C)', 'Cell_Temperature (C)'], inplace=True, axis=1)\n",
        "  return combined, target\n",
        "\n",
        "#Load train and test data into pandas DataFrames\n",
        "train_data, test_data = get_data()\n",
        "\n",
        "#Combine train and test data to process them together\n",
        "combined, target = get_combined_data()"
      ],
      "execution_count": 155,
      "outputs": []
    },
    {
      "cell_type": "code",
      "metadata": {
        "colab": {
          "base_uri": "https://localhost:8080/"
        },
        "id": "wZ4hZ15oy9zc",
        "outputId": "11fd7881-54fb-4286-8168-8d3d55248298"
      },
      "source": [
        "train1.info()"
      ],
      "execution_count": 156,
      "outputs": [
        {
          "output_type": "stream",
          "text": [
            "<class 'pandas.core.frame.DataFrame'>\n",
            "Int64Index: 1956 entries, 0 to 1955\n",
            "Data columns (total 11 columns):\n",
            " #   Column                       Non-Null Count  Dtype  \n",
            "---  ------                       --------------  -----  \n",
            " 0   Date_Time                    1956 non-null   object \n",
            " 1   Test_Time (s)                1956 non-null   float64\n",
            " 2   Cycle_Index                  1956 non-null   float64\n",
            " 3   Current (A)                  1956 non-null   float64\n",
            " 4   Voltage (V)                  1956 non-null   float64\n",
            " 5   Charge_Capacity              1956 non-null   float64\n",
            " 6   Discharge_Capacity (Ah)      1956 non-null   float64\n",
            " 7   Charge_Energy (Wh)           1956 non-null   float64\n",
            " 8   Discharge_Energy (Wh)        1956 non-null   float64\n",
            " 9   Environment_Temperature (C)  0 non-null      float64\n",
            " 10  Cell_Temperature (C)         0 non-null      float64\n",
            "dtypes: float64(10), object(1)\n",
            "memory usage: 183.4+ KB\n"
          ],
          "name": "stdout"
        }
      ]
    },
    {
      "cell_type": "code",
      "metadata": {
        "id": "WGyqQI-IzVEW"
      },
      "source": [
        "combined1 = combined.rename(columns={'Charge_Capacity (Ah)': 'Charge_Capacity'})"
      ],
      "execution_count": 158,
      "outputs": []
    },
    {
      "cell_type": "code",
      "metadata": {
        "id": "zImZPaj8slgp"
      },
      "source": [
        "def get_cols_with_no_nans(df1,col_type):\n",
        "    '''\n",
        "    Arguments :\n",
        "    df : The dataframe to process\n",
        "    col_type : \n",
        "          num : to only get numerical columns with no nans\n",
        "          no_num : to only get nun-numerical columns with no nans\n",
        "          all : to get any columns with no nans    \n",
        "    '''\n",
        "    if (col_type == 'num'):\n",
        "        predictors = df1.select_dtypes(exclude=['object'])\n",
        "    elif (col_type == 'no_num'):\n",
        "        predictors = df1.select_dtypes(include=['object'])\n",
        "    elif (col_type == 'all'):\n",
        "        predictors = df1\n",
        "    else :\n",
        "        print('Error : choose a type (num, no_num, all)')\n",
        "        return 0\n",
        "    cols_with_no_nans = []\n",
        "    for col in predictors.columns:\n",
        "        if not df1[col].isnull().any():\n",
        "            cols_with_no_nans.append(col)\n",
        "    return cols_with_no_nans"
      ],
      "execution_count": 160,
      "outputs": []
    },
    {
      "cell_type": "code",
      "metadata": {
        "id": "J_GRCn_Isqdq"
      },
      "source": [
        "num_cols = get_cols_with_no_nans(combined , 'num')\n",
        "cat_cols = get_cols_with_no_nans(combined , 'no_num')"
      ],
      "execution_count": 161,
      "outputs": []
    },
    {
      "cell_type": "code",
      "metadata": {
        "colab": {
          "base_uri": "https://localhost:8080/"
        },
        "id": "XCgvle8sss1S",
        "outputId": "1c766b16-4355-454d-88cd-88f4d9d980bf"
      },
      "source": [
        "print ('Number of numerical columns with no nan values :',len(num_cols))\n",
        "print ('Number of nun-numerical columns with no nan values :',len(cat_cols))"
      ],
      "execution_count": 162,
      "outputs": [
        {
          "output_type": "stream",
          "text": [
            "Number of numerical columns with no nan values : 9\n",
            "Number of nun-numerical columns with no nan values : 1\n"
          ],
          "name": "stdout"
        }
      ]
    },
    {
      "cell_type": "markdown",
      "metadata": {
        "id": "izNJlhdgvtBG"
      },
      "source": [
        "***One Hot Encode The Categorical Features :***\n",
        "\n",
        "We will encode the categorical features using one hot encoding"
      ]
    },
    {
      "cell_type": "code",
      "metadata": {
        "id": "FF6W9tJ9vqOq"
      },
      "source": [
        "def oneHotEncode(df1,colNames):\n",
        "    for col in colNames:\n",
        "        if( df1[col].dtype == np.dtype('object')):\n",
        "            dummies = pd.get_dummies(df1[col],prefix=col)\n",
        "            df1 = pd.concat([df1,dummies],axis=1)\n",
        "\n",
        "            #drop the encoded column\n",
        "            df1.drop([col],axis = 1 , inplace=True)\n",
        "    return df1"
      ],
      "execution_count": 164,
      "outputs": []
    },
    {
      "cell_type": "code",
      "metadata": {
        "colab": {
          "base_uri": "https://localhost:8080/"
        },
        "id": "YwwNWDrmv3rT",
        "outputId": "eedefab6-0ac9-4b5b-fcee-da216eb77571"
      },
      "source": [
        "print('There were {} columns before encoding categorical features'.format(combined1.shape[1]))\n",
        "combined1 = oneHotEncode(combined1, cat_cols)\n",
        "print('There are {} columns after encoding categorical features'.format(combined1.shape[1]))"
      ],
      "execution_count": 165,
      "outputs": [
        {
          "output_type": "stream",
          "text": [
            "There were 10 columns before encoding categorical features\n",
            "There are 4567 columns after encoding categorical features\n"
          ],
          "name": "stdout"
        }
      ]
    },
    {
      "cell_type": "markdown",
      "metadata": {
        "id": "yKxhl4zOv73i"
      },
      "source": [
        "Now, split back combined dataFrame to training data and test data"
      ]
    },
    {
      "cell_type": "code",
      "metadata": {
        "id": "bqjnlzWLv8nN"
      },
      "source": [
        "def split_combined():\n",
        "    global combined1\n",
        "    train1 = combined1[:1460]\n",
        "    test1 = combined1[1460:]\n",
        "\n",
        "    return train1 , test1 "
      ],
      "execution_count": 166,
      "outputs": []
    },
    {
      "cell_type": "code",
      "metadata": {
        "id": "zHZOKq09wAF6"
      },
      "source": [
        "train1, test1 = split_combined()"
      ],
      "execution_count": 167,
      "outputs": []
    },
    {
      "cell_type": "markdown",
      "metadata": {
        "id": "4ZJup4fQwEIp"
      },
      "source": [
        "# Second : Make the Deep Neural Network\n",
        "\n",
        "\n",
        "*   Define a sequential model\n",
        "*   Add some dense layers\n",
        "*   Use 'relu' as the activation function in the hidden layers\n",
        "*   Use a 'normal' initializer as the kernal_intializer\n",
        "\n",
        "```\n",
        " Initializers define the way to set the initial random weights of Keras layers.\n",
        "```\n",
        "*   We will use mean_absolute_error as a loss function\n",
        "*   Define the output layer with only one node\n",
        "*   Use 'linear 'as the activation function for the output layer\n",
        "\n",
        "\n",
        "\n",
        "\n",
        "\n"
      ]
    },
    {
      "cell_type": "code",
      "metadata": {
        "id": "fzeYnOEiwlIE"
      },
      "source": [
        "NN_model = Sequential()"
      ],
      "execution_count": 169,
      "outputs": []
    },
    {
      "cell_type": "markdown",
      "metadata": {
        "id": "U0am5f-ExNvB"
      },
      "source": [
        "**The input Layer**"
      ]
    },
    {
      "cell_type": "code",
      "metadata": {
        "id": "G6uA15abxQeV"
      },
      "source": [
        "NN_model.add(Dense(128, kernel_initializer='normal',input_dim = train1.shape[1], activation='relu'))"
      ],
      "execution_count": 170,
      "outputs": []
    },
    {
      "cell_type": "markdown",
      "metadata": {
        "id": "mD-iAszBxSSc"
      },
      "source": [
        "**The Hidden Layers**\n"
      ]
    },
    {
      "cell_type": "code",
      "metadata": {
        "id": "78s9O0_LxUmL"
      },
      "source": [
        "NN_model.add(Dense(256, kernel_initializer='normal',activation='relu'))\n",
        "NN_model.add(Dense(256, kernel_initializer='normal',activation='relu'))\n",
        "NN_model.add(Dense(256, kernel_initializer='normal',activation='relu'))\n",
        "NN_model.add(Dense(256, kernel_initializer='normal',activation='relu'))"
      ],
      "execution_count": 171,
      "outputs": []
    },
    {
      "cell_type": "markdown",
      "metadata": {
        "id": "mgubWleQxbOW"
      },
      "source": [
        "**The output layer**"
      ]
    },
    {
      "cell_type": "code",
      "metadata": {
        "id": "C_Ukeeirxffa"
      },
      "source": [
        "NN_model.add(Dense(1, kernel_initializer='normal',activation='linear'))"
      ],
      "execution_count": 172,
      "outputs": []
    },
    {
      "cell_type": "markdown",
      "metadata": {
        "id": "kLFK8K6Kxjwu"
      },
      "source": [
        "**Compile the network**"
      ]
    },
    {
      "cell_type": "code",
      "metadata": {
        "colab": {
          "base_uri": "https://localhost:8080/"
        },
        "id": "K37ClO-rxlWS",
        "outputId": "30b3da01-ef53-4e03-aafe-264b4882cf28"
      },
      "source": [
        "NN_model.compile(loss='mean_absolute_error', optimizer='adam', metrics=['accuracy'])\n",
        "NN_model.summary()"
      ],
      "execution_count": 173,
      "outputs": [
        {
          "output_type": "stream",
          "text": [
            "Model: \"sequential_2\"\n",
            "_________________________________________________________________\n",
            "Layer (type)                 Output Shape              Param #   \n",
            "=================================================================\n",
            "dense_12 (Dense)             (None, 128)               584704    \n",
            "_________________________________________________________________\n",
            "dense_13 (Dense)             (None, 256)               33024     \n",
            "_________________________________________________________________\n",
            "dense_14 (Dense)             (None, 256)               65792     \n",
            "_________________________________________________________________\n",
            "dense_15 (Dense)             (None, 256)               65792     \n",
            "_________________________________________________________________\n",
            "dense_16 (Dense)             (None, 256)               65792     \n",
            "_________________________________________________________________\n",
            "dense_17 (Dense)             (None, 1)                 257       \n",
            "=================================================================\n",
            "Total params: 815,361\n",
            "Trainable params: 815,361\n",
            "Non-trainable params: 0\n",
            "_________________________________________________________________\n"
          ],
          "name": "stdout"
        }
      ]
    },
    {
      "cell_type": "markdown",
      "metadata": {
        "id": "gJJ39A_Rx2Hz"
      },
      "source": [
        "## Third : Train the model :"
      ]
    },
    {
      "cell_type": "code",
      "metadata": {
        "colab": {
          "base_uri": "https://localhost:8080/"
        },
        "id": "GGR3u19Tx1hF",
        "outputId": "d15c76db-8354-45ff-c8f9-bb9502efcf10"
      },
      "source": [
        "history = NN_model.fit(train1, target, epochs=200, batch_size=30, validation_split = 0.2)#, metrics=['accuracy']) #callbacks=callbacks_list)"
      ],
      "execution_count": 174,
      "outputs": [
        {
          "output_type": "stream",
          "text": [
            "Epoch 1/200\n",
            "39/39 [==============================] - 2s 22ms/step - loss: 7.7238 - accuracy: 0.1981 - val_loss: 1.2888 - val_accuracy: 0.0000e+00\n",
            "Epoch 2/200\n",
            "39/39 [==============================] - 0s 10ms/step - loss: 0.4769 - accuracy: 0.2836 - val_loss: 0.4071 - val_accuracy: 0.0000e+00\n",
            "Epoch 3/200\n",
            "39/39 [==============================] - 0s 10ms/step - loss: 0.3140 - accuracy: 0.3083 - val_loss: 0.6714 - val_accuracy: 0.0000e+00\n",
            "Epoch 4/200\n",
            "39/39 [==============================] - 0s 11ms/step - loss: 0.2895 - accuracy: 0.3177 - val_loss: 1.2091 - val_accuracy: 0.0000e+00\n",
            "Epoch 5/200\n",
            "39/39 [==============================] - 0s 10ms/step - loss: 0.2760 - accuracy: 0.3314 - val_loss: 0.8895 - val_accuracy: 0.0000e+00\n",
            "Epoch 6/200\n",
            "39/39 [==============================] - 0s 11ms/step - loss: 0.2353 - accuracy: 0.3130 - val_loss: 0.7237 - val_accuracy: 0.0000e+00\n",
            "Epoch 7/200\n",
            "39/39 [==============================] - 0s 11ms/step - loss: 0.2437 - accuracy: 0.3128 - val_loss: 0.4565 - val_accuracy: 0.0000e+00\n",
            "Epoch 8/200\n",
            "39/39 [==============================] - 0s 11ms/step - loss: 0.2057 - accuracy: 0.3231 - val_loss: 0.4726 - val_accuracy: 0.0000e+00\n",
            "Epoch 9/200\n",
            "39/39 [==============================] - 0s 10ms/step - loss: 0.1993 - accuracy: 0.3030 - val_loss: 0.3936 - val_accuracy: 0.0000e+00\n",
            "Epoch 10/200\n",
            "39/39 [==============================] - 0s 10ms/step - loss: 0.1990 - accuracy: 0.3218 - val_loss: 0.8224 - val_accuracy: 0.0000e+00\n",
            "Epoch 11/200\n",
            "39/39 [==============================] - 0s 10ms/step - loss: 0.1941 - accuracy: 0.3160 - val_loss: 0.4829 - val_accuracy: 0.0000e+00\n",
            "Epoch 12/200\n",
            "39/39 [==============================] - 0s 11ms/step - loss: 0.2170 - accuracy: 0.3470 - val_loss: 0.2128 - val_accuracy: 0.0000e+00\n",
            "Epoch 13/200\n",
            "39/39 [==============================] - 0s 10ms/step - loss: 0.1782 - accuracy: 0.3073 - val_loss: 0.5018 - val_accuracy: 0.0000e+00\n",
            "Epoch 14/200\n",
            "39/39 [==============================] - 0s 11ms/step - loss: 0.1631 - accuracy: 0.3032 - val_loss: 0.0694 - val_accuracy: 0.0000e+00\n",
            "Epoch 15/200\n",
            "39/39 [==============================] - 0s 11ms/step - loss: 0.1466 - accuracy: 0.3390 - val_loss: 0.7414 - val_accuracy: 0.0000e+00\n",
            "Epoch 16/200\n",
            "39/39 [==============================] - 0s 11ms/step - loss: 0.1469 - accuracy: 0.3133 - val_loss: 0.1201 - val_accuracy: 0.0000e+00\n",
            "Epoch 17/200\n",
            "39/39 [==============================] - 0s 10ms/step - loss: 0.1590 - accuracy: 0.3108 - val_loss: 0.0666 - val_accuracy: 0.0000e+00\n",
            "Epoch 18/200\n",
            "39/39 [==============================] - 0s 10ms/step - loss: 0.1677 - accuracy: 0.3190 - val_loss: 0.2649 - val_accuracy: 0.0000e+00\n",
            "Epoch 19/200\n",
            "39/39 [==============================] - 0s 11ms/step - loss: 0.2415 - accuracy: 0.3248 - val_loss: 0.7303 - val_accuracy: 0.0000e+00\n",
            "Epoch 20/200\n",
            "39/39 [==============================] - 0s 11ms/step - loss: 0.2723 - accuracy: 0.3176 - val_loss: 0.1015 - val_accuracy: 0.0000e+00\n",
            "Epoch 21/200\n",
            "39/39 [==============================] - 0s 11ms/step - loss: 0.1312 - accuracy: 0.3313 - val_loss: 0.0415 - val_accuracy: 0.0000e+00\n",
            "Epoch 22/200\n",
            "39/39 [==============================] - 0s 11ms/step - loss: 0.1143 - accuracy: 0.3166 - val_loss: 0.0178 - val_accuracy: 0.0000e+00\n",
            "Epoch 23/200\n",
            "39/39 [==============================] - 0s 10ms/step - loss: 0.1117 - accuracy: 0.3243 - val_loss: 0.0647 - val_accuracy: 0.0000e+00\n",
            "Epoch 24/200\n",
            "39/39 [==============================] - 0s 10ms/step - loss: 0.1222 - accuracy: 0.3312 - val_loss: 0.4107 - val_accuracy: 0.0000e+00\n",
            "Epoch 25/200\n",
            "39/39 [==============================] - 0s 11ms/step - loss: 0.0935 - accuracy: 0.3119 - val_loss: 0.0476 - val_accuracy: 0.0000e+00\n",
            "Epoch 26/200\n",
            "39/39 [==============================] - 0s 10ms/step - loss: 0.0713 - accuracy: 0.3155 - val_loss: 0.4005 - val_accuracy: 0.0000e+00\n",
            "Epoch 27/200\n",
            "39/39 [==============================] - 0s 11ms/step - loss: 0.0707 - accuracy: 0.3250 - val_loss: 0.3476 - val_accuracy: 0.0000e+00\n",
            "Epoch 28/200\n",
            "39/39 [==============================] - 0s 10ms/step - loss: 0.1126 - accuracy: 0.3421 - val_loss: 0.2342 - val_accuracy: 0.0000e+00\n",
            "Epoch 29/200\n",
            "39/39 [==============================] - 0s 11ms/step - loss: 0.0951 - accuracy: 0.3154 - val_loss: 0.6118 - val_accuracy: 0.0000e+00\n",
            "Epoch 30/200\n",
            "39/39 [==============================] - 0s 11ms/step - loss: 0.1178 - accuracy: 0.3214 - val_loss: 0.1249 - val_accuracy: 0.0000e+00\n",
            "Epoch 31/200\n",
            "39/39 [==============================] - 0s 10ms/step - loss: 0.0823 - accuracy: 0.3210 - val_loss: 0.0826 - val_accuracy: 0.0000e+00\n",
            "Epoch 32/200\n",
            "39/39 [==============================] - 0s 11ms/step - loss: 0.0916 - accuracy: 0.3077 - val_loss: 0.0257 - val_accuracy: 0.0000e+00\n",
            "Epoch 33/200\n",
            "39/39 [==============================] - 0s 11ms/step - loss: 0.0758 - accuracy: 0.3155 - val_loss: 0.2333 - val_accuracy: 0.0000e+00\n",
            "Epoch 34/200\n",
            "39/39 [==============================] - 0s 10ms/step - loss: 0.0640 - accuracy: 0.3055 - val_loss: 0.1787 - val_accuracy: 0.0000e+00\n",
            "Epoch 35/200\n",
            "39/39 [==============================] - 0s 10ms/step - loss: 0.0931 - accuracy: 0.3140 - val_loss: 0.1398 - val_accuracy: 0.0000e+00\n",
            "Epoch 36/200\n",
            "39/39 [==============================] - 0s 11ms/step - loss: 0.0470 - accuracy: 0.3164 - val_loss: 0.0840 - val_accuracy: 0.0000e+00\n",
            "Epoch 37/200\n",
            "39/39 [==============================] - 0s 11ms/step - loss: 0.0871 - accuracy: 0.3164 - val_loss: 0.2949 - val_accuracy: 0.0000e+00\n",
            "Epoch 38/200\n",
            "39/39 [==============================] - 0s 11ms/step - loss: 0.0645 - accuracy: 0.3305 - val_loss: 0.2611 - val_accuracy: 0.0000e+00\n",
            "Epoch 39/200\n",
            "39/39 [==============================] - 0s 11ms/step - loss: 0.1051 - accuracy: 0.3046 - val_loss: 0.1069 - val_accuracy: 0.0000e+00\n",
            "Epoch 40/200\n",
            "39/39 [==============================] - 0s 11ms/step - loss: 0.0323 - accuracy: 0.3297 - val_loss: 0.4178 - val_accuracy: 0.0000e+00\n",
            "Epoch 41/200\n",
            "39/39 [==============================] - 0s 11ms/step - loss: 0.1334 - accuracy: 0.3350 - val_loss: 0.0653 - val_accuracy: 0.0000e+00\n",
            "Epoch 42/200\n",
            "39/39 [==============================] - 0s 10ms/step - loss: 0.0479 - accuracy: 0.3231 - val_loss: 0.0995 - val_accuracy: 0.0000e+00\n",
            "Epoch 43/200\n",
            "39/39 [==============================] - 0s 10ms/step - loss: 0.0635 - accuracy: 0.3122 - val_loss: 0.0937 - val_accuracy: 0.0000e+00\n",
            "Epoch 44/200\n",
            "39/39 [==============================] - 0s 10ms/step - loss: 0.0722 - accuracy: 0.3159 - val_loss: 0.0255 - val_accuracy: 0.0000e+00\n",
            "Epoch 45/200\n",
            "39/39 [==============================] - 0s 11ms/step - loss: 0.0732 - accuracy: 0.3072 - val_loss: 0.1234 - val_accuracy: 0.0000e+00\n",
            "Epoch 46/200\n",
            "39/39 [==============================] - 0s 10ms/step - loss: 0.0592 - accuracy: 0.3036 - val_loss: 0.1670 - val_accuracy: 0.0000e+00\n",
            "Epoch 47/200\n",
            "39/39 [==============================] - 0s 10ms/step - loss: 0.0628 - accuracy: 0.3615 - val_loss: 0.1493 - val_accuracy: 0.0000e+00\n",
            "Epoch 48/200\n",
            "39/39 [==============================] - 0s 11ms/step - loss: 0.0864 - accuracy: 0.3508 - val_loss: 0.2477 - val_accuracy: 0.0000e+00\n",
            "Epoch 49/200\n",
            "39/39 [==============================] - 0s 11ms/step - loss: 0.0636 - accuracy: 0.3345 - val_loss: 0.0232 - val_accuracy: 0.0000e+00\n",
            "Epoch 50/200\n",
            "39/39 [==============================] - 0s 11ms/step - loss: 0.0782 - accuracy: 0.3371 - val_loss: 0.3616 - val_accuracy: 0.0000e+00\n",
            "Epoch 51/200\n",
            "39/39 [==============================] - 0s 10ms/step - loss: 0.0577 - accuracy: 0.3186 - val_loss: 0.1187 - val_accuracy: 0.0000e+00\n",
            "Epoch 52/200\n",
            "39/39 [==============================] - 0s 10ms/step - loss: 0.0658 - accuracy: 0.2965 - val_loss: 0.2471 - val_accuracy: 0.0000e+00\n",
            "Epoch 53/200\n",
            "39/39 [==============================] - 0s 11ms/step - loss: 0.0825 - accuracy: 0.3244 - val_loss: 0.2499 - val_accuracy: 0.0000e+00\n",
            "Epoch 54/200\n",
            "39/39 [==============================] - 0s 12ms/step - loss: 0.0631 - accuracy: 0.3167 - val_loss: 0.0533 - val_accuracy: 0.0000e+00\n",
            "Epoch 55/200\n",
            "39/39 [==============================] - 0s 11ms/step - loss: 0.0348 - accuracy: 0.3240 - val_loss: 0.3455 - val_accuracy: 0.0000e+00\n",
            "Epoch 56/200\n",
            "39/39 [==============================] - 0s 10ms/step - loss: 0.0747 - accuracy: 0.3155 - val_loss: 0.0837 - val_accuracy: 0.0000e+00\n",
            "Epoch 57/200\n",
            "39/39 [==============================] - 0s 11ms/step - loss: 0.0407 - accuracy: 0.3465 - val_loss: 0.1794 - val_accuracy: 0.0000e+00\n",
            "Epoch 58/200\n",
            "39/39 [==============================] - 0s 10ms/step - loss: 0.0837 - accuracy: 0.3240 - val_loss: 0.0855 - val_accuracy: 0.0000e+00\n",
            "Epoch 59/200\n",
            "39/39 [==============================] - 0s 10ms/step - loss: 0.0465 - accuracy: 0.3181 - val_loss: 0.1537 - val_accuracy: 0.0000e+00\n",
            "Epoch 60/200\n",
            "39/39 [==============================] - 0s 10ms/step - loss: 0.0421 - accuracy: 0.3207 - val_loss: 0.0972 - val_accuracy: 0.0000e+00\n",
            "Epoch 61/200\n",
            "39/39 [==============================] - 0s 10ms/step - loss: 0.0332 - accuracy: 0.3165 - val_loss: 0.1224 - val_accuracy: 0.0000e+00\n",
            "Epoch 62/200\n",
            "39/39 [==============================] - 0s 10ms/step - loss: 0.0610 - accuracy: 0.3155 - val_loss: 0.1295 - val_accuracy: 0.0000e+00\n",
            "Epoch 63/200\n",
            "39/39 [==============================] - 0s 10ms/step - loss: 0.0490 - accuracy: 0.3365 - val_loss: 0.0997 - val_accuracy: 0.0000e+00\n",
            "Epoch 64/200\n",
            "39/39 [==============================] - 0s 10ms/step - loss: 0.0528 - accuracy: 0.3187 - val_loss: 0.2695 - val_accuracy: 0.0000e+00\n",
            "Epoch 65/200\n",
            "39/39 [==============================] - 0s 10ms/step - loss: 0.0729 - accuracy: 0.3134 - val_loss: 0.1282 - val_accuracy: 0.0000e+00\n",
            "Epoch 66/200\n",
            "39/39 [==============================] - 0s 10ms/step - loss: 0.0287 - accuracy: 0.3102 - val_loss: 0.1633 - val_accuracy: 0.0000e+00\n",
            "Epoch 67/200\n",
            "39/39 [==============================] - 0s 11ms/step - loss: 0.0712 - accuracy: 0.3172 - val_loss: 0.2049 - val_accuracy: 0.0000e+00\n",
            "Epoch 68/200\n",
            "39/39 [==============================] - 0s 12ms/step - loss: 0.0429 - accuracy: 0.3089 - val_loss: 0.1238 - val_accuracy: 0.0000e+00\n",
            "Epoch 69/200\n",
            "39/39 [==============================] - 0s 10ms/step - loss: 0.0604 - accuracy: 0.3359 - val_loss: 0.0826 - val_accuracy: 0.0000e+00\n",
            "Epoch 70/200\n",
            "39/39 [==============================] - 0s 10ms/step - loss: 0.0344 - accuracy: 0.3273 - val_loss: 0.0727 - val_accuracy: 0.0000e+00\n",
            "Epoch 71/200\n",
            "39/39 [==============================] - 0s 10ms/step - loss: 0.0560 - accuracy: 0.3302 - val_loss: 0.2373 - val_accuracy: 0.0000e+00\n",
            "Epoch 72/200\n",
            "39/39 [==============================] - 0s 10ms/step - loss: 0.0516 - accuracy: 0.3233 - val_loss: 0.1295 - val_accuracy: 0.0000e+00\n",
            "Epoch 73/200\n",
            "39/39 [==============================] - 0s 10ms/step - loss: 0.0361 - accuracy: 0.3112 - val_loss: 0.0816 - val_accuracy: 0.0000e+00\n",
            "Epoch 74/200\n",
            "39/39 [==============================] - 0s 10ms/step - loss: 0.0629 - accuracy: 0.3187 - val_loss: 0.1447 - val_accuracy: 0.0000e+00\n",
            "Epoch 75/200\n",
            "39/39 [==============================] - 0s 11ms/step - loss: 0.0622 - accuracy: 0.2909 - val_loss: 0.0541 - val_accuracy: 0.0000e+00\n",
            "Epoch 76/200\n",
            "39/39 [==============================] - 0s 10ms/step - loss: 0.0517 - accuracy: 0.3320 - val_loss: 0.1356 - val_accuracy: 0.0000e+00\n",
            "Epoch 77/200\n",
            "39/39 [==============================] - 0s 11ms/step - loss: 0.0383 - accuracy: 0.3405 - val_loss: 0.1736 - val_accuracy: 0.0000e+00\n",
            "Epoch 78/200\n",
            "39/39 [==============================] - 0s 11ms/step - loss: 0.0443 - accuracy: 0.3015 - val_loss: 0.0387 - val_accuracy: 0.0000e+00\n",
            "Epoch 79/200\n",
            "39/39 [==============================] - 0s 11ms/step - loss: 0.0336 - accuracy: 0.3074 - val_loss: 0.1492 - val_accuracy: 0.0000e+00\n",
            "Epoch 80/200\n",
            "39/39 [==============================] - 0s 11ms/step - loss: 0.0438 - accuracy: 0.3324 - val_loss: 0.1589 - val_accuracy: 0.0000e+00\n",
            "Epoch 81/200\n",
            "39/39 [==============================] - 0s 11ms/step - loss: 0.0406 - accuracy: 0.3403 - val_loss: 0.0394 - val_accuracy: 0.0000e+00\n",
            "Epoch 82/200\n",
            "39/39 [==============================] - 0s 10ms/step - loss: 0.0258 - accuracy: 0.3063 - val_loss: 0.0160 - val_accuracy: 0.0000e+00\n",
            "Epoch 83/200\n",
            "39/39 [==============================] - 0s 10ms/step - loss: 0.0247 - accuracy: 0.3285 - val_loss: 0.2106 - val_accuracy: 0.0000e+00\n",
            "Epoch 84/200\n",
            "39/39 [==============================] - 0s 10ms/step - loss: 0.0642 - accuracy: 0.3269 - val_loss: 0.0755 - val_accuracy: 0.0000e+00\n",
            "Epoch 85/200\n",
            "39/39 [==============================] - 0s 10ms/step - loss: 0.0330 - accuracy: 0.3278 - val_loss: 0.1085 - val_accuracy: 0.0000e+00\n",
            "Epoch 86/200\n",
            "39/39 [==============================] - 0s 10ms/step - loss: 0.0253 - accuracy: 0.3375 - val_loss: 0.1877 - val_accuracy: 0.0000e+00\n",
            "Epoch 87/200\n",
            "39/39 [==============================] - 0s 10ms/step - loss: 0.0754 - accuracy: 0.3156 - val_loss: 0.0852 - val_accuracy: 0.0000e+00\n",
            "Epoch 88/200\n",
            "39/39 [==============================] - 0s 11ms/step - loss: 0.0625 - accuracy: 0.3251 - val_loss: 0.0623 - val_accuracy: 0.0000e+00\n",
            "Epoch 89/200\n",
            "39/39 [==============================] - 0s 11ms/step - loss: 0.0302 - accuracy: 0.3172 - val_loss: 0.0376 - val_accuracy: 0.0000e+00\n",
            "Epoch 90/200\n",
            "39/39 [==============================] - 0s 11ms/step - loss: 0.0226 - accuracy: 0.3164 - val_loss: 0.0816 - val_accuracy: 0.0000e+00\n",
            "Epoch 91/200\n",
            "39/39 [==============================] - 0s 10ms/step - loss: 0.0416 - accuracy: 0.3208 - val_loss: 0.0876 - val_accuracy: 0.0000e+00\n",
            "Epoch 92/200\n",
            "39/39 [==============================] - 0s 11ms/step - loss: 0.0426 - accuracy: 0.3397 - val_loss: 0.1691 - val_accuracy: 0.0000e+00\n",
            "Epoch 93/200\n",
            "39/39 [==============================] - 0s 10ms/step - loss: 0.0446 - accuracy: 0.3357 - val_loss: 0.0311 - val_accuracy: 0.0000e+00\n",
            "Epoch 94/200\n",
            "39/39 [==============================] - 0s 11ms/step - loss: 0.0302 - accuracy: 0.3292 - val_loss: 0.0535 - val_accuracy: 0.0000e+00\n",
            "Epoch 95/200\n",
            "39/39 [==============================] - 0s 10ms/step - loss: 0.0438 - accuracy: 0.3196 - val_loss: 0.0419 - val_accuracy: 0.0000e+00\n",
            "Epoch 96/200\n",
            "39/39 [==============================] - 0s 11ms/step - loss: 0.0250 - accuracy: 0.3339 - val_loss: 0.1244 - val_accuracy: 0.0000e+00\n",
            "Epoch 97/200\n",
            "39/39 [==============================] - 0s 11ms/step - loss: 0.0413 - accuracy: 0.3371 - val_loss: 0.1360 - val_accuracy: 0.0000e+00\n",
            "Epoch 98/200\n",
            "39/39 [==============================] - 0s 10ms/step - loss: 0.0401 - accuracy: 0.3335 - val_loss: 0.0961 - val_accuracy: 0.0000e+00\n",
            "Epoch 99/200\n",
            "39/39 [==============================] - 0s 10ms/step - loss: 0.0211 - accuracy: 0.3226 - val_loss: 0.0550 - val_accuracy: 0.0000e+00\n",
            "Epoch 100/200\n",
            "39/39 [==============================] - 0s 10ms/step - loss: 0.0393 - accuracy: 0.3396 - val_loss: 0.0925 - val_accuracy: 0.0000e+00\n",
            "Epoch 101/200\n",
            "39/39 [==============================] - 0s 10ms/step - loss: 0.0250 - accuracy: 0.3157 - val_loss: 0.0747 - val_accuracy: 0.0000e+00\n",
            "Epoch 102/200\n",
            "39/39 [==============================] - 0s 10ms/step - loss: 0.0466 - accuracy: 0.3316 - val_loss: 0.1196 - val_accuracy: 0.0000e+00\n",
            "Epoch 103/200\n",
            "39/39 [==============================] - 0s 10ms/step - loss: 0.0269 - accuracy: 0.3220 - val_loss: 0.0658 - val_accuracy: 0.0000e+00\n",
            "Epoch 104/200\n",
            "39/39 [==============================] - 0s 10ms/step - loss: 0.0323 - accuracy: 0.3231 - val_loss: 0.0315 - val_accuracy: 0.0000e+00\n",
            "Epoch 105/200\n",
            "39/39 [==============================] - 0s 10ms/step - loss: 0.0276 - accuracy: 0.3317 - val_loss: 0.0396 - val_accuracy: 0.0000e+00\n",
            "Epoch 106/200\n",
            "39/39 [==============================] - 0s 11ms/step - loss: 0.0366 - accuracy: 0.3296 - val_loss: 0.1547 - val_accuracy: 0.0000e+00\n",
            "Epoch 107/200\n",
            "39/39 [==============================] - 0s 11ms/step - loss: 0.0492 - accuracy: 0.2954 - val_loss: 0.0995 - val_accuracy: 0.0000e+00\n",
            "Epoch 108/200\n",
            "39/39 [==============================] - 0s 10ms/step - loss: 0.0229 - accuracy: 0.3322 - val_loss: 0.1635 - val_accuracy: 0.0000e+00\n",
            "Epoch 109/200\n",
            "39/39 [==============================] - 0s 11ms/step - loss: 0.0508 - accuracy: 0.3311 - val_loss: 0.0208 - val_accuracy: 0.0000e+00\n",
            "Epoch 110/200\n",
            "39/39 [==============================] - 0s 11ms/step - loss: 0.0452 - accuracy: 0.3172 - val_loss: 0.0162 - val_accuracy: 0.0000e+00\n",
            "Epoch 111/200\n",
            "39/39 [==============================] - 0s 11ms/step - loss: 0.0340 - accuracy: 0.3001 - val_loss: 0.1889 - val_accuracy: 0.0000e+00\n",
            "Epoch 112/200\n",
            "39/39 [==============================] - 0s 11ms/step - loss: 0.0332 - accuracy: 0.3245 - val_loss: 0.2496 - val_accuracy: 0.0000e+00\n",
            "Epoch 113/200\n",
            "39/39 [==============================] - 0s 10ms/step - loss: 0.0442 - accuracy: 0.3016 - val_loss: 0.0581 - val_accuracy: 0.0000e+00\n",
            "Epoch 114/200\n",
            "39/39 [==============================] - 0s 11ms/step - loss: 0.0286 - accuracy: 0.3190 - val_loss: 0.0234 - val_accuracy: 0.0000e+00\n",
            "Epoch 115/200\n",
            "39/39 [==============================] - 0s 11ms/step - loss: 0.0348 - accuracy: 0.3095 - val_loss: 0.0267 - val_accuracy: 0.0000e+00\n",
            "Epoch 116/200\n",
            "39/39 [==============================] - 0s 11ms/step - loss: 0.0335 - accuracy: 0.3099 - val_loss: 0.1945 - val_accuracy: 0.0000e+00\n",
            "Epoch 117/200\n",
            "39/39 [==============================] - 0s 11ms/step - loss: 0.0396 - accuracy: 0.3134 - val_loss: 0.0837 - val_accuracy: 0.0000e+00\n",
            "Epoch 118/200\n",
            "39/39 [==============================] - 0s 10ms/step - loss: 0.0263 - accuracy: 0.3175 - val_loss: 0.2011 - val_accuracy: 0.0000e+00\n",
            "Epoch 119/200\n",
            "39/39 [==============================] - 0s 10ms/step - loss: 0.0537 - accuracy: 0.3345 - val_loss: 0.0772 - val_accuracy: 0.0000e+00\n",
            "Epoch 120/200\n",
            "39/39 [==============================] - 0s 10ms/step - loss: 0.0488 - accuracy: 0.3614 - val_loss: 0.0440 - val_accuracy: 0.0000e+00\n",
            "Epoch 121/200\n",
            "39/39 [==============================] - 0s 11ms/step - loss: 0.0242 - accuracy: 0.3186 - val_loss: 0.2078 - val_accuracy: 0.0000e+00\n",
            "Epoch 122/200\n",
            "39/39 [==============================] - 0s 10ms/step - loss: 0.0633 - accuracy: 0.3104 - val_loss: 0.0710 - val_accuracy: 0.0000e+00\n",
            "Epoch 123/200\n",
            "39/39 [==============================] - 0s 10ms/step - loss: 0.0194 - accuracy: 0.3236 - val_loss: 0.0559 - val_accuracy: 0.0000e+00\n",
            "Epoch 124/200\n",
            "39/39 [==============================] - 0s 10ms/step - loss: 0.0236 - accuracy: 0.3360 - val_loss: 0.0421 - val_accuracy: 0.0000e+00\n",
            "Epoch 125/200\n",
            "39/39 [==============================] - 0s 10ms/step - loss: 0.0214 - accuracy: 0.3278 - val_loss: 0.1086 - val_accuracy: 0.0000e+00\n",
            "Epoch 126/200\n",
            "39/39 [==============================] - 0s 10ms/step - loss: 0.0408 - accuracy: 0.3198 - val_loss: 0.2078 - val_accuracy: 0.0000e+00\n",
            "Epoch 127/200\n",
            "39/39 [==============================] - 0s 10ms/step - loss: 0.0417 - accuracy: 0.3362 - val_loss: 0.0562 - val_accuracy: 0.0000e+00\n",
            "Epoch 128/200\n",
            "39/39 [==============================] - 0s 11ms/step - loss: 0.0244 - accuracy: 0.3475 - val_loss: 0.0393 - val_accuracy: 0.0000e+00\n",
            "Epoch 129/200\n",
            "39/39 [==============================] - 0s 11ms/step - loss: 0.0246 - accuracy: 0.3235 - val_loss: 0.1218 - val_accuracy: 0.0000e+00\n",
            "Epoch 130/200\n",
            "39/39 [==============================] - 0s 10ms/step - loss: 0.0661 - accuracy: 0.3024 - val_loss: 0.0865 - val_accuracy: 0.0000e+00\n",
            "Epoch 131/200\n",
            "39/39 [==============================] - 0s 11ms/step - loss: 0.0264 - accuracy: 0.3223 - val_loss: 0.0549 - val_accuracy: 0.0000e+00\n",
            "Epoch 132/200\n",
            "39/39 [==============================] - 0s 11ms/step - loss: 0.0194 - accuracy: 0.3058 - val_loss: 0.0197 - val_accuracy: 0.0000e+00\n",
            "Epoch 133/200\n",
            "39/39 [==============================] - 0s 10ms/step - loss: 0.0153 - accuracy: 0.3280 - val_loss: 0.1809 - val_accuracy: 0.0000e+00\n",
            "Epoch 134/200\n",
            "39/39 [==============================] - 0s 10ms/step - loss: 0.0380 - accuracy: 0.2948 - val_loss: 0.0638 - val_accuracy: 0.0000e+00\n",
            "Epoch 135/200\n",
            "39/39 [==============================] - 0s 11ms/step - loss: 0.0247 - accuracy: 0.3128 - val_loss: 0.0511 - val_accuracy: 0.0000e+00\n",
            "Epoch 136/200\n",
            "39/39 [==============================] - 0s 11ms/step - loss: 0.0291 - accuracy: 0.3139 - val_loss: 0.0360 - val_accuracy: 0.0000e+00\n",
            "Epoch 137/200\n",
            "39/39 [==============================] - 0s 10ms/step - loss: 0.0132 - accuracy: 0.3203 - val_loss: 0.0821 - val_accuracy: 0.0000e+00\n",
            "Epoch 138/200\n",
            "39/39 [==============================] - 0s 11ms/step - loss: 0.0335 - accuracy: 0.3095 - val_loss: 0.0379 - val_accuracy: 0.0000e+00\n",
            "Epoch 139/200\n",
            "39/39 [==============================] - 0s 11ms/step - loss: 0.0236 - accuracy: 0.3274 - val_loss: 0.0457 - val_accuracy: 0.0000e+00\n",
            "Epoch 140/200\n",
            "39/39 [==============================] - 0s 11ms/step - loss: 0.0191 - accuracy: 0.3317 - val_loss: 0.0185 - val_accuracy: 0.0000e+00\n",
            "Epoch 141/200\n",
            "39/39 [==============================] - 0s 10ms/step - loss: 0.0157 - accuracy: 0.3197 - val_loss: 0.0848 - val_accuracy: 0.0000e+00\n",
            "Epoch 142/200\n",
            "39/39 [==============================] - 0s 12ms/step - loss: 0.0297 - accuracy: 0.3161 - val_loss: 0.0425 - val_accuracy: 0.0000e+00\n",
            "Epoch 143/200\n",
            "39/39 [==============================] - 0s 11ms/step - loss: 0.0311 - accuracy: 0.3060 - val_loss: 0.0636 - val_accuracy: 0.0000e+00\n",
            "Epoch 144/200\n",
            "39/39 [==============================] - 0s 10ms/step - loss: 0.0203 - accuracy: 0.3179 - val_loss: 0.1064 - val_accuracy: 0.0000e+00\n",
            "Epoch 145/200\n",
            "39/39 [==============================] - 0s 11ms/step - loss: 0.0284 - accuracy: 0.3135 - val_loss: 0.0170 - val_accuracy: 0.0000e+00\n",
            "Epoch 146/200\n",
            "39/39 [==============================] - 0s 11ms/step - loss: 0.0171 - accuracy: 0.3211 - val_loss: 0.0513 - val_accuracy: 0.0000e+00\n",
            "Epoch 147/200\n",
            "39/39 [==============================] - 0s 11ms/step - loss: 0.0205 - accuracy: 0.3104 - val_loss: 0.1340 - val_accuracy: 0.0000e+00\n",
            "Epoch 148/200\n",
            "39/39 [==============================] - 0s 11ms/step - loss: 0.0328 - accuracy: 0.3026 - val_loss: 0.0120 - val_accuracy: 0.0000e+00\n",
            "Epoch 149/200\n",
            "39/39 [==============================] - 0s 10ms/step - loss: 0.0259 - accuracy: 0.3124 - val_loss: 0.0151 - val_accuracy: 0.0000e+00\n",
            "Epoch 150/200\n",
            "39/39 [==============================] - 0s 11ms/step - loss: 0.0151 - accuracy: 0.3195 - val_loss: 0.1082 - val_accuracy: 0.0000e+00\n",
            "Epoch 151/200\n",
            "39/39 [==============================] - 0s 10ms/step - loss: 0.0502 - accuracy: 0.3158 - val_loss: 0.0231 - val_accuracy: 0.0000e+00\n",
            "Epoch 152/200\n",
            "39/39 [==============================] - 0s 10ms/step - loss: 0.0246 - accuracy: 0.3274 - val_loss: 0.0126 - val_accuracy: 0.0000e+00\n",
            "Epoch 153/200\n",
            "39/39 [==============================] - 0s 11ms/step - loss: 0.0519 - accuracy: 0.3008 - val_loss: 0.0116 - val_accuracy: 0.0000e+00\n",
            "Epoch 154/200\n",
            "39/39 [==============================] - 0s 11ms/step - loss: 0.0302 - accuracy: 0.3158 - val_loss: 0.0148 - val_accuracy: 0.0000e+00\n",
            "Epoch 155/200\n",
            "39/39 [==============================] - 0s 10ms/step - loss: 0.0227 - accuracy: 0.3142 - val_loss: 0.0374 - val_accuracy: 0.0000e+00\n",
            "Epoch 156/200\n",
            "39/39 [==============================] - 0s 11ms/step - loss: 0.0279 - accuracy: 0.3360 - val_loss: 0.1922 - val_accuracy: 0.0000e+00\n",
            "Epoch 157/200\n",
            "39/39 [==============================] - 0s 10ms/step - loss: 0.0270 - accuracy: 0.3285 - val_loss: 0.0316 - val_accuracy: 0.0000e+00\n",
            "Epoch 158/200\n",
            "39/39 [==============================] - 0s 10ms/step - loss: 0.0338 - accuracy: 0.3094 - val_loss: 0.0145 - val_accuracy: 0.0000e+00\n",
            "Epoch 159/200\n",
            "39/39 [==============================] - 0s 10ms/step - loss: 0.0235 - accuracy: 0.3261 - val_loss: 0.0514 - val_accuracy: 0.0000e+00\n",
            "Epoch 160/200\n",
            "39/39 [==============================] - 0s 11ms/step - loss: 0.0341 - accuracy: 0.3221 - val_loss: 0.0132 - val_accuracy: 0.0000e+00\n",
            "Epoch 161/200\n",
            "39/39 [==============================] - 0s 11ms/step - loss: 0.0163 - accuracy: 0.3086 - val_loss: 0.1597 - val_accuracy: 0.0000e+00\n",
            "Epoch 162/200\n",
            "39/39 [==============================] - 0s 10ms/step - loss: 0.0556 - accuracy: 0.3222 - val_loss: 0.0145 - val_accuracy: 0.0000e+00\n",
            "Epoch 163/200\n",
            "39/39 [==============================] - 0s 11ms/step - loss: 0.0288 - accuracy: 0.3061 - val_loss: 0.0145 - val_accuracy: 0.0000e+00\n",
            "Epoch 164/200\n",
            "39/39 [==============================] - 0s 12ms/step - loss: 0.0563 - accuracy: 0.3173 - val_loss: 0.0490 - val_accuracy: 0.0000e+00\n",
            "Epoch 165/200\n",
            "39/39 [==============================] - 0s 10ms/step - loss: 0.0208 - accuracy: 0.3166 - val_loss: 0.0808 - val_accuracy: 0.0000e+00\n",
            "Epoch 166/200\n",
            "39/39 [==============================] - 0s 11ms/step - loss: 0.0227 - accuracy: 0.3180 - val_loss: 0.0962 - val_accuracy: 0.0000e+00\n",
            "Epoch 167/200\n",
            "39/39 [==============================] - 0s 11ms/step - loss: 0.0279 - accuracy: 0.3198 - val_loss: 0.0755 - val_accuracy: 0.0000e+00\n",
            "Epoch 168/200\n",
            "39/39 [==============================] - 0s 11ms/step - loss: 0.0232 - accuracy: 0.3147 - val_loss: 0.0361 - val_accuracy: 0.0000e+00\n",
            "Epoch 169/200\n",
            "39/39 [==============================] - 0s 12ms/step - loss: 0.0200 - accuracy: 0.3207 - val_loss: 0.0572 - val_accuracy: 0.0000e+00\n",
            "Epoch 170/200\n",
            "39/39 [==============================] - 0s 11ms/step - loss: 0.0236 - accuracy: 0.3270 - val_loss: 0.1067 - val_accuracy: 0.0000e+00\n",
            "Epoch 171/200\n",
            "39/39 [==============================] - 0s 10ms/step - loss: 0.0395 - accuracy: 0.3274 - val_loss: 0.0635 - val_accuracy: 0.0000e+00\n",
            "Epoch 172/200\n",
            "39/39 [==============================] - 0s 11ms/step - loss: 0.0163 - accuracy: 0.3280 - val_loss: 0.1139 - val_accuracy: 0.0000e+00\n",
            "Epoch 173/200\n",
            "39/39 [==============================] - 0s 10ms/step - loss: 0.0264 - accuracy: 0.3248 - val_loss: 0.1545 - val_accuracy: 0.0000e+00\n",
            "Epoch 174/200\n",
            "39/39 [==============================] - 0s 10ms/step - loss: 0.0215 - accuracy: 0.3261 - val_loss: 0.0528 - val_accuracy: 0.0000e+00\n",
            "Epoch 175/200\n",
            "39/39 [==============================] - 0s 11ms/step - loss: 0.0128 - accuracy: 0.3262 - val_loss: 0.0499 - val_accuracy: 0.0000e+00\n",
            "Epoch 176/200\n",
            "39/39 [==============================] - 0s 12ms/step - loss: 0.0226 - accuracy: 0.3308 - val_loss: 0.0498 - val_accuracy: 0.0000e+00\n",
            "Epoch 177/200\n",
            "39/39 [==============================] - 0s 11ms/step - loss: 0.0211 - accuracy: 0.3091 - val_loss: 0.0201 - val_accuracy: 0.0000e+00\n",
            "Epoch 178/200\n",
            "39/39 [==============================] - 0s 10ms/step - loss: 0.0161 - accuracy: 0.3260 - val_loss: 0.0943 - val_accuracy: 0.0000e+00\n",
            "Epoch 179/200\n",
            "39/39 [==============================] - 0s 10ms/step - loss: 0.0425 - accuracy: 0.3098 - val_loss: 0.0114 - val_accuracy: 0.0000e+00\n",
            "Epoch 180/200\n",
            "39/39 [==============================] - 0s 10ms/step - loss: 0.0236 - accuracy: 0.3223 - val_loss: 0.0435 - val_accuracy: 0.0000e+00\n",
            "Epoch 181/200\n",
            "39/39 [==============================] - 0s 10ms/step - loss: 0.0105 - accuracy: 0.3527 - val_loss: 0.0320 - val_accuracy: 0.0000e+00\n",
            "Epoch 182/200\n",
            "39/39 [==============================] - 0s 10ms/step - loss: 0.0355 - accuracy: 0.3345 - val_loss: 0.0156 - val_accuracy: 0.0000e+00\n",
            "Epoch 183/200\n",
            "39/39 [==============================] - 0s 10ms/step - loss: 0.0230 - accuracy: 0.3242 - val_loss: 0.0348 - val_accuracy: 0.0000e+00\n",
            "Epoch 184/200\n",
            "39/39 [==============================] - 0s 11ms/step - loss: 0.0318 - accuracy: 0.3212 - val_loss: 0.1105 - val_accuracy: 0.0000e+00\n",
            "Epoch 185/200\n",
            "39/39 [==============================] - 0s 11ms/step - loss: 0.0227 - accuracy: 0.3213 - val_loss: 0.0889 - val_accuracy: 0.0000e+00\n",
            "Epoch 186/200\n",
            "39/39 [==============================] - 0s 11ms/step - loss: 0.0315 - accuracy: 0.3103 - val_loss: 0.0686 - val_accuracy: 0.0000e+00\n",
            "Epoch 187/200\n",
            "39/39 [==============================] - 0s 10ms/step - loss: 0.0346 - accuracy: 0.3302 - val_loss: 0.0722 - val_accuracy: 0.0000e+00\n",
            "Epoch 188/200\n",
            "39/39 [==============================] - 0s 11ms/step - loss: 0.0163 - accuracy: 0.3217 - val_loss: 0.0596 - val_accuracy: 0.0000e+00\n",
            "Epoch 189/200\n",
            "39/39 [==============================] - 0s 10ms/step - loss: 0.0278 - accuracy: 0.3318 - val_loss: 0.0549 - val_accuracy: 0.0000e+00\n",
            "Epoch 190/200\n",
            "39/39 [==============================] - 0s 12ms/step - loss: 0.0362 - accuracy: 0.3281 - val_loss: 0.0655 - val_accuracy: 0.0000e+00\n",
            "Epoch 191/200\n",
            "39/39 [==============================] - 0s 11ms/step - loss: 0.0127 - accuracy: 0.3008 - val_loss: 0.0636 - val_accuracy: 0.0000e+00\n",
            "Epoch 192/200\n",
            "39/39 [==============================] - 0s 11ms/step - loss: 0.0167 - accuracy: 0.3288 - val_loss: 0.0248 - val_accuracy: 0.0000e+00\n",
            "Epoch 193/200\n",
            "39/39 [==============================] - 0s 10ms/step - loss: 0.0186 - accuracy: 0.3416 - val_loss: 0.0135 - val_accuracy: 0.0000e+00\n",
            "Epoch 194/200\n",
            "39/39 [==============================] - 0s 10ms/step - loss: 0.0241 - accuracy: 0.3149 - val_loss: 0.0657 - val_accuracy: 0.0000e+00\n",
            "Epoch 195/200\n",
            "39/39 [==============================] - 0s 11ms/step - loss: 0.0140 - accuracy: 0.3339 - val_loss: 0.1087 - val_accuracy: 0.0000e+00\n",
            "Epoch 196/200\n",
            "39/39 [==============================] - 0s 10ms/step - loss: 0.0271 - accuracy: 0.3046 - val_loss: 0.0264 - val_accuracy: 0.0000e+00\n",
            "Epoch 197/200\n",
            "39/39 [==============================] - 0s 11ms/step - loss: 0.0115 - accuracy: 0.3291 - val_loss: 0.0235 - val_accuracy: 0.0000e+00\n",
            "Epoch 198/200\n",
            "39/39 [==============================] - 0s 10ms/step - loss: 0.0209 - accuracy: 0.3036 - val_loss: 0.0541 - val_accuracy: 0.0000e+00\n",
            "Epoch 199/200\n",
            "39/39 [==============================] - 0s 10ms/step - loss: 0.0254 - accuracy: 0.2837 - val_loss: 0.0173 - val_accuracy: 0.0000e+00\n",
            "Epoch 200/200\n",
            "39/39 [==============================] - 0s 11ms/step - loss: 0.0108 - accuracy: 0.3215 - val_loss: 0.1079 - val_accuracy: 0.0000e+00\n"
          ],
          "name": "stdout"
        }
      ]
    },
    {
      "cell_type": "code",
      "metadata": {
        "colab": {
          "base_uri": "https://localhost:8080/",
          "height": 264
        },
        "id": "VuWcqe37BP5b",
        "outputId": "165ba93f-cd5f-49c2-c405-70f883f2dfba"
      },
      "source": [
        "plt.plot(history.history['loss'], label='train')\n",
        "plt.plot(history.history['val_loss'], label='target')\n",
        "plt.legend();"
      ],
      "execution_count": 175,
      "outputs": [
        {
          "output_type": "display_data",
          "data": {
            "image/png": "[encoded data removed]",
            "text/plain": [
              "<Figure size 432x288 with 1 Axes>"
            ]
          },
          "metadata": {
            "tags": [],
            "needs_background": "light"
          }
        }
      ]
    },
    {
      "cell_type": "code",
      "metadata": {
        "colab": {
          "base_uri": "https://localhost:8080/",
          "height": 264
        },
        "id": "XT2XhCmIxm4s",
        "outputId": "dee2707e-7adb-4900-b96e-f4a4ec920be2"
      },
      "source": [
        "plt.plot(history.history['accuracy'], label='train')\n",
        "plt.plot(history.history['val_accuracy'], label='test')\n",
        "plt.legend();"
      ],
      "execution_count": 176,
      "outputs": [
        {
          "output_type": "display_data",
          "data": {
            "image/png": "[encoded data removed]",
            "text/plain": [
              "<Figure size 432x288 with 1 Axes>"
            ]
          },
          "metadata": {
            "tags": [],
            "needs_background": "light"
          }
        }
      ]
    },
    {
      "cell_type": "code",
      "metadata": {
        "colab": {
          "base_uri": "https://localhost:8080/"
        },
        "id": "V9b8vwEDw2zQ",
        "outputId": "f5ca23cd-1cdb-4048-87c1-47dab4ba2aaf"
      },
      "source": [
        "history1 = NN_model.fit(train1, test1, epochs=150, batch_size=50, validation_split = 0.2)"
      ],
      "execution_count": 177,
      "outputs": [
        {
          "output_type": "stream",
          "text": [
            "Epoch 1/150\n",
            "24/24 [==============================] - 1s 41ms/step - loss: 3.9522 - accuracy: 0.8581 - val_loss: 5.0808 - val_accuracy: 0.9982\n",
            "Epoch 2/150\n",
            "24/24 [==============================] - 0s 16ms/step - loss: 3.7595 - accuracy: 0.9983 - val_loss: 5.0759 - val_accuracy: 0.9982\n",
            "Epoch 3/150\n",
            "24/24 [==============================] - 0s 17ms/step - loss: 3.7553 - accuracy: 0.9983 - val_loss: 5.0801 - val_accuracy: 0.9982\n",
            "Epoch 4/150\n",
            "24/24 [==============================] - 0s 18ms/step - loss: 3.7551 - accuracy: 0.9983 - val_loss: 5.0791 - val_accuracy: 0.9982\n",
            "Epoch 5/150\n",
            "24/24 [==============================] - 0s 16ms/step - loss: 3.7546 - accuracy: 0.9983 - val_loss: 5.0757 - val_accuracy: 0.9982\n",
            "Epoch 6/150\n",
            "24/24 [==============================] - 0s 16ms/step - loss: 3.7541 - accuracy: 0.9983 - val_loss: 5.0764 - val_accuracy: 0.9982\n",
            "Epoch 7/150\n",
            "24/24 [==============================] - 0s 16ms/step - loss: 3.7540 - accuracy: 0.9983 - val_loss: 5.0794 - val_accuracy: 0.9982\n",
            "Epoch 8/150\n",
            "24/24 [==============================] - 0s 17ms/step - loss: 3.7548 - accuracy: 0.9983 - val_loss: 5.0779 - val_accuracy: 0.9982\n",
            "Epoch 9/150\n",
            "24/24 [==============================] - 0s 16ms/step - loss: 3.7545 - accuracy: 0.9983 - val_loss: 5.0793 - val_accuracy: 0.9982\n",
            "Epoch 10/150\n",
            "24/24 [==============================] - 0s 16ms/step - loss: 3.7546 - accuracy: 0.9983 - val_loss: 5.0759 - val_accuracy: 0.9982\n",
            "Epoch 11/150\n",
            "24/24 [==============================] - 0s 18ms/step - loss: 3.7557 - accuracy: 0.9983 - val_loss: 5.0754 - val_accuracy: 0.9982\n",
            "Epoch 12/150\n",
            "24/24 [==============================] - 0s 16ms/step - loss: 3.7542 - accuracy: 0.9983 - val_loss: 5.0744 - val_accuracy: 0.9982\n",
            "Epoch 13/150\n",
            "24/24 [==============================] - 0s 17ms/step - loss: 3.7552 - accuracy: 0.9983 - val_loss: 5.0760 - val_accuracy: 0.9982\n",
            "Epoch 14/150\n",
            "24/24 [==============================] - 0s 16ms/step - loss: 3.7541 - accuracy: 0.9983 - val_loss: 5.0772 - val_accuracy: 0.9982\n",
            "Epoch 15/150\n",
            "24/24 [==============================] - 0s 16ms/step - loss: 3.7543 - accuracy: 0.9983 - val_loss: 5.0742 - val_accuracy: 0.9982\n",
            "Epoch 16/150\n",
            "24/24 [==============================] - 0s 16ms/step - loss: 3.7542 - accuracy: 0.9983 - val_loss: 5.0810 - val_accuracy: 0.9982\n",
            "Epoch 17/150\n",
            "24/24 [==============================] - 0s 16ms/step - loss: 3.7553 - accuracy: 0.9983 - val_loss: 5.0786 - val_accuracy: 0.9982\n",
            "Epoch 18/150\n",
            "24/24 [==============================] - 0s 17ms/step - loss: 3.7550 - accuracy: 0.9983 - val_loss: 5.0763 - val_accuracy: 0.9982\n",
            "Epoch 19/150\n",
            "24/24 [==============================] - 0s 16ms/step - loss: 3.7549 - accuracy: 0.9983 - val_loss: 5.0767 - val_accuracy: 0.9982\n",
            "Epoch 20/150\n",
            "24/24 [==============================] - 0s 16ms/step - loss: 3.7541 - accuracy: 0.9983 - val_loss: 5.0736 - val_accuracy: 0.9982\n",
            "Epoch 21/150\n",
            "24/24 [==============================] - 0s 17ms/step - loss: 3.7541 - accuracy: 0.9983 - val_loss: 5.0741 - val_accuracy: 0.9982\n",
            "Epoch 22/150\n",
            "24/24 [==============================] - 0s 16ms/step - loss: 3.7541 - accuracy: 0.9983 - val_loss: 5.0775 - val_accuracy: 0.9982\n",
            "Epoch 23/150\n",
            "24/24 [==============================] - 0s 17ms/step - loss: 3.7557 - accuracy: 0.9983 - val_loss: 5.0743 - val_accuracy: 0.9982\n",
            "Epoch 24/150\n",
            "24/24 [==============================] - 0s 16ms/step - loss: 3.7555 - accuracy: 0.9983 - val_loss: 5.0741 - val_accuracy: 0.9982\n",
            "Epoch 25/150\n",
            "24/24 [==============================] - 0s 16ms/step - loss: 3.7549 - accuracy: 0.9983 - val_loss: 5.0755 - val_accuracy: 0.9982\n",
            "Epoch 26/150\n",
            "24/24 [==============================] - 0s 17ms/step - loss: 3.7549 - accuracy: 0.9983 - val_loss: 5.0748 - val_accuracy: 0.9982\n",
            "Epoch 27/150\n",
            "24/24 [==============================] - 0s 16ms/step - loss: 3.7539 - accuracy: 0.9983 - val_loss: 5.0740 - val_accuracy: 0.9982\n",
            "Epoch 28/150\n",
            "24/24 [==============================] - 0s 17ms/step - loss: 3.7548 - accuracy: 0.9983 - val_loss: 5.0752 - val_accuracy: 0.9982\n",
            "Epoch 29/150\n",
            "24/24 [==============================] - 0s 16ms/step - loss: 3.7544 - accuracy: 0.9983 - val_loss: 5.0753 - val_accuracy: 0.9982\n",
            "Epoch 30/150\n",
            "24/24 [==============================] - 0s 16ms/step - loss: 3.7539 - accuracy: 0.9983 - val_loss: 5.0751 - val_accuracy: 0.9982\n",
            "Epoch 31/150\n",
            "24/24 [==============================] - 0s 16ms/step - loss: 3.7551 - accuracy: 0.9983 - val_loss: 5.0750 - val_accuracy: 0.9982\n",
            "Epoch 32/150\n",
            "24/24 [==============================] - 0s 16ms/step - loss: 3.7546 - accuracy: 0.9983 - val_loss: 5.0759 - val_accuracy: 0.9982\n",
            "Epoch 33/150\n",
            "24/24 [==============================] - 0s 16ms/step - loss: 3.7541 - accuracy: 0.9983 - val_loss: 5.0742 - val_accuracy: 0.9982\n",
            "Epoch 34/150\n",
            "24/24 [==============================] - 0s 17ms/step - loss: 3.7538 - accuracy: 0.9983 - val_loss: 5.0741 - val_accuracy: 0.9982\n",
            "Epoch 35/150\n",
            "24/24 [==============================] - 0s 16ms/step - loss: 3.7537 - accuracy: 0.9983 - val_loss: 5.0750 - val_accuracy: 0.9982\n",
            "Epoch 36/150\n",
            "24/24 [==============================] - 0s 17ms/step - loss: 3.7539 - accuracy: 0.9983 - val_loss: 5.0758 - val_accuracy: 0.9982\n",
            "Epoch 37/150\n",
            "24/24 [==============================] - 0s 17ms/step - loss: 3.7545 - accuracy: 0.9983 - val_loss: 5.0758 - val_accuracy: 0.9982\n",
            "Epoch 38/150\n",
            "24/24 [==============================] - 0s 17ms/step - loss: 3.7545 - accuracy: 0.9983 - val_loss: 5.0752 - val_accuracy: 0.9982\n",
            "Epoch 39/150\n",
            "24/24 [==============================] - 0s 17ms/step - loss: 3.7545 - accuracy: 0.9983 - val_loss: 5.0748 - val_accuracy: 0.9982\n",
            "Epoch 40/150\n",
            "24/24 [==============================] - 0s 16ms/step - loss: 3.7544 - accuracy: 0.9983 - val_loss: 5.0744 - val_accuracy: 0.9982\n",
            "Epoch 41/150\n",
            "24/24 [==============================] - 0s 17ms/step - loss: 3.7538 - accuracy: 0.9983 - val_loss: 5.0743 - val_accuracy: 0.9982\n",
            "Epoch 42/150\n",
            "24/24 [==============================] - 0s 16ms/step - loss: 3.7535 - accuracy: 0.9983 - val_loss: 5.0739 - val_accuracy: 0.9982\n",
            "Epoch 43/150\n",
            "24/24 [==============================] - 0s 17ms/step - loss: 3.7538 - accuracy: 0.9983 - val_loss: 5.0740 - val_accuracy: 0.9982\n",
            "Epoch 44/150\n",
            "24/24 [==============================] - 0s 18ms/step - loss: 3.7538 - accuracy: 0.9983 - val_loss: 5.0736 - val_accuracy: 0.9982\n",
            "Epoch 45/150\n",
            "24/24 [==============================] - 0s 16ms/step - loss: 3.7538 - accuracy: 0.9983 - val_loss: 5.0736 - val_accuracy: 0.9982\n",
            "Epoch 46/150\n",
            "24/24 [==============================] - 0s 17ms/step - loss: 3.7538 - accuracy: 0.9983 - val_loss: 5.0738 - val_accuracy: 0.9982\n",
            "Epoch 47/150\n",
            "24/24 [==============================] - 0s 18ms/step - loss: 3.7554 - accuracy: 0.9983 - val_loss: 5.0744 - val_accuracy: 0.9982\n",
            "Epoch 48/150\n",
            "24/24 [==============================] - 0s 16ms/step - loss: 3.7544 - accuracy: 0.9983 - val_loss: 5.0741 - val_accuracy: 0.9982\n",
            "Epoch 49/150\n",
            "24/24 [==============================] - 0s 18ms/step - loss: 3.7538 - accuracy: 0.9983 - val_loss: 5.0735 - val_accuracy: 0.9982\n",
            "Epoch 50/150\n",
            "24/24 [==============================] - 0s 16ms/step - loss: 3.7536 - accuracy: 0.9983 - val_loss: 5.0755 - val_accuracy: 0.9982\n",
            "Epoch 51/150\n",
            "24/24 [==============================] - 0s 17ms/step - loss: 3.7545 - accuracy: 0.9983 - val_loss: 5.0749 - val_accuracy: 0.9982\n",
            "Epoch 52/150\n",
            "24/24 [==============================] - 0s 16ms/step - loss: 3.7541 - accuracy: 0.9983 - val_loss: 5.0752 - val_accuracy: 0.9982\n",
            "Epoch 53/150\n",
            "24/24 [==============================] - 0s 18ms/step - loss: 3.7542 - accuracy: 0.9983 - val_loss: 5.0739 - val_accuracy: 0.9982\n",
            "Epoch 54/150\n",
            "24/24 [==============================] - 0s 17ms/step - loss: 3.7537 - accuracy: 0.9983 - val_loss: 5.0746 - val_accuracy: 0.9982\n",
            "Epoch 55/150\n",
            "24/24 [==============================] - 0s 16ms/step - loss: 3.7539 - accuracy: 0.9983 - val_loss: 5.0747 - val_accuracy: 0.9982\n",
            "Epoch 56/150\n",
            "24/24 [==============================] - 0s 17ms/step - loss: 3.7538 - accuracy: 0.9983 - val_loss: 5.0738 - val_accuracy: 0.9982\n",
            "Epoch 57/150\n",
            "24/24 [==============================] - 0s 16ms/step - loss: 3.7538 - accuracy: 0.9983 - val_loss: 5.0743 - val_accuracy: 0.9982\n",
            "Epoch 58/150\n",
            "24/24 [==============================] - 0s 16ms/step - loss: 3.7538 - accuracy: 0.9983 - val_loss: 5.0762 - val_accuracy: 0.9982\n",
            "Epoch 59/150\n",
            "24/24 [==============================] - 0s 16ms/step - loss: 3.7553 - accuracy: 0.9983 - val_loss: 5.0760 - val_accuracy: 0.9982\n",
            "Epoch 60/150\n",
            "24/24 [==============================] - 0s 16ms/step - loss: 3.7540 - accuracy: 0.9983 - val_loss: 5.0739 - val_accuracy: 0.9982\n",
            "Epoch 61/150\n",
            "24/24 [==============================] - 0s 17ms/step - loss: 3.7543 - accuracy: 0.9983 - val_loss: 5.0744 - val_accuracy: 0.9982\n",
            "Epoch 62/150\n",
            "24/24 [==============================] - 0s 16ms/step - loss: 3.7543 - accuracy: 0.9983 - val_loss: 5.0739 - val_accuracy: 0.9982\n",
            "Epoch 63/150\n",
            "24/24 [==============================] - 0s 17ms/step - loss: 3.7543 - accuracy: 0.9983 - val_loss: 5.0738 - val_accuracy: 0.9982\n",
            "Epoch 64/150\n",
            "24/24 [==============================] - 0s 18ms/step - loss: 3.7542 - accuracy: 0.9983 - val_loss: 5.0740 - val_accuracy: 0.9982\n",
            "Epoch 65/150\n",
            "24/24 [==============================] - 0s 17ms/step - loss: 3.7542 - accuracy: 0.9983 - val_loss: 5.0755 - val_accuracy: 0.9982\n",
            "Epoch 66/150\n",
            "24/24 [==============================] - 0s 16ms/step - loss: 3.7545 - accuracy: 0.9983 - val_loss: 5.0756 - val_accuracy: 0.9982\n",
            "Epoch 67/150\n",
            "24/24 [==============================] - 0s 16ms/step - loss: 3.7552 - accuracy: 0.9983 - val_loss: 5.0753 - val_accuracy: 0.9982\n",
            "Epoch 68/150\n",
            "24/24 [==============================] - 0s 17ms/step - loss: 3.7541 - accuracy: 0.9983 - val_loss: 5.0741 - val_accuracy: 0.9982\n",
            "Epoch 69/150\n",
            "24/24 [==============================] - 0s 18ms/step - loss: 3.7544 - accuracy: 0.9983 - val_loss: 5.0742 - val_accuracy: 0.9982\n",
            "Epoch 70/150\n",
            "24/24 [==============================] - 0s 17ms/step - loss: 3.7542 - accuracy: 0.9983 - val_loss: 5.0740 - val_accuracy: 0.9982\n",
            "Epoch 71/150\n",
            "24/24 [==============================] - 0s 17ms/step - loss: 3.7542 - accuracy: 0.9983 - val_loss: 5.0750 - val_accuracy: 0.9982\n",
            "Epoch 72/150\n",
            "24/24 [==============================] - 0s 16ms/step - loss: 3.7542 - accuracy: 0.9983 - val_loss: 5.0743 - val_accuracy: 0.9982\n",
            "Epoch 73/150\n",
            "24/24 [==============================] - 0s 17ms/step - loss: 3.7542 - accuracy: 0.9983 - val_loss: 5.0735 - val_accuracy: 0.9982\n",
            "Epoch 74/150\n",
            "24/24 [==============================] - 0s 16ms/step - loss: 3.7537 - accuracy: 0.9983 - val_loss: 5.0735 - val_accuracy: 0.9982\n",
            "Epoch 75/150\n",
            "24/24 [==============================] - 0s 16ms/step - loss: 3.7542 - accuracy: 0.9983 - val_loss: 5.0754 - val_accuracy: 0.9982\n",
            "Epoch 76/150\n",
            "24/24 [==============================] - 0s 17ms/step - loss: 3.7539 - accuracy: 0.9983 - val_loss: 5.0741 - val_accuracy: 0.9982\n",
            "Epoch 77/150\n",
            "24/24 [==============================] - 0s 17ms/step - loss: 3.7546 - accuracy: 0.9983 - val_loss: 5.0749 - val_accuracy: 0.9982\n",
            "Epoch 78/150\n",
            "24/24 [==============================] - 0s 17ms/step - loss: 3.7543 - accuracy: 0.9983 - val_loss: 5.0745 - val_accuracy: 0.9982\n",
            "Epoch 79/150\n",
            "24/24 [==============================] - 0s 19ms/step - loss: 3.7542 - accuracy: 0.9983 - val_loss: 5.0743 - val_accuracy: 0.9982\n",
            "Epoch 80/150\n",
            "24/24 [==============================] - 0s 16ms/step - loss: 3.7542 - accuracy: 0.9983 - val_loss: 5.0739 - val_accuracy: 0.9982\n",
            "Epoch 81/150\n",
            "24/24 [==============================] - 0s 16ms/step - loss: 3.7541 - accuracy: 0.9983 - val_loss: 5.0751 - val_accuracy: 0.9982\n",
            "Epoch 82/150\n",
            "24/24 [==============================] - 0s 16ms/step - loss: 3.7544 - accuracy: 0.9983 - val_loss: 5.0750 - val_accuracy: 0.9982\n",
            "Epoch 83/150\n",
            "24/24 [==============================] - 0s 16ms/step - loss: 3.7541 - accuracy: 0.9983 - val_loss: 5.0736 - val_accuracy: 0.9982\n",
            "Epoch 84/150\n",
            "24/24 [==============================] - 0s 17ms/step - loss: 3.7544 - accuracy: 0.9983 - val_loss: 5.0737 - val_accuracy: 0.9982\n",
            "Epoch 85/150\n",
            "24/24 [==============================] - 0s 16ms/step - loss: 3.7542 - accuracy: 0.9983 - val_loss: 5.0744 - val_accuracy: 0.9982\n",
            "Epoch 86/150\n",
            "24/24 [==============================] - 0s 17ms/step - loss: 3.7539 - accuracy: 0.9983 - val_loss: 5.0755 - val_accuracy: 0.9982\n",
            "Epoch 87/150\n",
            "24/24 [==============================] - 0s 18ms/step - loss: 3.7543 - accuracy: 0.9983 - val_loss: 5.0753 - val_accuracy: 0.9982\n",
            "Epoch 88/150\n",
            "24/24 [==============================] - 0s 17ms/step - loss: 3.7541 - accuracy: 0.9983 - val_loss: 5.0748 - val_accuracy: 0.9982\n",
            "Epoch 89/150\n",
            "24/24 [==============================] - 0s 18ms/step - loss: 3.7536 - accuracy: 0.9983 - val_loss: 5.0736 - val_accuracy: 0.9982\n",
            "Epoch 90/150\n",
            "24/24 [==============================] - 0s 17ms/step - loss: 3.7536 - accuracy: 0.9983 - val_loss: 5.0742 - val_accuracy: 0.9982\n",
            "Epoch 91/150\n",
            "24/24 [==============================] - 0s 16ms/step - loss: 3.7536 - accuracy: 0.9983 - val_loss: 5.0741 - val_accuracy: 0.9982\n",
            "Epoch 92/150\n",
            "24/24 [==============================] - 0s 17ms/step - loss: 3.7537 - accuracy: 0.9983 - val_loss: 5.0742 - val_accuracy: 0.9982\n",
            "Epoch 93/150\n",
            "24/24 [==============================] - 0s 16ms/step - loss: 3.7537 - accuracy: 0.9983 - val_loss: 5.0737 - val_accuracy: 0.9982\n",
            "Epoch 94/150\n",
            "24/24 [==============================] - 0s 17ms/step - loss: 3.7537 - accuracy: 0.9983 - val_loss: 5.0740 - val_accuracy: 0.9982\n",
            "Epoch 95/150\n",
            "24/24 [==============================] - 0s 16ms/step - loss: 3.7538 - accuracy: 0.9983 - val_loss: 5.0735 - val_accuracy: 0.9982\n",
            "Epoch 96/150\n",
            "24/24 [==============================] - 0s 17ms/step - loss: 3.7540 - accuracy: 0.9983 - val_loss: 5.0747 - val_accuracy: 0.9982\n",
            "Epoch 97/150\n",
            "24/24 [==============================] - 0s 16ms/step - loss: 3.7537 - accuracy: 0.9983 - val_loss: 5.0743 - val_accuracy: 0.9982\n",
            "Epoch 98/150\n",
            "24/24 [==============================] - 0s 16ms/step - loss: 3.7537 - accuracy: 0.9983 - val_loss: 5.0740 - val_accuracy: 0.9982\n",
            "Epoch 99/150\n",
            "24/24 [==============================] - 0s 16ms/step - loss: 3.7537 - accuracy: 0.9983 - val_loss: 5.0736 - val_accuracy: 0.9982\n",
            "Epoch 100/150\n",
            "24/24 [==============================] - 0s 16ms/step - loss: 3.7537 - accuracy: 0.9983 - val_loss: 5.0735 - val_accuracy: 0.9982\n",
            "Epoch 101/150\n",
            "24/24 [==============================] - 0s 17ms/step - loss: 3.7543 - accuracy: 0.9983 - val_loss: 5.0754 - val_accuracy: 0.9982\n",
            "Epoch 102/150\n",
            "24/24 [==============================] - 0s 17ms/step - loss: 3.7543 - accuracy: 0.9983 - val_loss: 5.0763 - val_accuracy: 0.9982\n",
            "Epoch 103/150\n",
            "24/24 [==============================] - 0s 17ms/step - loss: 3.7550 - accuracy: 0.9983 - val_loss: 5.0753 - val_accuracy: 0.9982\n",
            "Epoch 104/150\n",
            "24/24 [==============================] - 0s 18ms/step - loss: 3.7539 - accuracy: 0.9983 - val_loss: 5.0750 - val_accuracy: 0.9982\n",
            "Epoch 105/150\n",
            "24/24 [==============================] - 0s 19ms/step - loss: 3.7540 - accuracy: 0.9983 - val_loss: 5.0749 - val_accuracy: 0.9982\n",
            "Epoch 106/150\n",
            "24/24 [==============================] - 0s 17ms/step - loss: 3.7539 - accuracy: 0.9983 - val_loss: 5.0749 - val_accuracy: 0.9982\n",
            "Epoch 107/150\n",
            "24/24 [==============================] - 0s 16ms/step - loss: 3.7541 - accuracy: 0.9983 - val_loss: 5.0747 - val_accuracy: 0.9982\n",
            "Epoch 108/150\n",
            "24/24 [==============================] - 0s 17ms/step - loss: 3.7542 - accuracy: 0.9983 - val_loss: 5.0742 - val_accuracy: 0.9982\n",
            "Epoch 109/150\n",
            "24/24 [==============================] - 0s 17ms/step - loss: 3.7541 - accuracy: 0.9983 - val_loss: 5.0737 - val_accuracy: 0.9982\n",
            "Epoch 110/150\n",
            "24/24 [==============================] - 0s 17ms/step - loss: 3.7541 - accuracy: 0.9983 - val_loss: 5.0743 - val_accuracy: 0.9982\n",
            "Epoch 111/150\n",
            "24/24 [==============================] - 0s 17ms/step - loss: 3.7541 - accuracy: 0.9983 - val_loss: 5.0739 - val_accuracy: 0.9982\n",
            "Epoch 112/150\n",
            "24/24 [==============================] - 0s 18ms/step - loss: 3.7539 - accuracy: 0.9983 - val_loss: 5.0742 - val_accuracy: 0.9982\n",
            "Epoch 113/150\n",
            "24/24 [==============================] - 0s 17ms/step - loss: 3.7540 - accuracy: 0.9983 - val_loss: 5.0738 - val_accuracy: 0.9982\n",
            "Epoch 114/150\n",
            "24/24 [==============================] - 0s 17ms/step - loss: 3.7539 - accuracy: 0.9983 - val_loss: 5.0736 - val_accuracy: 0.9982\n",
            "Epoch 115/150\n",
            "24/24 [==============================] - 0s 19ms/step - loss: 3.7547 - accuracy: 0.9983 - val_loss: 5.0751 - val_accuracy: 0.9982\n",
            "Epoch 116/150\n",
            "24/24 [==============================] - 0s 17ms/step - loss: 3.7544 - accuracy: 0.9983 - val_loss: 5.0740 - val_accuracy: 0.9982\n",
            "Epoch 117/150\n",
            "24/24 [==============================] - 0s 17ms/step - loss: 3.7536 - accuracy: 0.9983 - val_loss: 5.0741 - val_accuracy: 0.9982\n",
            "Epoch 118/150\n",
            "24/24 [==============================] - 0s 17ms/step - loss: 3.7545 - accuracy: 0.9983 - val_loss: 5.0747 - val_accuracy: 0.9982\n",
            "Epoch 119/150\n",
            "24/24 [==============================] - 0s 18ms/step - loss: 3.7537 - accuracy: 0.9983 - val_loss: 5.0741 - val_accuracy: 0.9982\n",
            "Epoch 120/150\n",
            "24/24 [==============================] - 0s 17ms/step - loss: 3.7537 - accuracy: 0.9983 - val_loss: 5.0742 - val_accuracy: 0.9982\n",
            "Epoch 121/150\n",
            "24/24 [==============================] - 0s 18ms/step - loss: 3.7537 - accuracy: 0.9983 - val_loss: 5.0739 - val_accuracy: 0.9982\n",
            "Epoch 122/150\n",
            "24/24 [==============================] - 0s 17ms/step - loss: 3.7537 - accuracy: 0.9983 - val_loss: 5.0735 - val_accuracy: 0.9982\n",
            "Epoch 123/150\n",
            "24/24 [==============================] - 0s 17ms/step - loss: 3.7536 - accuracy: 0.9983 - val_loss: 5.0735 - val_accuracy: 0.9982\n",
            "Epoch 124/150\n",
            "24/24 [==============================] - 0s 17ms/step - loss: 3.7541 - accuracy: 0.9983 - val_loss: 5.0740 - val_accuracy: 0.9982\n",
            "Epoch 125/150\n",
            "24/24 [==============================] - 0s 17ms/step - loss: 3.7540 - accuracy: 0.9983 - val_loss: 5.0750 - val_accuracy: 0.9982\n",
            "Epoch 126/150\n",
            "24/24 [==============================] - 0s 17ms/step - loss: 3.7542 - accuracy: 0.9983 - val_loss: 5.0742 - val_accuracy: 0.9982\n",
            "Epoch 127/150\n",
            "24/24 [==============================] - 0s 17ms/step - loss: 3.7549 - accuracy: 0.9983 - val_loss: 5.0739 - val_accuracy: 0.9982\n",
            "Epoch 128/150\n",
            "24/24 [==============================] - 0s 18ms/step - loss: 3.7549 - accuracy: 0.9983 - val_loss: 5.0745 - val_accuracy: 0.9982\n",
            "Epoch 129/150\n",
            "24/24 [==============================] - 0s 17ms/step - loss: 3.7539 - accuracy: 0.9983 - val_loss: 5.0747 - val_accuracy: 0.9982\n",
            "Epoch 130/150\n",
            "24/24 [==============================] - 0s 17ms/step - loss: 3.7540 - accuracy: 0.9983 - val_loss: 5.0751 - val_accuracy: 0.9982\n",
            "Epoch 131/150\n",
            "24/24 [==============================] - 0s 17ms/step - loss: 3.7541 - accuracy: 0.9983 - val_loss: 5.0747 - val_accuracy: 0.9982\n",
            "Epoch 132/150\n",
            "24/24 [==============================] - 0s 16ms/step - loss: 3.7541 - accuracy: 0.9983 - val_loss: 5.0742 - val_accuracy: 0.9982\n",
            "Epoch 133/150\n",
            "24/24 [==============================] - 0s 16ms/step - loss: 3.7539 - accuracy: 0.9983 - val_loss: 5.0742 - val_accuracy: 0.9982\n",
            "Epoch 134/150\n",
            "24/24 [==============================] - 0s 16ms/step - loss: 3.7539 - accuracy: 0.9983 - val_loss: 5.0735 - val_accuracy: 0.9982\n",
            "Epoch 135/150\n",
            "24/24 [==============================] - 0s 16ms/step - loss: 3.7539 - accuracy: 0.9983 - val_loss: 5.0735 - val_accuracy: 0.9982\n",
            "Epoch 136/150\n",
            "24/24 [==============================] - 0s 17ms/step - loss: 3.7543 - accuracy: 0.9983 - val_loss: 5.0773 - val_accuracy: 0.9982\n",
            "Epoch 137/150\n",
            "24/24 [==============================] - 0s 17ms/step - loss: 3.7546 - accuracy: 0.9983 - val_loss: 5.0739 - val_accuracy: 0.9982\n",
            "Epoch 138/150\n",
            "24/24 [==============================] - 0s 17ms/step - loss: 3.7536 - accuracy: 0.9983 - val_loss: 5.0746 - val_accuracy: 0.9982\n",
            "Epoch 139/150\n",
            "24/24 [==============================] - 0s 18ms/step - loss: 3.7545 - accuracy: 0.9983 - val_loss: 5.0740 - val_accuracy: 0.9982\n",
            "Epoch 140/150\n",
            "24/24 [==============================] - 0s 19ms/step - loss: 3.7536 - accuracy: 0.9983 - val_loss: 5.0741 - val_accuracy: 0.9982\n",
            "Epoch 141/150\n",
            "24/24 [==============================] - 0s 17ms/step - loss: 3.7536 - accuracy: 0.9983 - val_loss: 5.0740 - val_accuracy: 0.9982\n",
            "Epoch 142/150\n",
            "24/24 [==============================] - 0s 17ms/step - loss: 3.7536 - accuracy: 0.9983 - val_loss: 5.0737 - val_accuracy: 0.9982\n",
            "Epoch 143/150\n",
            "24/24 [==============================] - 0s 17ms/step - loss: 3.7536 - accuracy: 0.9983 - val_loss: 5.0741 - val_accuracy: 0.9982\n",
            "Epoch 144/150\n",
            "24/24 [==============================] - 0s 16ms/step - loss: 3.7536 - accuracy: 0.9983 - val_loss: 5.0743 - val_accuracy: 0.9982\n",
            "Epoch 145/150\n",
            "24/24 [==============================] - 0s 17ms/step - loss: 3.7541 - accuracy: 0.9983 - val_loss: 5.0742 - val_accuracy: 0.9982\n",
            "Epoch 146/150\n",
            "24/24 [==============================] - 0s 17ms/step - loss: 3.7541 - accuracy: 0.9983 - val_loss: 5.0741 - val_accuracy: 0.9982\n",
            "Epoch 147/150\n",
            "24/24 [==============================] - 0s 17ms/step - loss: 3.7546 - accuracy: 0.9983 - val_loss: 5.0738 - val_accuracy: 0.9982\n",
            "Epoch 148/150\n",
            "24/24 [==============================] - 0s 16ms/step - loss: 3.7539 - accuracy: 0.9983 - val_loss: 5.0737 - val_accuracy: 0.9982\n",
            "Epoch 149/150\n",
            "24/24 [==============================] - 0s 16ms/step - loss: 3.7539 - accuracy: 0.9983 - val_loss: 5.0749 - val_accuracy: 0.9982\n",
            "Epoch 150/150\n",
            "24/24 [==============================] - 0s 18ms/step - loss: 3.7539 - accuracy: 0.9983 - val_loss: 5.0747 - val_accuracy: 0.9982\n"
          ],
          "name": "stdout"
        }
      ]
    },
    {
      "cell_type": "code",
      "metadata": {
        "colab": {
          "base_uri": "https://localhost:8080/",
          "height": 264
        },
        "id": "KDeQoy564yGq",
        "outputId": "ef915e77-73d6-479f-ada2-4d600a37e67b"
      },
      "source": [
        "plt.plot(history1.history1['accuracy'], label='train')\n",
        "plt.plot(history1.history1['val_accuracy'], label='target')\n",
        "plt.legend();"
      ],
      "execution_count": 179,
      "outputs": [
        {
          "output_type": "display_data",
          "data": {
            "image/png": "[encoded data removed]",
            "text/plain": [
              "<Figure size 432x288 with 1 Axes>"
            ]
          },
          "metadata": {
            "tags": [],
            "needs_background": "light"
          }
        }
      ]
    },
    {
      "cell_type": "code",
      "metadata": {
        "id": "rWOOzFOS51cH"
      },
      "source": [
        "test1 = tf.stack(test1)\n",
        "target = tf.stack(target)"
      ],
      "execution_count": 183,
      "outputs": []
    },
    {
      "cell_type": "code",
      "metadata": {
        "colab": {
          "base_uri": "https://localhost:8080/",
          "height": 370
        },
        "id": "3g36IrXj5DM6",
        "outputId": "19bfc26e-4f47-4e6b-f7bf-95c0c1d22392"
      },
      "source": [
        "history = NN_model.fit(np.array(test1),np.array(target), epochs=150, batch_size=50, validation_split = 0.2)"
      ],
      "execution_count": 185,
      "outputs": [
        {
          "output_type": "error",
          "ename": "ValueError",
          "evalue": "ignored",
          "traceback": [
            "\u001b[0;31m---------------------------------------------------------------------------\u001b[0m",
            "\u001b[0;31mValueError\u001b[0m                                Traceback (most recent call last)",
            "\u001b[0;32m<ipython-input-185-7db8a9115cba>\u001b[0m in \u001b[0;36m<module>\u001b[0;34m()\u001b[0m\n\u001b[0;32m----> 1\u001b[0;31m \u001b[0mhistory\u001b[0m \u001b[0;34m=\u001b[0m \u001b[0mNN_model\u001b[0m\u001b[0;34m.\u001b[0m\u001b[0mfit\u001b[0m\u001b[0;34m(\u001b[0m\u001b[0mnp\u001b[0m\u001b[0;34m.\u001b[0m\u001b[0marray\u001b[0m\u001b[0;34m(\u001b[0m\u001b[0mtest1\u001b[0m\u001b[0;34m)\u001b[0m\u001b[0;34m,\u001b[0m\u001b[0mnp\u001b[0m\u001b[0;34m.\u001b[0m\u001b[0marray\u001b[0m\u001b[0;34m(\u001b[0m\u001b[0mtarget\u001b[0m\u001b[0;34m)\u001b[0m\u001b[0;34m,\u001b[0m \u001b[0mepochs\u001b[0m\u001b[0;34m=\u001b[0m\u001b[0;36m150\u001b[0m\u001b[0;34m,\u001b[0m \u001b[0mbatch_size\u001b[0m\u001b[0;34m=\u001b[0m\u001b[0;36m50\u001b[0m\u001b[0;34m,\u001b[0m \u001b[0mvalidation_split\u001b[0m \u001b[0;34m=\u001b[0m \u001b[0;36m0.2\u001b[0m\u001b[0;34m)\u001b[0m\u001b[0;34m\u001b[0m\u001b[0;34m\u001b[0m\u001b[0m\n\u001b[0m",
            "\u001b[0;32m/usr/local/lib/python3.7/dist-packages/keras/engine/training.py\u001b[0m in \u001b[0;36mfit\u001b[0;34m(self, x, y, batch_size, epochs, verbose, callbacks, validation_split, validation_data, shuffle, class_weight, sample_weight, initial_epoch, steps_per_epoch, validation_steps, validation_batch_size, validation_freq, max_queue_size, workers, use_multiprocessing)\u001b[0m\n\u001b[1;32m   1120\u001b[0m           \u001b[0muse_multiprocessing\u001b[0m\u001b[0;34m=\u001b[0m\u001b[0muse_multiprocessing\u001b[0m\u001b[0;34m,\u001b[0m\u001b[0;34m\u001b[0m\u001b[0;34m\u001b[0m\u001b[0m\n\u001b[1;32m   1121\u001b[0m           \u001b[0mmodel\u001b[0m\u001b[0;34m=\u001b[0m\u001b[0mself\u001b[0m\u001b[0;34m,\u001b[0m\u001b[0;34m\u001b[0m\u001b[0;34m\u001b[0m\u001b[0m\n\u001b[0;32m-> 1122\u001b[0;31m           steps_per_execution=self._steps_per_execution)\n\u001b[0m\u001b[1;32m   1123\u001b[0m \u001b[0;34m\u001b[0m\u001b[0m\n\u001b[1;32m   1124\u001b[0m       \u001b[0;31m# Container that configures and calls `tf.keras.Callback`s.\u001b[0m\u001b[0;34m\u001b[0m\u001b[0;34m\u001b[0m\u001b[0;34m\u001b[0m\u001b[0m\n",
            "\u001b[0;32m/usr/local/lib/python3.7/dist-packages/keras/engine/data_adapter.py\u001b[0m in \u001b[0;36mget_data_handler\u001b[0;34m(*args, **kwargs)\u001b[0m\n\u001b[1;32m   1346\u001b[0m   \u001b[0;32mif\u001b[0m \u001b[0mgetattr\u001b[0m\u001b[0;34m(\u001b[0m\u001b[0mkwargs\u001b[0m\u001b[0;34m[\u001b[0m\u001b[0;34m\"model\"\u001b[0m\u001b[0;34m]\u001b[0m\u001b[0;34m,\u001b[0m \u001b[0;34m\"_cluster_coordinator\"\u001b[0m\u001b[0;34m,\u001b[0m \u001b[0;32mNone\u001b[0m\u001b[0;34m)\u001b[0m\u001b[0;34m:\u001b[0m\u001b[0;34m\u001b[0m\u001b[0;34m\u001b[0m\u001b[0m\n\u001b[1;32m   1347\u001b[0m     \u001b[0;32mreturn\u001b[0m \u001b[0m_ClusterCoordinatorDataHandler\u001b[0m\u001b[0;34m(\u001b[0m\u001b[0;34m*\u001b[0m\u001b[0margs\u001b[0m\u001b[0;34m,\u001b[0m \u001b[0;34m**\u001b[0m\u001b[0mkwargs\u001b[0m\u001b[0;34m)\u001b[0m\u001b[0;34m\u001b[0m\u001b[0;34m\u001b[0m\u001b[0m\n\u001b[0;32m-> 1348\u001b[0;31m   \u001b[0;32mreturn\u001b[0m \u001b[0mDataHandler\u001b[0m\u001b[0;34m(\u001b[0m\u001b[0;34m*\u001b[0m\u001b[0margs\u001b[0m\u001b[0;34m,\u001b[0m \u001b[0;34m**\u001b[0m\u001b[0mkwargs\u001b[0m\u001b[0;34m)\u001b[0m\u001b[0;34m\u001b[0m\u001b[0;34m\u001b[0m\u001b[0m\n\u001b[0m\u001b[1;32m   1349\u001b[0m \u001b[0;34m\u001b[0m\u001b[0m\n\u001b[1;32m   1350\u001b[0m \u001b[0;34m\u001b[0m\u001b[0m\n",
            "\u001b[0;32m/usr/local/lib/python3.7/dist-packages/keras/engine/data_adapter.py\u001b[0m in \u001b[0;36m__init__\u001b[0;34m(self, x, y, sample_weight, batch_size, steps_per_epoch, initial_epoch, epochs, shuffle, class_weight, max_queue_size, workers, use_multiprocessing, model, steps_per_execution, distribute)\u001b[0m\n\u001b[1;32m   1148\u001b[0m         \u001b[0muse_multiprocessing\u001b[0m\u001b[0;34m=\u001b[0m\u001b[0muse_multiprocessing\u001b[0m\u001b[0;34m,\u001b[0m\u001b[0;34m\u001b[0m\u001b[0;34m\u001b[0m\u001b[0m\n\u001b[1;32m   1149\u001b[0m         \u001b[0mdistribution_strategy\u001b[0m\u001b[0;34m=\u001b[0m\u001b[0mtf\u001b[0m\u001b[0;34m.\u001b[0m\u001b[0mdistribute\u001b[0m\u001b[0;34m.\u001b[0m\u001b[0mget_strategy\u001b[0m\u001b[0;34m(\u001b[0m\u001b[0;34m)\u001b[0m\u001b[0;34m,\u001b[0m\u001b[0;34m\u001b[0m\u001b[0;34m\u001b[0m\u001b[0m\n\u001b[0;32m-> 1150\u001b[0;31m         model=model)\n\u001b[0m\u001b[1;32m   1151\u001b[0m \u001b[0;34m\u001b[0m\u001b[0m\n\u001b[1;32m   1152\u001b[0m     \u001b[0mstrategy\u001b[0m \u001b[0;34m=\u001b[0m \u001b[0mtf\u001b[0m\u001b[0;34m.\u001b[0m\u001b[0mdistribute\u001b[0m\u001b[0;34m.\u001b[0m\u001b[0mget_strategy\u001b[0m\u001b[0;34m(\u001b[0m\u001b[0;34m)\u001b[0m\u001b[0;34m\u001b[0m\u001b[0;34m\u001b[0m\u001b[0m\n",
            "\u001b[0;32m/usr/local/lib/python3.7/dist-packages/keras/engine/data_adapter.py\u001b[0m in \u001b[0;36m__init__\u001b[0;34m(self, x, y, sample_weights, sample_weight_modes, batch_size, epochs, steps, shuffle, **kwargs)\u001b[0m\n\u001b[1;32m    240\u001b[0m \u001b[0;34m\u001b[0m\u001b[0m\n\u001b[1;32m    241\u001b[0m     \u001b[0mnum_samples\u001b[0m \u001b[0;34m=\u001b[0m \u001b[0mset\u001b[0m\u001b[0;34m(\u001b[0m\u001b[0mint\u001b[0m\u001b[0;34m(\u001b[0m\u001b[0mi\u001b[0m\u001b[0;34m.\u001b[0m\u001b[0mshape\u001b[0m\u001b[0;34m[\u001b[0m\u001b[0;36m0\u001b[0m\u001b[0;34m]\u001b[0m\u001b[0;34m)\u001b[0m \u001b[0;32mfor\u001b[0m \u001b[0mi\u001b[0m \u001b[0;32min\u001b[0m \u001b[0mtf\u001b[0m\u001b[0;34m.\u001b[0m\u001b[0mnest\u001b[0m\u001b[0;34m.\u001b[0m\u001b[0mflatten\u001b[0m\u001b[0;34m(\u001b[0m\u001b[0minputs\u001b[0m\u001b[0;34m)\u001b[0m\u001b[0;34m)\u001b[0m\u001b[0;34m.\u001b[0m\u001b[0mpop\u001b[0m\u001b[0;34m(\u001b[0m\u001b[0;34m)\u001b[0m\u001b[0;34m\u001b[0m\u001b[0;34m\u001b[0m\u001b[0m\n\u001b[0;32m--> 242\u001b[0;31m     \u001b[0m_check_data_cardinality\u001b[0m\u001b[0;34m(\u001b[0m\u001b[0minputs\u001b[0m\u001b[0;34m)\u001b[0m\u001b[0;34m\u001b[0m\u001b[0;34m\u001b[0m\u001b[0m\n\u001b[0m\u001b[1;32m    243\u001b[0m \u001b[0;34m\u001b[0m\u001b[0m\n\u001b[1;32m    244\u001b[0m     \u001b[0;31m# If batch_size is not passed but steps is, calculate from the input data.\u001b[0m\u001b[0;34m\u001b[0m\u001b[0;34m\u001b[0m\u001b[0;34m\u001b[0m\u001b[0m\n",
            "\u001b[0;32m/usr/local/lib/python3.7/dist-packages/keras/engine/data_adapter.py\u001b[0m in \u001b[0;36m_check_data_cardinality\u001b[0;34m(data)\u001b[0m\n\u001b[1;32m   1612\u001b[0m           label, \", \".join(str(i.shape[0]) for i in tf.nest.flatten(single_data)))\n\u001b[1;32m   1613\u001b[0m     \u001b[0mmsg\u001b[0m \u001b[0;34m+=\u001b[0m \u001b[0;34m\"Make sure all arrays contain the same number of samples.\"\u001b[0m\u001b[0;34m\u001b[0m\u001b[0;34m\u001b[0m\u001b[0m\n\u001b[0;32m-> 1614\u001b[0;31m     \u001b[0;32mraise\u001b[0m \u001b[0mValueError\u001b[0m\u001b[0;34m(\u001b[0m\u001b[0mmsg\u001b[0m\u001b[0;34m)\u001b[0m\u001b[0;34m\u001b[0m\u001b[0;34m\u001b[0m\u001b[0m\n\u001b[0m\u001b[1;32m   1615\u001b[0m \u001b[0;34m\u001b[0m\u001b[0m\n\u001b[1;32m   1616\u001b[0m \u001b[0;34m\u001b[0m\u001b[0m\n",
            "\u001b[0;31mValueError\u001b[0m: Data cardinality is ambiguous:\n  x sizes: 2479\n  y sizes: 1956\nMake sure all arrays contain the same number of samples."
          ]
        }
      ]
    }
  ]
}
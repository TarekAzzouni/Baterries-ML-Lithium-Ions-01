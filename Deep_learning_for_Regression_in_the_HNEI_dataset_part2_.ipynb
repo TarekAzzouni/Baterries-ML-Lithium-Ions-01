{
  "nbformat": 4,
  "nbformat_minor": 0,
  "metadata": {
    "colab": {
      "name": "Deep learning for Regression in the HNEI dataset part2 .ipynb",
      "provenance": [],
      "authorship_tag": "ABX9TyPqKBdoHQtQhblU3gr+1nmh",
      "include_colab_link": true
    },
    "kernelspec": {
      "name": "python3",
      "display_name": "Python 3"
    },
    "language_info": {
      "name": "python"
    }
  },
  "cells": [
    {
      "cell_type": "markdown",
      "metadata": {
        "id": "view-in-github",
        "colab_type": "text"
      },
      "source": [
        "<a href=\"https://colab.research.google.com/github/TarekAzzouni/Baterries-ML-Lithium-Ions-01/blob/main/Deep_learning_for_Regression_in_the_HNEI_dataset_part2_.ipynb\" target=\"_parent\"><img src=\"https://colab.research.google.com/assets/colab-badge.svg\" alt=\"Open In Colab\"/></a>"
      ]
    },
    {
      "cell_type": "code",
      "metadata": {
        "id": "1dIK5D6OnJkw"
      },
      "source": [
        "import numpy as np \n",
        "import pandas as pd\n",
        "import seaborn as sns\n",
        "\n",
        "from matplotlib.colors import ListedColormap\n",
        "from sklearn.metrics import plot_confusion_matrix\n",
        "from scipy.stats import norm, boxcox\n",
        "from sklearn.metrics import confusion_matrix, classification_report, accuracy_score\n",
        "from collections import Counter\n",
        "from scipy import stats\n",
        "\n",
        "import tensorflow as tf\n",
        "import matplotlib.pyplot as plt\n",
        "\n",
        "import io\n",
        "import requests\n",
        "\n",
        "\n",
        "from warnings import simplefilter\n",
        "import warnings\n",
        "# ignore all warnings\n",
        "simplefilter(action='ignore')\n",
        "\n",
        "from keras.callbacks import ModelCheckpoint\n",
        "from keras.models import Sequential\n",
        "from keras.layers import Dense, Activation, Flatten\n",
        "from sklearn.model_selection import train_test_split\n",
        "from sklearn.ensemble import RandomForestRegressor\n",
        "from sklearn.metrics import mean_absolute_error \n",
        "from matplotlib import pyplot as plt\n",
        "import seaborn as sb\n",
        "\n",
        "import warnings \n",
        "warnings.filterwarnings('ignore')\n",
        "warnings.filterwarnings('ignore', category=DeprecationWarning)\n",
        "from xgboost import XGBRegressor"
      ],
      "execution_count": 133,
      "outputs": []
    },
    {
      "cell_type": "code",
      "metadata": {
        "id": "kj07k0tAnmia"
      },
      "source": [
        "url=\"https://www.batteryarchive.org/data/HNEI_18650_NMC_LCO_25C_0-100_0.5-1.5C_a_timeseries.csv\"\n",
        "s = requests.get(url).content\n",
        "df = pd.read_csv(io.StringIO(s.decode('utf-8')))"
      ],
      "execution_count": 112,
      "outputs": []
    },
    {
      "cell_type": "code",
      "metadata": {
        "colab": {
          "base_uri": "https://localhost:8080/",
          "height": 302
        },
        "id": "nftDhI71nqjY",
        "outputId": "05d921ef-80e4-4026-a83a-ef0513a7c5e9"
      },
      "source": [
        "df.head()"
      ],
      "execution_count": 113,
      "outputs": [
        {
          "output_type": "execute_result",
          "data": {
            "text/html": [
              "<div>\n",
              "<style scoped>\n",
              "    .dataframe tbody tr th:only-of-type {\n",
              "        vertical-align: middle;\n",
              "    }\n",
              "\n",
              "    .dataframe tbody tr th {\n",
              "        vertical-align: top;\n",
              "    }\n",
              "\n",
              "    .dataframe thead th {\n",
              "        text-align: right;\n",
              "    }\n",
              "</style>\n",
              "<table border=\"1\" class=\"dataframe\">\n",
              "  <thead>\n",
              "    <tr style=\"text-align: right;\">\n",
              "      <th></th>\n",
              "      <th>Date_Time</th>\n",
              "      <th>Test_Time (s)</th>\n",
              "      <th>Cycle_Index</th>\n",
              "      <th>Current (A)</th>\n",
              "      <th>Voltage (V)</th>\n",
              "      <th>Charge_Capacity (Ah)</th>\n",
              "      <th>Discharge_Capacity (Ah)</th>\n",
              "      <th>Charge_Energy (Wh)</th>\n",
              "      <th>Discharge_Energy (Wh)</th>\n",
              "      <th>Environment_Temperature (C)</th>\n",
              "      <th>Cell_Temperature (C)</th>\n",
              "    </tr>\n",
              "  </thead>\n",
              "  <tbody>\n",
              "    <tr>\n",
              "      <th>0</th>\n",
              "      <td>2013-05-22 11:46:56</td>\n",
              "      <td>30.014</td>\n",
              "      <td>1.0</td>\n",
              "      <td>0.000</td>\n",
              "      <td>3.779</td>\n",
              "      <td>0.0</td>\n",
              "      <td>0.000</td>\n",
              "      <td>0.0</td>\n",
              "      <td>0.000</td>\n",
              "      <td>NaN</td>\n",
              "      <td>NaN</td>\n",
              "    </tr>\n",
              "    <tr>\n",
              "      <th>1</th>\n",
              "      <td>2013-05-22 11:47:26</td>\n",
              "      <td>59.999</td>\n",
              "      <td>1.0</td>\n",
              "      <td>0.000</td>\n",
              "      <td>3.779</td>\n",
              "      <td>0.0</td>\n",
              "      <td>0.000</td>\n",
              "      <td>0.0</td>\n",
              "      <td>0.000</td>\n",
              "      <td>NaN</td>\n",
              "      <td>NaN</td>\n",
              "    </tr>\n",
              "    <tr>\n",
              "      <th>2</th>\n",
              "      <td>2013-05-22 11:47:33</td>\n",
              "      <td>67.294</td>\n",
              "      <td>1.0</td>\n",
              "      <td>-1.398</td>\n",
              "      <td>3.670</td>\n",
              "      <td>0.0</td>\n",
              "      <td>0.001</td>\n",
              "      <td>0.0</td>\n",
              "      <td>0.005</td>\n",
              "      <td>NaN</td>\n",
              "      <td>NaN</td>\n",
              "    </tr>\n",
              "    <tr>\n",
              "      <th>3</th>\n",
              "      <td>2013-05-22 11:47:41</td>\n",
              "      <td>74.303</td>\n",
              "      <td>1.0</td>\n",
              "      <td>-1.398</td>\n",
              "      <td>3.664</td>\n",
              "      <td>0.0</td>\n",
              "      <td>0.004</td>\n",
              "      <td>0.0</td>\n",
              "      <td>0.015</td>\n",
              "      <td>NaN</td>\n",
              "      <td>NaN</td>\n",
              "    </tr>\n",
              "    <tr>\n",
              "      <th>4</th>\n",
              "      <td>2013-05-22 11:47:48</td>\n",
              "      <td>81.310</td>\n",
              "      <td>1.0</td>\n",
              "      <td>-1.399</td>\n",
              "      <td>3.659</td>\n",
              "      <td>0.0</td>\n",
              "      <td>0.006</td>\n",
              "      <td>0.0</td>\n",
              "      <td>0.025</td>\n",
              "      <td>NaN</td>\n",
              "      <td>NaN</td>\n",
              "    </tr>\n",
              "  </tbody>\n",
              "</table>\n",
              "</div>"
            ],
            "text/plain": [
              "             Date_Time  ...  Cell_Temperature (C)\n",
              "0  2013-05-22 11:46:56  ...                   NaN\n",
              "1  2013-05-22 11:47:26  ...                   NaN\n",
              "2  2013-05-22 11:47:33  ...                   NaN\n",
              "3  2013-05-22 11:47:41  ...                   NaN\n",
              "4  2013-05-22 11:47:48  ...                   NaN\n",
              "\n",
              "[5 rows x 11 columns]"
            ]
          },
          "metadata": {
            "tags": []
          },
          "execution_count": 113
        }
      ]
    },
    {
      "cell_type": "code",
      "metadata": {
        "colab": {
          "base_uri": "https://localhost:8080/",
          "height": 597
        },
        "id": "E0RHHIo_nrj_",
        "outputId": "16829c09-957e-4d0a-b172-6e7f37482e61"
      },
      "source": [
        "train = df[df['Cycle_Index'] == 1 ]\n",
        "train"
      ],
      "execution_count": 114,
      "outputs": [
        {
          "output_type": "execute_result",
          "data": {
            "text/html": [
              "<div>\n",
              "<style scoped>\n",
              "    .dataframe tbody tr th:only-of-type {\n",
              "        vertical-align: middle;\n",
              "    }\n",
              "\n",
              "    .dataframe tbody tr th {\n",
              "        vertical-align: top;\n",
              "    }\n",
              "\n",
              "    .dataframe thead th {\n",
              "        text-align: right;\n",
              "    }\n",
              "</style>\n",
              "<table border=\"1\" class=\"dataframe\">\n",
              "  <thead>\n",
              "    <tr style=\"text-align: right;\">\n",
              "      <th></th>\n",
              "      <th>Date_Time</th>\n",
              "      <th>Test_Time (s)</th>\n",
              "      <th>Cycle_Index</th>\n",
              "      <th>Current (A)</th>\n",
              "      <th>Voltage (V)</th>\n",
              "      <th>Charge_Capacity (Ah)</th>\n",
              "      <th>Discharge_Capacity (Ah)</th>\n",
              "      <th>Charge_Energy (Wh)</th>\n",
              "      <th>Discharge_Energy (Wh)</th>\n",
              "      <th>Environment_Temperature (C)</th>\n",
              "      <th>Cell_Temperature (C)</th>\n",
              "    </tr>\n",
              "  </thead>\n",
              "  <tbody>\n",
              "    <tr>\n",
              "      <th>0</th>\n",
              "      <td>2013-05-22 11:46:56</td>\n",
              "      <td>30.014</td>\n",
              "      <td>1.0</td>\n",
              "      <td>0.000</td>\n",
              "      <td>3.779</td>\n",
              "      <td>0.000</td>\n",
              "      <td>0.000</td>\n",
              "      <td>0.00</td>\n",
              "      <td>0.000</td>\n",
              "      <td>NaN</td>\n",
              "      <td>NaN</td>\n",
              "    </tr>\n",
              "    <tr>\n",
              "      <th>1</th>\n",
              "      <td>2013-05-22 11:47:26</td>\n",
              "      <td>59.999</td>\n",
              "      <td>1.0</td>\n",
              "      <td>0.000</td>\n",
              "      <td>3.779</td>\n",
              "      <td>0.000</td>\n",
              "      <td>0.000</td>\n",
              "      <td>0.00</td>\n",
              "      <td>0.000</td>\n",
              "      <td>NaN</td>\n",
              "      <td>NaN</td>\n",
              "    </tr>\n",
              "    <tr>\n",
              "      <th>2</th>\n",
              "      <td>2013-05-22 11:47:33</td>\n",
              "      <td>67.294</td>\n",
              "      <td>1.0</td>\n",
              "      <td>-1.398</td>\n",
              "      <td>3.670</td>\n",
              "      <td>0.000</td>\n",
              "      <td>0.001</td>\n",
              "      <td>0.00</td>\n",
              "      <td>0.005</td>\n",
              "      <td>NaN</td>\n",
              "      <td>NaN</td>\n",
              "    </tr>\n",
              "    <tr>\n",
              "      <th>3</th>\n",
              "      <td>2013-05-22 11:47:41</td>\n",
              "      <td>74.303</td>\n",
              "      <td>1.0</td>\n",
              "      <td>-1.398</td>\n",
              "      <td>3.664</td>\n",
              "      <td>0.000</td>\n",
              "      <td>0.004</td>\n",
              "      <td>0.00</td>\n",
              "      <td>0.015</td>\n",
              "      <td>NaN</td>\n",
              "      <td>NaN</td>\n",
              "    </tr>\n",
              "    <tr>\n",
              "      <th>4</th>\n",
              "      <td>2013-05-22 11:47:48</td>\n",
              "      <td>81.310</td>\n",
              "      <td>1.0</td>\n",
              "      <td>-1.399</td>\n",
              "      <td>3.659</td>\n",
              "      <td>0.000</td>\n",
              "      <td>0.006</td>\n",
              "      <td>0.00</td>\n",
              "      <td>0.025</td>\n",
              "      <td>NaN</td>\n",
              "      <td>NaN</td>\n",
              "    </tr>\n",
              "    <tr>\n",
              "      <th>...</th>\n",
              "      <td>...</td>\n",
              "      <td>...</td>\n",
              "      <td>...</td>\n",
              "      <td>...</td>\n",
              "      <td>...</td>\n",
              "      <td>...</td>\n",
              "      <td>...</td>\n",
              "      <td>...</td>\n",
              "      <td>...</td>\n",
              "      <td>...</td>\n",
              "      <td>...</td>\n",
              "    </tr>\n",
              "    <tr>\n",
              "      <th>1951</th>\n",
              "      <td>2013-05-22 15:49:05</td>\n",
              "      <td>14558.462</td>\n",
              "      <td>1.0</td>\n",
              "      <td>0.000</td>\n",
              "      <td>4.342</td>\n",
              "      <td>2.869</td>\n",
              "      <td>0.000</td>\n",
              "      <td>11.58</td>\n",
              "      <td>0.000</td>\n",
              "      <td>NaN</td>\n",
              "      <td>NaN</td>\n",
              "    </tr>\n",
              "    <tr>\n",
              "      <th>1952</th>\n",
              "      <td>2013-05-22 15:49:35</td>\n",
              "      <td>14588.447</td>\n",
              "      <td>1.0</td>\n",
              "      <td>0.000</td>\n",
              "      <td>4.341</td>\n",
              "      <td>2.869</td>\n",
              "      <td>0.000</td>\n",
              "      <td>11.58</td>\n",
              "      <td>0.000</td>\n",
              "      <td>NaN</td>\n",
              "      <td>NaN</td>\n",
              "    </tr>\n",
              "    <tr>\n",
              "      <th>1953</th>\n",
              "      <td>2013-05-22 15:50:05</td>\n",
              "      <td>14618.462</td>\n",
              "      <td>1.0</td>\n",
              "      <td>0.000</td>\n",
              "      <td>4.341</td>\n",
              "      <td>2.869</td>\n",
              "      <td>0.000</td>\n",
              "      <td>11.58</td>\n",
              "      <td>0.000</td>\n",
              "      <td>NaN</td>\n",
              "      <td>NaN</td>\n",
              "    </tr>\n",
              "    <tr>\n",
              "      <th>1954</th>\n",
              "      <td>2013-05-22 15:50:34</td>\n",
              "      <td>14648.447</td>\n",
              "      <td>1.0</td>\n",
              "      <td>0.000</td>\n",
              "      <td>4.341</td>\n",
              "      <td>2.869</td>\n",
              "      <td>0.000</td>\n",
              "      <td>11.58</td>\n",
              "      <td>0.000</td>\n",
              "      <td>NaN</td>\n",
              "      <td>NaN</td>\n",
              "    </tr>\n",
              "    <tr>\n",
              "      <th>1955</th>\n",
              "      <td>2013-05-22 15:50:35</td>\n",
              "      <td>14648.447</td>\n",
              "      <td>1.0</td>\n",
              "      <td>0.000</td>\n",
              "      <td>4.341</td>\n",
              "      <td>2.869</td>\n",
              "      <td>0.000</td>\n",
              "      <td>11.58</td>\n",
              "      <td>0.000</td>\n",
              "      <td>NaN</td>\n",
              "      <td>NaN</td>\n",
              "    </tr>\n",
              "  </tbody>\n",
              "</table>\n",
              "<p>1956 rows × 11 columns</p>\n",
              "</div>"
            ],
            "text/plain": [
              "                Date_Time  ...  Cell_Temperature (C)\n",
              "0     2013-05-22 11:46:56  ...                   NaN\n",
              "1     2013-05-22 11:47:26  ...                   NaN\n",
              "2     2013-05-22 11:47:33  ...                   NaN\n",
              "3     2013-05-22 11:47:41  ...                   NaN\n",
              "4     2013-05-22 11:47:48  ...                   NaN\n",
              "...                   ...  ...                   ...\n",
              "1951  2013-05-22 15:49:05  ...                   NaN\n",
              "1952  2013-05-22 15:49:35  ...                   NaN\n",
              "1953  2013-05-22 15:50:05  ...                   NaN\n",
              "1954  2013-05-22 15:50:34  ...                   NaN\n",
              "1955  2013-05-22 15:50:35  ...                   NaN\n",
              "\n",
              "[1956 rows x 11 columns]"
            ]
          },
          "metadata": {
            "tags": []
          },
          "execution_count": 114
        }
      ]
    },
    {
      "cell_type": "code",
      "metadata": {
        "id": "jRTEgGyLojcA"
      },
      "source": [
        "test = df[df['Cycle_Index'] == 2 ]"
      ],
      "execution_count": 115,
      "outputs": []
    },
    {
      "cell_type": "code",
      "metadata": {
        "id": "Jpm8-1MbovrH"
      },
      "source": [
        "def get_data():\n",
        "    #get train data\n",
        "    #train_data_path ='train.csv'\n",
        "    train = df[df['Cycle_Index'] == 1 ]\n",
        "    \n",
        "    #get test data\n",
        "    #test_data_path ='test.csv'\n",
        "    test = df[df['Cycle_Index'] == 2 ]\n",
        "    \n",
        "    return train , test\n",
        "\n"
      ],
      "execution_count": 116,
      "outputs": []
    },
    {
      "cell_type": "code",
      "metadata": {
        "id": "c-agIuTEpOPW"
      },
      "source": [
        "#rename the charge capacity\n",
        "train = train.rename(columns={'Charge_Capacity (Ah)': 'Charge_Capacity'})\n",
        "test = test.rename(columns={'Charge_Capacity (Ah)': 'Charge_Capacity'})"
      ],
      "execution_count": 117,
      "outputs": []
    },
    {
      "cell_type": "code",
      "metadata": {
        "id": "UPiIKpzptvef"
      },
      "source": [
        "train1 = train.drop(['Environment_Temperature (C)','Cell_Temperature (C)','Date_Time'],axis=1)\n",
        "test1 = test.drop(['Environment_Temperature (C)','Cell_Temperature (C)','Date_Time'],axis=1)"
      ],
      "execution_count": 118,
      "outputs": []
    },
    {
      "cell_type": "code",
      "metadata": {
        "colab": {
          "base_uri": "https://localhost:8080/",
          "height": 414
        },
        "id": "JeThOGmUqvQm",
        "outputId": "6cec9af7-0c60-4f54-fde9-e970d48d2f14"
      },
      "source": [
        "train1"
      ],
      "execution_count": 119,
      "outputs": [
        {
          "output_type": "execute_result",
          "data": {
            "text/html": [
              "<div>\n",
              "<style scoped>\n",
              "    .dataframe tbody tr th:only-of-type {\n",
              "        vertical-align: middle;\n",
              "    }\n",
              "\n",
              "    .dataframe tbody tr th {\n",
              "        vertical-align: top;\n",
              "    }\n",
              "\n",
              "    .dataframe thead th {\n",
              "        text-align: right;\n",
              "    }\n",
              "</style>\n",
              "<table border=\"1\" class=\"dataframe\">\n",
              "  <thead>\n",
              "    <tr style=\"text-align: right;\">\n",
              "      <th></th>\n",
              "      <th>Test_Time (s)</th>\n",
              "      <th>Cycle_Index</th>\n",
              "      <th>Current (A)</th>\n",
              "      <th>Voltage (V)</th>\n",
              "      <th>Charge_Capacity</th>\n",
              "      <th>Discharge_Capacity (Ah)</th>\n",
              "      <th>Charge_Energy (Wh)</th>\n",
              "      <th>Discharge_Energy (Wh)</th>\n",
              "    </tr>\n",
              "  </thead>\n",
              "  <tbody>\n",
              "    <tr>\n",
              "      <th>0</th>\n",
              "      <td>30.014</td>\n",
              "      <td>1.0</td>\n",
              "      <td>0.000</td>\n",
              "      <td>3.779</td>\n",
              "      <td>0.000</td>\n",
              "      <td>0.000</td>\n",
              "      <td>0.00</td>\n",
              "      <td>0.000</td>\n",
              "    </tr>\n",
              "    <tr>\n",
              "      <th>1</th>\n",
              "      <td>59.999</td>\n",
              "      <td>1.0</td>\n",
              "      <td>0.000</td>\n",
              "      <td>3.779</td>\n",
              "      <td>0.000</td>\n",
              "      <td>0.000</td>\n",
              "      <td>0.00</td>\n",
              "      <td>0.000</td>\n",
              "    </tr>\n",
              "    <tr>\n",
              "      <th>2</th>\n",
              "      <td>67.294</td>\n",
              "      <td>1.0</td>\n",
              "      <td>-1.398</td>\n",
              "      <td>3.670</td>\n",
              "      <td>0.000</td>\n",
              "      <td>0.001</td>\n",
              "      <td>0.00</td>\n",
              "      <td>0.005</td>\n",
              "    </tr>\n",
              "    <tr>\n",
              "      <th>3</th>\n",
              "      <td>74.303</td>\n",
              "      <td>1.0</td>\n",
              "      <td>-1.398</td>\n",
              "      <td>3.664</td>\n",
              "      <td>0.000</td>\n",
              "      <td>0.004</td>\n",
              "      <td>0.00</td>\n",
              "      <td>0.015</td>\n",
              "    </tr>\n",
              "    <tr>\n",
              "      <th>4</th>\n",
              "      <td>81.310</td>\n",
              "      <td>1.0</td>\n",
              "      <td>-1.399</td>\n",
              "      <td>3.659</td>\n",
              "      <td>0.000</td>\n",
              "      <td>0.006</td>\n",
              "      <td>0.00</td>\n",
              "      <td>0.025</td>\n",
              "    </tr>\n",
              "    <tr>\n",
              "      <th>...</th>\n",
              "      <td>...</td>\n",
              "      <td>...</td>\n",
              "      <td>...</td>\n",
              "      <td>...</td>\n",
              "      <td>...</td>\n",
              "      <td>...</td>\n",
              "      <td>...</td>\n",
              "      <td>...</td>\n",
              "    </tr>\n",
              "    <tr>\n",
              "      <th>1951</th>\n",
              "      <td>14558.462</td>\n",
              "      <td>1.0</td>\n",
              "      <td>0.000</td>\n",
              "      <td>4.342</td>\n",
              "      <td>2.869</td>\n",
              "      <td>0.000</td>\n",
              "      <td>11.58</td>\n",
              "      <td>0.000</td>\n",
              "    </tr>\n",
              "    <tr>\n",
              "      <th>1952</th>\n",
              "      <td>14588.447</td>\n",
              "      <td>1.0</td>\n",
              "      <td>0.000</td>\n",
              "      <td>4.341</td>\n",
              "      <td>2.869</td>\n",
              "      <td>0.000</td>\n",
              "      <td>11.58</td>\n",
              "      <td>0.000</td>\n",
              "    </tr>\n",
              "    <tr>\n",
              "      <th>1953</th>\n",
              "      <td>14618.462</td>\n",
              "      <td>1.0</td>\n",
              "      <td>0.000</td>\n",
              "      <td>4.341</td>\n",
              "      <td>2.869</td>\n",
              "      <td>0.000</td>\n",
              "      <td>11.58</td>\n",
              "      <td>0.000</td>\n",
              "    </tr>\n",
              "    <tr>\n",
              "      <th>1954</th>\n",
              "      <td>14648.447</td>\n",
              "      <td>1.0</td>\n",
              "      <td>0.000</td>\n",
              "      <td>4.341</td>\n",
              "      <td>2.869</td>\n",
              "      <td>0.000</td>\n",
              "      <td>11.58</td>\n",
              "      <td>0.000</td>\n",
              "    </tr>\n",
              "    <tr>\n",
              "      <th>1955</th>\n",
              "      <td>14648.447</td>\n",
              "      <td>1.0</td>\n",
              "      <td>0.000</td>\n",
              "      <td>4.341</td>\n",
              "      <td>2.869</td>\n",
              "      <td>0.000</td>\n",
              "      <td>11.58</td>\n",
              "      <td>0.000</td>\n",
              "    </tr>\n",
              "  </tbody>\n",
              "</table>\n",
              "<p>1956 rows × 8 columns</p>\n",
              "</div>"
            ],
            "text/plain": [
              "      Test_Time (s)  Cycle_Index  ...  Charge_Energy (Wh)  Discharge_Energy (Wh)\n",
              "0            30.014          1.0  ...                0.00                  0.000\n",
              "1            59.999          1.0  ...                0.00                  0.000\n",
              "2            67.294          1.0  ...                0.00                  0.005\n",
              "3            74.303          1.0  ...                0.00                  0.015\n",
              "4            81.310          1.0  ...                0.00                  0.025\n",
              "...             ...          ...  ...                 ...                    ...\n",
              "1951      14558.462          1.0  ...               11.58                  0.000\n",
              "1952      14588.447          1.0  ...               11.58                  0.000\n",
              "1953      14618.462          1.0  ...               11.58                  0.000\n",
              "1954      14648.447          1.0  ...               11.58                  0.000\n",
              "1955      14648.447          1.0  ...               11.58                  0.000\n",
              "\n",
              "[1956 rows x 8 columns]"
            ]
          },
          "metadata": {
            "tags": []
          },
          "execution_count": 119
        }
      ]
    },
    {
      "cell_type": "code",
      "metadata": {
        "id": "EJN20myzraZH"
      },
      "source": [
        "Col_target = [\"Charge_Capacity\"]\n",
        "target = train1[Col_target]"
      ],
      "execution_count": 120,
      "outputs": []
    },
    {
      "cell_type": "code",
      "metadata": {
        "colab": {
          "base_uri": "https://localhost:8080/"
        },
        "id": "TICv9OhfsBuc",
        "outputId": "12f675c1-ff30-4346-ec5a-c126032b0e6c"
      },
      "source": [
        "train1.columns"
      ],
      "execution_count": 121,
      "outputs": [
        {
          "output_type": "execute_result",
          "data": {
            "text/plain": [
              "Index(['Test_Time (s)', 'Cycle_Index', 'Current (A)', 'Voltage (V)',\n",
              "       'Charge_Capacity', 'Discharge_Capacity (Ah)', 'Charge_Energy (Wh)',\n",
              "       'Discharge_Energy (Wh)'],\n",
              "      dtype='object')"
            ]
          },
          "metadata": {
            "tags": []
          },
          "execution_count": 121
        }
      ]
    },
    {
      "cell_type": "code",
      "metadata": {
        "id": "4H6CruFnpPm_"
      },
      "source": [
        "\n",
        "\n",
        "def get_combined_data():\n",
        "  #reading train data\n",
        "  train1 , test1 = get_data()\n",
        "  #train.drop(['Charge_Capacity'],axis = 1 , inplace = True)\n",
        "\n",
        "  combined = train1.append(test)\n",
        "  combined.reset_index(inplace=True)\n",
        "  combined.drop(['Environment_Temperature (C)', 'Cell_Temperature (C)'], inplace=True, axis=1)\n",
        "  return combined, target\n",
        "\n",
        "#Load train and test data into pandas DataFrames\n",
        "train_data, test_data = get_data()\n",
        "\n",
        "#Combine train and test data to process them together\n",
        "combined, target = get_combined_data()"
      ],
      "execution_count": 122,
      "outputs": []
    },
    {
      "cell_type": "code",
      "metadata": {
        "colab": {
          "base_uri": "https://localhost:8080/"
        },
        "id": "DmeEOBqHpRUX",
        "outputId": "27f7800f-80ae-4050-fcd9-b5d2bc8f57f2"
      },
      "source": [
        "combined.info()"
      ],
      "execution_count": 123,
      "outputs": [
        {
          "output_type": "stream",
          "text": [
            "<class 'pandas.core.frame.DataFrame'>\n",
            "RangeIndex: 4559 entries, 0 to 4558\n",
            "Data columns (total 11 columns):\n",
            " #   Column                   Non-Null Count  Dtype  \n",
            "---  ------                   --------------  -----  \n",
            " 0   index                    4559 non-null   int64  \n",
            " 1   Date_Time                4559 non-null   object \n",
            " 2   Test_Time (s)            4559 non-null   float64\n",
            " 3   Cycle_Index              4559 non-null   float64\n",
            " 4   Current (A)              4559 non-null   float64\n",
            " 5   Voltage (V)              4559 non-null   float64\n",
            " 6   Charge_Capacity (Ah)     1956 non-null   float64\n",
            " 7   Discharge_Capacity (Ah)  4559 non-null   float64\n",
            " 8   Charge_Energy (Wh)       4559 non-null   float64\n",
            " 9   Discharge_Energy (Wh)    4559 non-null   float64\n",
            " 10  Charge_Capacity          2603 non-null   float64\n",
            "dtypes: float64(9), int64(1), object(1)\n",
            "memory usage: 391.9+ KB\n"
          ],
          "name": "stdout"
        }
      ]
    },
    {
      "cell_type": "code",
      "metadata": {
        "id": "zImZPaj8slgp"
      },
      "source": [
        "def get_cols_with_no_nans(df1,col_type):\n",
        "    '''\n",
        "    Arguments :\n",
        "    df : The dataframe to process\n",
        "    col_type : \n",
        "          num : to only get numerical columns with no nans\n",
        "          no_num : to only get nun-numerical columns with no nans\n",
        "          all : to get any columns with no nans    \n",
        "    '''\n",
        "    if (col_type == 'num'):\n",
        "        predictors = df1.select_dtypes(exclude=['object'])\n",
        "    elif (col_type == 'no_num'):\n",
        "        predictors = df1.select_dtypes(include=['object'])\n",
        "    elif (col_type == 'all'):\n",
        "        predictors = df1\n",
        "    else :\n",
        "        print('Error : choose a type (num, no_num, all)')\n",
        "        return 0\n",
        "    cols_with_no_nans = []\n",
        "    for col in predictors.columns:\n",
        "        if not df1[col].isnull().any():\n",
        "            cols_with_no_nans.append(col)\n",
        "    return cols_with_no_nans"
      ],
      "execution_count": 124,
      "outputs": []
    },
    {
      "cell_type": "code",
      "metadata": {
        "id": "J_GRCn_Isqdq"
      },
      "source": [
        "num_cols = get_cols_with_no_nans(combined , 'num')\n",
        "cat_cols = get_cols_with_no_nans(combined , 'no_num')"
      ],
      "execution_count": 125,
      "outputs": []
    },
    {
      "cell_type": "code",
      "metadata": {
        "colab": {
          "base_uri": "https://localhost:8080/"
        },
        "id": "XCgvle8sss1S",
        "outputId": "1015d3f3-fc2c-4604-9735-f742f6843e21"
      },
      "source": [
        "print ('Number of numerical columns with no nan values :',len(num_cols))\n",
        "print ('Number of nun-numerical columns with no nan values :',len(cat_cols))"
      ],
      "execution_count": 126,
      "outputs": [
        {
          "output_type": "stream",
          "text": [
            "Number of numerical columns with no nan values : 8\n",
            "Number of nun-numerical columns with no nan values : 1\n"
          ],
          "name": "stdout"
        }
      ]
    },
    {
      "cell_type": "code",
      "metadata": {
        "colab": {
          "base_uri": "https://localhost:8080/",
          "height": 606
        },
        "id": "HVzXcA5cucZF",
        "outputId": "5474cce3-74a3-4c0f-dc01-06324756332c"
      },
      "source": [
        "combined = combined[num_cols + cat_cols]\n",
        "combined.hist(figsize = (12,10))\n",
        "plt.show()"
      ],
      "execution_count": 127,
      "outputs": [
        {
          "output_type": "display_data",
          "data": {
            "image/png": "[encoded data removed]",
            "text/plain": [
              "<Figure size 864x720 with 9 Axes>"
            ]
          },
          "metadata": {
            "tags": [],
            "needs_background": "light"
          }
        }
      ]
    },
    {
      "cell_type": "markdown",
      "metadata": {
        "id": "izNJlhdgvtBG"
      },
      "source": [
        "***One Hot Encode The Categorical Features :***\n",
        "\n",
        "We will encode the categorical features using one hot encoding"
      ]
    },
    {
      "cell_type": "code",
      "metadata": {
        "id": "FF6W9tJ9vqOq"
      },
      "source": [
        "def oneHotEncode(df1,colNames):\n",
        "    for col in colNames:\n",
        "        if( df1[col].dtype == np.dtype('object')):\n",
        "            dummies = pd.get_dummies(df1[col],prefix=col)\n",
        "            df1 = pd.concat([df1,dummies],axis=1)\n",
        "\n",
        "            #drop the encoded column\n",
        "            df1.drop([col],axis = 1 , inplace=True)\n",
        "    return df1"
      ],
      "execution_count": 128,
      "outputs": []
    },
    {
      "cell_type": "code",
      "metadata": {
        "colab": {
          "base_uri": "https://localhost:8080/"
        },
        "id": "YwwNWDrmv3rT",
        "outputId": "f6129229-8701-4e16-a65f-a6f6bbacce57"
      },
      "source": [
        "print('There were {} columns before encoding categorical features'.format(combined.shape[1]))\n",
        "combined = oneHotEncode(combined, cat_cols)\n",
        "print('There are {} columns after encoding categorical features'.format(combined.shape[1]))"
      ],
      "execution_count": 129,
      "outputs": [
        {
          "output_type": "stream",
          "text": [
            "There were 9 columns before encoding categorical features\n",
            "There are 4566 columns after encoding categorical features\n"
          ],
          "name": "stdout"
        }
      ]
    },
    {
      "cell_type": "markdown",
      "metadata": {
        "id": "yKxhl4zOv73i"
      },
      "source": [
        "Now, split back combined dataFrame to training data and test data"
      ]
    },
    {
      "cell_type": "code",
      "metadata": {
        "id": "bqjnlzWLv8nN"
      },
      "source": [
        "def split_combined():\n",
        "    global combined\n",
        "    train = combined[:1460]\n",
        "    test = combined[1460:]\n",
        "\n",
        "    return train , test "
      ],
      "execution_count": 130,
      "outputs": []
    },
    {
      "cell_type": "code",
      "metadata": {
        "id": "zHZOKq09wAF6"
      },
      "source": [
        "train, test = split_combined()"
      ],
      "execution_count": 131,
      "outputs": []
    },
    {
      "cell_type": "markdown",
      "metadata": {
        "id": "4ZJup4fQwEIp"
      },
      "source": [
        "# Second : Make the Deep Neural Network\n",
        "\n",
        "\n",
        "*   Define a sequential model\n",
        "*   Add some dense layers\n",
        "*   Use 'relu' as the activation function in the hidden layers\n",
        "*   Use a 'normal' initializer as the kernal_intializer\n",
        "\n",
        "```\n",
        " Initializers define the way to set the initial random weights of Keras layers.\n",
        "```\n",
        "*   We will use mean_absolute_error as a loss function\n",
        "*   Define the output layer with only one node\n",
        "*   Use 'linear 'as the activation function for the output layer\n",
        "\n",
        "\n",
        "\n",
        "\n",
        "\n"
      ]
    },
    {
      "cell_type": "code",
      "metadata": {
        "id": "fzeYnOEiwlIE"
      },
      "source": [
        "NN_model = Sequential()"
      ],
      "execution_count": 134,
      "outputs": []
    },
    {
      "cell_type": "markdown",
      "metadata": {
        "id": "U0am5f-ExNvB"
      },
      "source": [
        "**The input Layer**"
      ]
    },
    {
      "cell_type": "code",
      "metadata": {
        "id": "G6uA15abxQeV"
      },
      "source": [
        "NN_model.add(Dense(128, kernel_initializer='normal',input_dim = train.shape[1], activation='relu'))"
      ],
      "execution_count": 135,
      "outputs": []
    },
    {
      "cell_type": "markdown",
      "metadata": {
        "id": "mD-iAszBxSSc"
      },
      "source": [
        "**The Hidden Layers**\n"
      ]
    },
    {
      "cell_type": "code",
      "metadata": {
        "id": "78s9O0_LxUmL"
      },
      "source": [
        "NN_model.add(Dense(256, kernel_initializer='normal',activation='relu'))\n",
        "NN_model.add(Dense(256, kernel_initializer='normal',activation='relu'))\n",
        "NN_model.add(Dense(256, kernel_initializer='normal',activation='relu'))"
      ],
      "execution_count": 136,
      "outputs": []
    },
    {
      "cell_type": "markdown",
      "metadata": {
        "id": "mgubWleQxbOW"
      },
      "source": [
        "**The output layer**"
      ]
    },
    {
      "cell_type": "code",
      "metadata": {
        "id": "C_Ukeeirxffa"
      },
      "source": [
        "NN_model.add(Dense(1, kernel_initializer='normal',activation='linear'))"
      ],
      "execution_count": 137,
      "outputs": []
    },
    {
      "cell_type": "markdown",
      "metadata": {
        "id": "kLFK8K6Kxjwu"
      },
      "source": [
        "**Compile the network**"
      ]
    },
    {
      "cell_type": "code",
      "metadata": {
        "colab": {
          "base_uri": "https://localhost:8080/"
        },
        "id": "K37ClO-rxlWS",
        "outputId": "900479cc-39eb-444a-a484-b20dd05bc9ac"
      },
      "source": [
        "NN_model.compile(loss='mean_absolute_error', optimizer='adam', metrics=['mean_absolute_error'])\n",
        "NN_model.summary()"
      ],
      "execution_count": 138,
      "outputs": [
        {
          "output_type": "stream",
          "text": [
            "Model: \"sequential\"\n",
            "_________________________________________________________________\n",
            "Layer (type)                 Output Shape              Param #   \n",
            "=================================================================\n",
            "dense (Dense)                (None, 128)               584576    \n",
            "_________________________________________________________________\n",
            "dense_1 (Dense)              (None, 256)               33024     \n",
            "_________________________________________________________________\n",
            "dense_2 (Dense)              (None, 256)               65792     \n",
            "_________________________________________________________________\n",
            "dense_3 (Dense)              (None, 256)               65792     \n",
            "_________________________________________________________________\n",
            "dense_4 (Dense)              (None, 1)                 257       \n",
            "=================================================================\n",
            "Total params: 749,441\n",
            "Trainable params: 749,441\n",
            "Non-trainable params: 0\n",
            "_________________________________________________________________\n"
          ],
          "name": "stdout"
        }
      ]
    },
    {
      "cell_type": "markdown",
      "metadata": {
        "id": "rNsgJNQnxsIP"
      },
      "source": [
        "**Define a checkpoint callback**"
      ]
    },
    {
      "cell_type": "code",
      "metadata": {
        "id": "867yMmqvxwVc"
      },
      "source": [
        "checkpoint_name = 'Weights-{epoch:03d}--{val_loss:.5f}.hdf5' \n",
        "checkpoint = ModelCheckpoint(checkpoint_name, monitor='val_loss', verbose = 1, save_best_only = True, mode ='auto')\n",
        "callbacks_list = [checkpoint]"
      ],
      "execution_count": 147,
      "outputs": []
    },
    {
      "cell_type": "markdown",
      "metadata": {
        "id": "gJJ39A_Rx2Hz"
      },
      "source": [
        "## Third : Train the model :"
      ]
    },
    {
      "cell_type": "code",
      "metadata": {
        "colab": {
          "base_uri": "https://localhost:8080/"
        },
        "id": "GGR3u19Tx1hF",
        "outputId": "54e6f9d8-7f7e-450d-9959-48462a341523"
      },
      "source": [
        "NN_model.fit(train, target, epochs=100, batch_size=32, validation_split = 0.2, callbacks=callbacks_list)"
      ],
      "execution_count": 148,
      "outputs": [
        {
          "output_type": "stream",
          "text": [
            "Epoch 1/100\n",
            "37/37 [==============================] - 0s 10ms/step - loss: 0.0134 - mean_absolute_error: 0.0134 - val_loss: 0.0347 - val_mean_absolute_error: 0.0347\n",
            "\n",
            "Epoch 00001: val_loss improved from inf to 0.03467, saving model to Weights-001--0.03467.hdf5\n",
            "Epoch 2/100\n",
            "37/37 [==============================] - 0s 10ms/step - loss: 0.0095 - mean_absolute_error: 0.0095 - val_loss: 0.0488 - val_mean_absolute_error: 0.0488\n",
            "\n",
            "Epoch 00002: val_loss did not improve from 0.03467\n",
            "Epoch 3/100\n",
            "37/37 [==============================] - 0s 10ms/step - loss: 0.0097 - mean_absolute_error: 0.0097 - val_loss: 0.0397 - val_mean_absolute_error: 0.0397\n",
            "\n",
            "Epoch 00003: val_loss did not improve from 0.03467\n",
            "Epoch 4/100\n",
            "37/37 [==============================] - 0s 10ms/step - loss: 0.0113 - mean_absolute_error: 0.0113 - val_loss: 0.0236 - val_mean_absolute_error: 0.0236\n",
            "\n",
            "Epoch 00004: val_loss improved from 0.03467 to 0.02356, saving model to Weights-004--0.02356.hdf5\n",
            "Epoch 5/100\n",
            "37/37 [==============================] - 0s 9ms/step - loss: 0.0048 - mean_absolute_error: 0.0048 - val_loss: 0.0155 - val_mean_absolute_error: 0.0155\n",
            "\n",
            "Epoch 00005: val_loss improved from 0.02356 to 0.01550, saving model to Weights-005--0.01550.hdf5\n",
            "Epoch 6/100\n",
            "37/37 [==============================] - 0s 9ms/step - loss: 0.0315 - mean_absolute_error: 0.0315 - val_loss: 0.0501 - val_mean_absolute_error: 0.0501\n",
            "\n",
            "Epoch 00006: val_loss did not improve from 0.01550\n",
            "Epoch 7/100\n",
            "37/37 [==============================] - 0s 9ms/step - loss: 0.0178 - mean_absolute_error: 0.0178 - val_loss: 0.0268 - val_mean_absolute_error: 0.0268\n",
            "\n",
            "Epoch 00007: val_loss did not improve from 0.01550\n",
            "Epoch 8/100\n",
            "37/37 [==============================] - 0s 9ms/step - loss: 0.0084 - mean_absolute_error: 0.0084 - val_loss: 0.0150 - val_mean_absolute_error: 0.0150\n",
            "\n",
            "Epoch 00008: val_loss improved from 0.01550 to 0.01501, saving model to Weights-008--0.01501.hdf5\n",
            "Epoch 9/100\n",
            "37/37 [==============================] - 0s 9ms/step - loss: 0.0105 - mean_absolute_error: 0.0105 - val_loss: 0.0305 - val_mean_absolute_error: 0.0305\n",
            "\n",
            "Epoch 00009: val_loss did not improve from 0.01501\n",
            "Epoch 10/100\n",
            "37/37 [==============================] - 0s 9ms/step - loss: 0.0114 - mean_absolute_error: 0.0114 - val_loss: 0.0262 - val_mean_absolute_error: 0.0262\n",
            "\n",
            "Epoch 00010: val_loss did not improve from 0.01501\n",
            "Epoch 11/100\n",
            "37/37 [==============================] - 0s 9ms/step - loss: 0.0115 - mean_absolute_error: 0.0115 - val_loss: 0.0610 - val_mean_absolute_error: 0.0610\n",
            "\n",
            "Epoch 00011: val_loss did not improve from 0.01501\n",
            "Epoch 12/100\n",
            "37/37 [==============================] - 0s 10ms/step - loss: 0.0113 - mean_absolute_error: 0.0113 - val_loss: 0.0168 - val_mean_absolute_error: 0.0168\n",
            "\n",
            "Epoch 00012: val_loss did not improve from 0.01501\n",
            "Epoch 13/100\n",
            "37/37 [==============================] - 0s 10ms/step - loss: 0.0117 - mean_absolute_error: 0.0117 - val_loss: 0.0172 - val_mean_absolute_error: 0.0172\n",
            "\n",
            "Epoch 00013: val_loss did not improve from 0.01501\n",
            "Epoch 14/100\n",
            "37/37 [==============================] - 0s 10ms/step - loss: 0.0170 - mean_absolute_error: 0.0170 - val_loss: 0.0700 - val_mean_absolute_error: 0.0700\n",
            "\n",
            "Epoch 00014: val_loss did not improve from 0.01501\n",
            "Epoch 15/100\n",
            "37/37 [==============================] - 0s 9ms/step - loss: 0.0224 - mean_absolute_error: 0.0224 - val_loss: 0.0471 - val_mean_absolute_error: 0.0471\n",
            "\n",
            "Epoch 00015: val_loss did not improve from 0.01501\n",
            "Epoch 16/100\n",
            "37/37 [==============================] - 0s 11ms/step - loss: 0.0132 - mean_absolute_error: 0.0132 - val_loss: 0.0769 - val_mean_absolute_error: 0.0769\n",
            "\n",
            "Epoch 00016: val_loss did not improve from 0.01501\n",
            "Epoch 17/100\n",
            "37/37 [==============================] - 0s 9ms/step - loss: 0.0171 - mean_absolute_error: 0.0171 - val_loss: 0.0328 - val_mean_absolute_error: 0.0328\n",
            "\n",
            "Epoch 00017: val_loss did not improve from 0.01501\n",
            "Epoch 18/100\n",
            "37/37 [==============================] - 0s 10ms/step - loss: 0.0136 - mean_absolute_error: 0.0136 - val_loss: 0.0334 - val_mean_absolute_error: 0.0334\n",
            "\n",
            "Epoch 00018: val_loss did not improve from 0.01501\n",
            "Epoch 19/100\n",
            "37/37 [==============================] - 0s 9ms/step - loss: 0.0086 - mean_absolute_error: 0.0086 - val_loss: 0.0838 - val_mean_absolute_error: 0.0838\n",
            "\n",
            "Epoch 00019: val_loss did not improve from 0.01501\n",
            "Epoch 20/100\n",
            "37/37 [==============================] - 0s 9ms/step - loss: 0.0159 - mean_absolute_error: 0.0159 - val_loss: 0.0124 - val_mean_absolute_error: 0.0124\n",
            "\n",
            "Epoch 00020: val_loss improved from 0.01501 to 0.01241, saving model to Weights-020--0.01241.hdf5\n",
            "Epoch 21/100\n",
            "37/37 [==============================] - 0s 9ms/step - loss: 0.0097 - mean_absolute_error: 0.0097 - val_loss: 0.0368 - val_mean_absolute_error: 0.0368\n",
            "\n",
            "Epoch 00021: val_loss did not improve from 0.01241\n",
            "Epoch 22/100\n",
            "37/37 [==============================] - 0s 10ms/step - loss: 0.0122 - mean_absolute_error: 0.0122 - val_loss: 0.0257 - val_mean_absolute_error: 0.0257\n",
            "\n",
            "Epoch 00022: val_loss did not improve from 0.01241\n",
            "Epoch 23/100\n",
            "37/37 [==============================] - 0s 9ms/step - loss: 0.0211 - mean_absolute_error: 0.0211 - val_loss: 0.0313 - val_mean_absolute_error: 0.0313\n",
            "\n",
            "Epoch 00023: val_loss did not improve from 0.01241\n",
            "Epoch 24/100\n",
            "37/37 [==============================] - 0s 9ms/step - loss: 0.0133 - mean_absolute_error: 0.0133 - val_loss: 0.0151 - val_mean_absolute_error: 0.0151\n",
            "\n",
            "Epoch 00024: val_loss did not improve from 0.01241\n",
            "Epoch 25/100\n",
            "37/37 [==============================] - 0s 9ms/step - loss: 0.0067 - mean_absolute_error: 0.0067 - val_loss: 0.0192 - val_mean_absolute_error: 0.0192\n",
            "\n",
            "Epoch 00025: val_loss did not improve from 0.01241\n",
            "Epoch 26/100\n",
            "37/37 [==============================] - 0s 9ms/step - loss: 0.0103 - mean_absolute_error: 0.0103 - val_loss: 0.0634 - val_mean_absolute_error: 0.0634\n",
            "\n",
            "Epoch 00026: val_loss did not improve from 0.01241\n",
            "Epoch 27/100\n",
            "37/37 [==============================] - 0s 9ms/step - loss: 0.0233 - mean_absolute_error: 0.0233 - val_loss: 0.0922 - val_mean_absolute_error: 0.0922\n",
            "\n",
            "Epoch 00027: val_loss did not improve from 0.01241\n",
            "Epoch 28/100\n",
            "37/37 [==============================] - 0s 9ms/step - loss: 0.0103 - mean_absolute_error: 0.0103 - val_loss: 0.0336 - val_mean_absolute_error: 0.0336\n",
            "\n",
            "Epoch 00028: val_loss did not improve from 0.01241\n",
            "Epoch 29/100\n",
            "37/37 [==============================] - 0s 9ms/step - loss: 0.0202 - mean_absolute_error: 0.0202 - val_loss: 0.0738 - val_mean_absolute_error: 0.0738\n",
            "\n",
            "Epoch 00029: val_loss did not improve from 0.01241\n",
            "Epoch 30/100\n",
            "37/37 [==============================] - 0s 9ms/step - loss: 0.0174 - mean_absolute_error: 0.0174 - val_loss: 0.0798 - val_mean_absolute_error: 0.0798\n",
            "\n",
            "Epoch 00030: val_loss did not improve from 0.01241\n",
            "Epoch 31/100\n",
            "37/37 [==============================] - 0s 9ms/step - loss: 0.0102 - mean_absolute_error: 0.0102 - val_loss: 0.0161 - val_mean_absolute_error: 0.0161\n",
            "\n",
            "Epoch 00031: val_loss did not improve from 0.01241\n",
            "Epoch 32/100\n",
            "37/37 [==============================] - 0s 11ms/step - loss: 0.0056 - mean_absolute_error: 0.0056 - val_loss: 0.0332 - val_mean_absolute_error: 0.0332\n",
            "\n",
            "Epoch 00032: val_loss did not improve from 0.01241\n",
            "Epoch 33/100\n",
            "37/37 [==============================] - 0s 10ms/step - loss: 0.0134 - mean_absolute_error: 0.0134 - val_loss: 0.0513 - val_mean_absolute_error: 0.0513\n",
            "\n",
            "Epoch 00033: val_loss did not improve from 0.01241\n",
            "Epoch 34/100\n",
            "37/37 [==============================] - 0s 9ms/step - loss: 0.0127 - mean_absolute_error: 0.0127 - val_loss: 0.0266 - val_mean_absolute_error: 0.0266\n",
            "\n",
            "Epoch 00034: val_loss did not improve from 0.01241\n",
            "Epoch 35/100\n",
            "37/37 [==============================] - 0s 9ms/step - loss: 0.0136 - mean_absolute_error: 0.0136 - val_loss: 0.0474 - val_mean_absolute_error: 0.0474\n",
            "\n",
            "Epoch 00035: val_loss did not improve from 0.01241\n",
            "Epoch 36/100\n",
            "37/37 [==============================] - 0s 10ms/step - loss: 0.0142 - mean_absolute_error: 0.0142 - val_loss: 0.0288 - val_mean_absolute_error: 0.0288\n",
            "\n",
            "Epoch 00036: val_loss did not improve from 0.01241\n",
            "Epoch 37/100\n",
            "37/37 [==============================] - 0s 10ms/step - loss: 0.0120 - mean_absolute_error: 0.0120 - val_loss: 0.0231 - val_mean_absolute_error: 0.0231\n",
            "\n",
            "Epoch 00037: val_loss did not improve from 0.01241\n",
            "Epoch 38/100\n",
            "37/37 [==============================] - 0s 9ms/step - loss: 0.0078 - mean_absolute_error: 0.0078 - val_loss: 0.0396 - val_mean_absolute_error: 0.0396\n",
            "\n",
            "Epoch 00038: val_loss did not improve from 0.01241\n",
            "Epoch 39/100\n",
            "37/37 [==============================] - 0s 10ms/step - loss: 0.0186 - mean_absolute_error: 0.0186 - val_loss: 0.0160 - val_mean_absolute_error: 0.0160\n",
            "\n",
            "Epoch 00039: val_loss did not improve from 0.01241\n",
            "Epoch 40/100\n",
            "37/37 [==============================] - 0s 10ms/step - loss: 0.0085 - mean_absolute_error: 0.0085 - val_loss: 0.0264 - val_mean_absolute_error: 0.0264\n",
            "\n",
            "Epoch 00040: val_loss did not improve from 0.01241\n",
            "Epoch 41/100\n",
            "37/37 [==============================] - 0s 10ms/step - loss: 0.0078 - mean_absolute_error: 0.0078 - val_loss: 0.0174 - val_mean_absolute_error: 0.0174\n",
            "\n",
            "Epoch 00041: val_loss did not improve from 0.01241\n",
            "Epoch 42/100\n",
            "37/37 [==============================] - 0s 9ms/step - loss: 0.0092 - mean_absolute_error: 0.0092 - val_loss: 0.0509 - val_mean_absolute_error: 0.0509\n",
            "\n",
            "Epoch 00042: val_loss did not improve from 0.01241\n",
            "Epoch 43/100\n",
            "37/37 [==============================] - 0s 9ms/step - loss: 0.0069 - mean_absolute_error: 0.0069 - val_loss: 0.0230 - val_mean_absolute_error: 0.0230\n",
            "\n",
            "Epoch 00043: val_loss did not improve from 0.01241\n",
            "Epoch 44/100\n",
            "37/37 [==============================] - 0s 9ms/step - loss: 0.0092 - mean_absolute_error: 0.0092 - val_loss: 0.0201 - val_mean_absolute_error: 0.0201\n",
            "\n",
            "Epoch 00044: val_loss did not improve from 0.01241\n",
            "Epoch 45/100\n",
            "37/37 [==============================] - 0s 10ms/step - loss: 0.0151 - mean_absolute_error: 0.0151 - val_loss: 0.0434 - val_mean_absolute_error: 0.0434\n",
            "\n",
            "Epoch 00045: val_loss did not improve from 0.01241\n",
            "Epoch 46/100\n",
            "37/37 [==============================] - 0s 9ms/step - loss: 0.0151 - mean_absolute_error: 0.0151 - val_loss: 0.0138 - val_mean_absolute_error: 0.0138\n",
            "\n",
            "Epoch 00046: val_loss did not improve from 0.01241\n",
            "Epoch 47/100\n",
            "37/37 [==============================] - 0s 9ms/step - loss: 0.0109 - mean_absolute_error: 0.0109 - val_loss: 0.0178 - val_mean_absolute_error: 0.0178\n",
            "\n",
            "Epoch 00047: val_loss did not improve from 0.01241\n",
            "Epoch 48/100\n",
            "37/37 [==============================] - 0s 10ms/step - loss: 0.0107 - mean_absolute_error: 0.0107 - val_loss: 0.0182 - val_mean_absolute_error: 0.0182\n",
            "\n",
            "Epoch 00048: val_loss did not improve from 0.01241\n",
            "Epoch 49/100\n",
            "37/37 [==============================] - 0s 11ms/step - loss: 0.0081 - mean_absolute_error: 0.0081 - val_loss: 0.0163 - val_mean_absolute_error: 0.0163\n",
            "\n",
            "Epoch 00049: val_loss did not improve from 0.01241\n",
            "Epoch 50/100\n",
            "37/37 [==============================] - 0s 9ms/step - loss: 0.0209 - mean_absolute_error: 0.0209 - val_loss: 0.0555 - val_mean_absolute_error: 0.0555\n",
            "\n",
            "Epoch 00050: val_loss did not improve from 0.01241\n",
            "Epoch 51/100\n",
            "37/37 [==============================] - 0s 9ms/step - loss: 0.0144 - mean_absolute_error: 0.0144 - val_loss: 0.0542 - val_mean_absolute_error: 0.0542\n",
            "\n",
            "Epoch 00051: val_loss did not improve from 0.01241\n",
            "Epoch 52/100\n",
            "37/37 [==============================] - 0s 10ms/step - loss: 0.0144 - mean_absolute_error: 0.0144 - val_loss: 0.0122 - val_mean_absolute_error: 0.0122\n",
            "\n",
            "Epoch 00052: val_loss improved from 0.01241 to 0.01219, saving model to Weights-052--0.01219.hdf5\n",
            "Epoch 53/100\n",
            "37/37 [==============================] - 0s 9ms/step - loss: 0.0193 - mean_absolute_error: 0.0193 - val_loss: 0.0626 - val_mean_absolute_error: 0.0626\n",
            "\n",
            "Epoch 00053: val_loss did not improve from 0.01219\n",
            "Epoch 54/100\n",
            "37/37 [==============================] - 0s 9ms/step - loss: 0.0129 - mean_absolute_error: 0.0129 - val_loss: 0.0385 - val_mean_absolute_error: 0.0385\n",
            "\n",
            "Epoch 00054: val_loss did not improve from 0.01219\n",
            "Epoch 55/100\n",
            "37/37 [==============================] - 0s 9ms/step - loss: 0.0124 - mean_absolute_error: 0.0124 - val_loss: 0.0543 - val_mean_absolute_error: 0.0543\n",
            "\n",
            "Epoch 00055: val_loss did not improve from 0.01219\n",
            "Epoch 56/100\n",
            "37/37 [==============================] - 0s 10ms/step - loss: 0.0121 - mean_absolute_error: 0.0121 - val_loss: 0.0352 - val_mean_absolute_error: 0.0352\n",
            "\n",
            "Epoch 00056: val_loss did not improve from 0.01219\n",
            "Epoch 57/100\n",
            "37/37 [==============================] - 0s 9ms/step - loss: 0.0077 - mean_absolute_error: 0.0077 - val_loss: 0.0219 - val_mean_absolute_error: 0.0219\n",
            "\n",
            "Epoch 00057: val_loss did not improve from 0.01219\n",
            "Epoch 58/100\n",
            "37/37 [==============================] - 0s 10ms/step - loss: 0.0094 - mean_absolute_error: 0.0094 - val_loss: 0.0430 - val_mean_absolute_error: 0.0430\n",
            "\n",
            "Epoch 00058: val_loss did not improve from 0.01219\n",
            "Epoch 59/100\n",
            "37/37 [==============================] - 0s 9ms/step - loss: 0.0151 - mean_absolute_error: 0.0151 - val_loss: 0.0197 - val_mean_absolute_error: 0.0197\n",
            "\n",
            "Epoch 00059: val_loss did not improve from 0.01219\n",
            "Epoch 60/100\n",
            "37/37 [==============================] - 0s 9ms/step - loss: 0.0089 - mean_absolute_error: 0.0089 - val_loss: 0.0173 - val_mean_absolute_error: 0.0173\n",
            "\n",
            "Epoch 00060: val_loss did not improve from 0.01219\n",
            "Epoch 61/100\n",
            "37/37 [==============================] - 0s 9ms/step - loss: 0.0130 - mean_absolute_error: 0.0130 - val_loss: 0.0391 - val_mean_absolute_error: 0.0391\n",
            "\n",
            "Epoch 00061: val_loss did not improve from 0.01219\n",
            "Epoch 62/100\n",
            "37/37 [==============================] - 0s 10ms/step - loss: 0.0155 - mean_absolute_error: 0.0155 - val_loss: 0.0166 - val_mean_absolute_error: 0.0166\n",
            "\n",
            "Epoch 00062: val_loss did not improve from 0.01219\n",
            "Epoch 63/100\n",
            "37/37 [==============================] - 0s 10ms/step - loss: 0.0161 - mean_absolute_error: 0.0161 - val_loss: 0.0235 - val_mean_absolute_error: 0.0235\n",
            "\n",
            "Epoch 00063: val_loss did not improve from 0.01219\n",
            "Epoch 64/100\n",
            "37/37 [==============================] - 0s 9ms/step - loss: 0.0109 - mean_absolute_error: 0.0109 - val_loss: 0.0485 - val_mean_absolute_error: 0.0485\n",
            "\n",
            "Epoch 00064: val_loss did not improve from 0.01219\n",
            "Epoch 65/100\n",
            "37/37 [==============================] - 0s 9ms/step - loss: 0.0280 - mean_absolute_error: 0.0280 - val_loss: 0.0340 - val_mean_absolute_error: 0.0340\n",
            "\n",
            "Epoch 00065: val_loss did not improve from 0.01219\n",
            "Epoch 66/100\n",
            "37/37 [==============================] - 0s 9ms/step - loss: 0.0146 - mean_absolute_error: 0.0146 - val_loss: 0.0194 - val_mean_absolute_error: 0.0194\n",
            "\n",
            "Epoch 00066: val_loss did not improve from 0.01219\n",
            "Epoch 67/100\n",
            "37/37 [==============================] - 0s 10ms/step - loss: 0.0134 - mean_absolute_error: 0.0134 - val_loss: 0.0475 - val_mean_absolute_error: 0.0475\n",
            "\n",
            "Epoch 00067: val_loss did not improve from 0.01219\n",
            "Epoch 68/100\n",
            "37/37 [==============================] - 0s 10ms/step - loss: 0.0057 - mean_absolute_error: 0.0057 - val_loss: 0.0264 - val_mean_absolute_error: 0.0264\n",
            "\n",
            "Epoch 00068: val_loss did not improve from 0.01219\n",
            "Epoch 69/100\n",
            "37/37 [==============================] - 0s 9ms/step - loss: 0.0132 - mean_absolute_error: 0.0132 - val_loss: 0.0503 - val_mean_absolute_error: 0.0503\n",
            "\n",
            "Epoch 00069: val_loss did not improve from 0.01219\n",
            "Epoch 70/100\n",
            "37/37 [==============================] - 0s 10ms/step - loss: 0.0154 - mean_absolute_error: 0.0154 - val_loss: 0.0174 - val_mean_absolute_error: 0.0174\n",
            "\n",
            "Epoch 00070: val_loss did not improve from 0.01219\n",
            "Epoch 71/100\n",
            "37/37 [==============================] - 0s 10ms/step - loss: 0.0074 - mean_absolute_error: 0.0074 - val_loss: 0.0206 - val_mean_absolute_error: 0.0206\n",
            "\n",
            "Epoch 00071: val_loss did not improve from 0.01219\n",
            "Epoch 72/100\n",
            "37/37 [==============================] - 0s 11ms/step - loss: 0.0088 - mean_absolute_error: 0.0088 - val_loss: 0.0160 - val_mean_absolute_error: 0.0160\n",
            "\n",
            "Epoch 00072: val_loss did not improve from 0.01219\n",
            "Epoch 73/100\n",
            "37/37 [==============================] - 0s 9ms/step - loss: 0.0102 - mean_absolute_error: 0.0102 - val_loss: 0.0635 - val_mean_absolute_error: 0.0635\n",
            "\n",
            "Epoch 00073: val_loss did not improve from 0.01219\n",
            "Epoch 74/100\n",
            "37/37 [==============================] - 0s 9ms/step - loss: 0.0236 - mean_absolute_error: 0.0236 - val_loss: 0.1206 - val_mean_absolute_error: 0.1206\n",
            "\n",
            "Epoch 00074: val_loss did not improve from 0.01219\n",
            "Epoch 75/100\n",
            "37/37 [==============================] - 0s 9ms/step - loss: 0.0187 - mean_absolute_error: 0.0187 - val_loss: 0.0464 - val_mean_absolute_error: 0.0464\n",
            "\n",
            "Epoch 00075: val_loss did not improve from 0.01219\n",
            "Epoch 76/100\n",
            "37/37 [==============================] - 0s 10ms/step - loss: 0.0157 - mean_absolute_error: 0.0157 - val_loss: 0.0138 - val_mean_absolute_error: 0.0138\n",
            "\n",
            "Epoch 00076: val_loss did not improve from 0.01219\n",
            "Epoch 77/100\n",
            "37/37 [==============================] - 0s 9ms/step - loss: 0.0260 - mean_absolute_error: 0.0260 - val_loss: 0.0518 - val_mean_absolute_error: 0.0518\n",
            "\n",
            "Epoch 00077: val_loss did not improve from 0.01219\n",
            "Epoch 78/100\n",
            "37/37 [==============================] - 0s 9ms/step - loss: 0.0134 - mean_absolute_error: 0.0134 - val_loss: 0.0314 - val_mean_absolute_error: 0.0314\n",
            "\n",
            "Epoch 00078: val_loss did not improve from 0.01219\n",
            "Epoch 79/100\n",
            "37/37 [==============================] - 0s 9ms/step - loss: 0.0081 - mean_absolute_error: 0.0081 - val_loss: 0.0705 - val_mean_absolute_error: 0.0705\n",
            "\n",
            "Epoch 00079: val_loss did not improve from 0.01219\n",
            "Epoch 80/100\n",
            "37/37 [==============================] - 0s 10ms/step - loss: 0.0161 - mean_absolute_error: 0.0161 - val_loss: 0.0480 - val_mean_absolute_error: 0.0480\n",
            "\n",
            "Epoch 00080: val_loss did not improve from 0.01219\n",
            "Epoch 81/100\n",
            "37/37 [==============================] - 0s 9ms/step - loss: 0.0068 - mean_absolute_error: 0.0068 - val_loss: 0.0275 - val_mean_absolute_error: 0.0275\n",
            "\n",
            "Epoch 00081: val_loss did not improve from 0.01219\n",
            "Epoch 82/100\n",
            "37/37 [==============================] - 0s 9ms/step - loss: 0.0084 - mean_absolute_error: 0.0084 - val_loss: 0.0173 - val_mean_absolute_error: 0.0173\n",
            "\n",
            "Epoch 00082: val_loss did not improve from 0.01219\n",
            "Epoch 83/100\n",
            "37/37 [==============================] - 0s 9ms/step - loss: 0.0113 - mean_absolute_error: 0.0113 - val_loss: 0.0642 - val_mean_absolute_error: 0.0642\n",
            "\n",
            "Epoch 00083: val_loss did not improve from 0.01219\n",
            "Epoch 84/100\n",
            "37/37 [==============================] - 0s 9ms/step - loss: 0.0102 - mean_absolute_error: 0.0102 - val_loss: 0.0334 - val_mean_absolute_error: 0.0334\n",
            "\n",
            "Epoch 00084: val_loss did not improve from 0.01219\n",
            "Epoch 85/100\n",
            "37/37 [==============================] - 0s 9ms/step - loss: 0.0206 - mean_absolute_error: 0.0206 - val_loss: 0.0657 - val_mean_absolute_error: 0.0657\n",
            "\n",
            "Epoch 00085: val_loss did not improve from 0.01219\n",
            "Epoch 86/100\n",
            "37/37 [==============================] - 0s 10ms/step - loss: 0.0104 - mean_absolute_error: 0.0104 - val_loss: 0.0488 - val_mean_absolute_error: 0.0488\n",
            "\n",
            "Epoch 00086: val_loss did not improve from 0.01219\n",
            "Epoch 87/100\n",
            "37/37 [==============================] - 0s 9ms/step - loss: 0.0130 - mean_absolute_error: 0.0130 - val_loss: 0.0440 - val_mean_absolute_error: 0.0440\n",
            "\n",
            "Epoch 00087: val_loss did not improve from 0.01219\n",
            "Epoch 88/100\n",
            "37/37 [==============================] - 0s 9ms/step - loss: 0.0111 - mean_absolute_error: 0.0111 - val_loss: 0.0470 - val_mean_absolute_error: 0.0470\n",
            "\n",
            "Epoch 00088: val_loss did not improve from 0.01219\n",
            "Epoch 89/100\n",
            "37/37 [==============================] - 0s 10ms/step - loss: 0.0133 - mean_absolute_error: 0.0133 - val_loss: 0.0705 - val_mean_absolute_error: 0.0705\n",
            "\n",
            "Epoch 00089: val_loss did not improve from 0.01219\n",
            "Epoch 90/100\n",
            "37/37 [==============================] - 0s 9ms/step - loss: 0.0179 - mean_absolute_error: 0.0179 - val_loss: 0.0237 - val_mean_absolute_error: 0.0237\n",
            "\n",
            "Epoch 00090: val_loss did not improve from 0.01219\n",
            "Epoch 91/100\n",
            "37/37 [==============================] - 0s 9ms/step - loss: 0.0092 - mean_absolute_error: 0.0092 - val_loss: 0.0225 - val_mean_absolute_error: 0.0225\n",
            "\n",
            "Epoch 00091: val_loss did not improve from 0.01219\n",
            "Epoch 92/100\n",
            "37/37 [==============================] - 0s 9ms/step - loss: 0.0157 - mean_absolute_error: 0.0157 - val_loss: 0.0225 - val_mean_absolute_error: 0.0225\n",
            "\n",
            "Epoch 00092: val_loss did not improve from 0.01219\n",
            "Epoch 93/100\n",
            "37/37 [==============================] - 0s 11ms/step - loss: 0.0084 - mean_absolute_error: 0.0084 - val_loss: 0.0543 - val_mean_absolute_error: 0.0543\n",
            "\n",
            "Epoch 00093: val_loss did not improve from 0.01219\n",
            "Epoch 94/100\n",
            "37/37 [==============================] - 0s 10ms/step - loss: 0.0154 - mean_absolute_error: 0.0154 - val_loss: 0.0142 - val_mean_absolute_error: 0.0142\n",
            "\n",
            "Epoch 00094: val_loss did not improve from 0.01219\n",
            "Epoch 95/100\n",
            "37/37 [==============================] - 0s 9ms/step - loss: 0.0143 - mean_absolute_error: 0.0143 - val_loss: 0.0123 - val_mean_absolute_error: 0.0123\n",
            "\n",
            "Epoch 00095: val_loss did not improve from 0.01219\n",
            "Epoch 96/100\n",
            "37/37 [==============================] - 0s 9ms/step - loss: 0.0194 - mean_absolute_error: 0.0194 - val_loss: 0.0411 - val_mean_absolute_error: 0.0411\n",
            "\n",
            "Epoch 00096: val_loss did not improve from 0.01219\n",
            "Epoch 97/100\n",
            "37/37 [==============================] - 0s 10ms/step - loss: 0.0132 - mean_absolute_error: 0.0132 - val_loss: 0.0628 - val_mean_absolute_error: 0.0628\n",
            "\n",
            "Epoch 00097: val_loss did not improve from 0.01219\n",
            "Epoch 98/100\n",
            "37/37 [==============================] - 0s 10ms/step - loss: 0.0146 - mean_absolute_error: 0.0146 - val_loss: 0.0249 - val_mean_absolute_error: 0.0249\n",
            "\n",
            "Epoch 00098: val_loss did not improve from 0.01219\n",
            "Epoch 99/100\n",
            "37/37 [==============================] - 0s 10ms/step - loss: 0.0170 - mean_absolute_error: 0.0170 - val_loss: 0.0342 - val_mean_absolute_error: 0.0342\n",
            "\n",
            "Epoch 00099: val_loss did not improve from 0.01219\n",
            "Epoch 100/100\n",
            "37/37 [==============================] - 0s 10ms/step - loss: 0.0116 - mean_absolute_error: 0.0116 - val_loss: 0.0270 - val_mean_absolute_error: 0.0270\n",
            "\n",
            "Epoch 00100: val_loss did not improve from 0.01219\n"
          ],
          "name": "stdout"
        },
        {
          "output_type": "execute_result",
          "data": {
            "text/plain": [
              "<keras.callbacks.History at 0x7f73b9fb8a10>"
            ]
          },
          "metadata": {
            "tags": []
          },
          "execution_count": 148
        }
      ]
    },
    {
      "cell_type": "code",
      "metadata": {
        "colab": {
          "base_uri": "https://localhost:8080/",
          "height": 476
        },
        "id": "dQi8BwqvzGAk",
        "outputId": "ccc1d1db-539b-462a-c608-b25c0c5f1878"
      },
      "source": [
        "# Load wights file of the best model :\n",
        "wights_file = 'Weights-478--18738.19831.hdf5' # choose the best checkpoint \n",
        "NN_model.load_weights(wights_file) # load it\n",
        "NN_model.compile(loss='mean_absolute_error', optimizer='adam', metrics=['mean_absolute_error'])"
      ],
      "execution_count": 149,
      "outputs": [
        {
          "output_type": "error",
          "ename": "OSError",
          "evalue": "ignored",
          "traceback": [
            "\u001b[0;31m---------------------------------------------------------------------------\u001b[0m",
            "\u001b[0;31mOSError\u001b[0m                                   Traceback (most recent call last)",
            "\u001b[0;32m<ipython-input-149-d1d263513391>\u001b[0m in \u001b[0;36m<module>\u001b[0;34m()\u001b[0m\n\u001b[1;32m      1\u001b[0m \u001b[0;31m# Load wights file of the best model :\u001b[0m\u001b[0;34m\u001b[0m\u001b[0;34m\u001b[0m\u001b[0;34m\u001b[0m\u001b[0m\n\u001b[1;32m      2\u001b[0m \u001b[0mwights_file\u001b[0m \u001b[0;34m=\u001b[0m \u001b[0;34m'Weights-478--18738.19831.hdf5'\u001b[0m \u001b[0;31m# choose the best checkpoint\u001b[0m\u001b[0;34m\u001b[0m\u001b[0;34m\u001b[0m\u001b[0m\n\u001b[0;32m----> 3\u001b[0;31m \u001b[0mNN_model\u001b[0m\u001b[0;34m.\u001b[0m\u001b[0mload_weights\u001b[0m\u001b[0;34m(\u001b[0m\u001b[0mwights_file\u001b[0m\u001b[0;34m)\u001b[0m \u001b[0;31m# load it\u001b[0m\u001b[0;34m\u001b[0m\u001b[0;34m\u001b[0m\u001b[0m\n\u001b[0m\u001b[1;32m      4\u001b[0m \u001b[0mNN_model\u001b[0m\u001b[0;34m.\u001b[0m\u001b[0mcompile\u001b[0m\u001b[0;34m(\u001b[0m\u001b[0mloss\u001b[0m\u001b[0;34m=\u001b[0m\u001b[0;34m'mean_absolute_error'\u001b[0m\u001b[0;34m,\u001b[0m \u001b[0moptimizer\u001b[0m\u001b[0;34m=\u001b[0m\u001b[0;34m'adam'\u001b[0m\u001b[0;34m,\u001b[0m \u001b[0mmetrics\u001b[0m\u001b[0;34m=\u001b[0m\u001b[0;34m[\u001b[0m\u001b[0;34m'mean_absolute_error'\u001b[0m\u001b[0;34m]\u001b[0m\u001b[0;34m)\u001b[0m\u001b[0;34m\u001b[0m\u001b[0;34m\u001b[0m\u001b[0m\n",
            "\u001b[0;32m/usr/local/lib/python3.7/dist-packages/keras/engine/training.py\u001b[0m in \u001b[0;36mload_weights\u001b[0;34m(self, filepath, by_name, skip_mismatch, options)\u001b[0m\n\u001b[1;32m   2292\u001b[0m           'first, then load the weights.')\n\u001b[1;32m   2293\u001b[0m     \u001b[0mself\u001b[0m\u001b[0;34m.\u001b[0m\u001b[0m_assert_weights_created\u001b[0m\u001b[0;34m(\u001b[0m\u001b[0;34m)\u001b[0m\u001b[0;34m\u001b[0m\u001b[0;34m\u001b[0m\u001b[0m\n\u001b[0;32m-> 2294\u001b[0;31m     \u001b[0;32mwith\u001b[0m \u001b[0mh5py\u001b[0m\u001b[0;34m.\u001b[0m\u001b[0mFile\u001b[0m\u001b[0;34m(\u001b[0m\u001b[0mfilepath\u001b[0m\u001b[0;34m,\u001b[0m \u001b[0;34m'r'\u001b[0m\u001b[0;34m)\u001b[0m \u001b[0;32mas\u001b[0m \u001b[0mf\u001b[0m\u001b[0;34m:\u001b[0m\u001b[0;34m\u001b[0m\u001b[0;34m\u001b[0m\u001b[0m\n\u001b[0m\u001b[1;32m   2295\u001b[0m       \u001b[0;32mif\u001b[0m \u001b[0;34m'layer_names'\u001b[0m \u001b[0;32mnot\u001b[0m \u001b[0;32min\u001b[0m \u001b[0mf\u001b[0m\u001b[0;34m.\u001b[0m\u001b[0mattrs\u001b[0m \u001b[0;32mand\u001b[0m \u001b[0;34m'model_weights'\u001b[0m \u001b[0;32min\u001b[0m \u001b[0mf\u001b[0m\u001b[0;34m:\u001b[0m\u001b[0;34m\u001b[0m\u001b[0;34m\u001b[0m\u001b[0m\n\u001b[1;32m   2296\u001b[0m         \u001b[0mf\u001b[0m \u001b[0;34m=\u001b[0m \u001b[0mf\u001b[0m\u001b[0;34m[\u001b[0m\u001b[0;34m'model_weights'\u001b[0m\u001b[0;34m]\u001b[0m\u001b[0;34m\u001b[0m\u001b[0;34m\u001b[0m\u001b[0m\n",
            "\u001b[0;32m/usr/local/lib/python3.7/dist-packages/h5py/_hl/files.py\u001b[0m in \u001b[0;36m__init__\u001b[0;34m(self, name, mode, driver, libver, userblock_size, swmr, rdcc_nslots, rdcc_nbytes, rdcc_w0, track_order, fs_strategy, fs_persist, fs_threshold, **kwds)\u001b[0m\n\u001b[1;32m    425\u001b[0m                                fapl, fcpl=make_fcpl(track_order=track_order, fs_strategy=fs_strategy,\n\u001b[1;32m    426\u001b[0m                                fs_persist=fs_persist, fs_threshold=fs_threshold),\n\u001b[0;32m--> 427\u001b[0;31m                                swmr=swmr)\n\u001b[0m\u001b[1;32m    428\u001b[0m \u001b[0;34m\u001b[0m\u001b[0m\n\u001b[1;32m    429\u001b[0m             \u001b[0;32mif\u001b[0m \u001b[0misinstance\u001b[0m\u001b[0;34m(\u001b[0m\u001b[0mlibver\u001b[0m\u001b[0;34m,\u001b[0m \u001b[0mtuple\u001b[0m\u001b[0;34m)\u001b[0m\u001b[0;34m:\u001b[0m\u001b[0;34m\u001b[0m\u001b[0;34m\u001b[0m\u001b[0m\n",
            "\u001b[0;32m/usr/local/lib/python3.7/dist-packages/h5py/_hl/files.py\u001b[0m in \u001b[0;36mmake_fid\u001b[0;34m(name, mode, userblock_size, fapl, fcpl, swmr)\u001b[0m\n\u001b[1;32m    188\u001b[0m         \u001b[0;32mif\u001b[0m \u001b[0mswmr\u001b[0m \u001b[0;32mand\u001b[0m \u001b[0mswmr_support\u001b[0m\u001b[0;34m:\u001b[0m\u001b[0;34m\u001b[0m\u001b[0;34m\u001b[0m\u001b[0m\n\u001b[1;32m    189\u001b[0m             \u001b[0mflags\u001b[0m \u001b[0;34m|=\u001b[0m \u001b[0mh5f\u001b[0m\u001b[0;34m.\u001b[0m\u001b[0mACC_SWMR_READ\u001b[0m\u001b[0;34m\u001b[0m\u001b[0;34m\u001b[0m\u001b[0m\n\u001b[0;32m--> 190\u001b[0;31m         \u001b[0mfid\u001b[0m \u001b[0;34m=\u001b[0m \u001b[0mh5f\u001b[0m\u001b[0;34m.\u001b[0m\u001b[0mopen\u001b[0m\u001b[0;34m(\u001b[0m\u001b[0mname\u001b[0m\u001b[0;34m,\u001b[0m \u001b[0mflags\u001b[0m\u001b[0;34m,\u001b[0m \u001b[0mfapl\u001b[0m\u001b[0;34m=\u001b[0m\u001b[0mfapl\u001b[0m\u001b[0;34m)\u001b[0m\u001b[0;34m\u001b[0m\u001b[0;34m\u001b[0m\u001b[0m\n\u001b[0m\u001b[1;32m    191\u001b[0m     \u001b[0;32melif\u001b[0m \u001b[0mmode\u001b[0m \u001b[0;34m==\u001b[0m \u001b[0;34m'r+'\u001b[0m\u001b[0;34m:\u001b[0m\u001b[0;34m\u001b[0m\u001b[0;34m\u001b[0m\u001b[0m\n\u001b[1;32m    192\u001b[0m         \u001b[0mfid\u001b[0m \u001b[0;34m=\u001b[0m \u001b[0mh5f\u001b[0m\u001b[0;34m.\u001b[0m\u001b[0mopen\u001b[0m\u001b[0;34m(\u001b[0m\u001b[0mname\u001b[0m\u001b[0;34m,\u001b[0m \u001b[0mh5f\u001b[0m\u001b[0;34m.\u001b[0m\u001b[0mACC_RDWR\u001b[0m\u001b[0;34m,\u001b[0m \u001b[0mfapl\u001b[0m\u001b[0;34m=\u001b[0m\u001b[0mfapl\u001b[0m\u001b[0;34m)\u001b[0m\u001b[0;34m\u001b[0m\u001b[0;34m\u001b[0m\u001b[0m\n",
            "\u001b[0;32mh5py/_objects.pyx\u001b[0m in \u001b[0;36mh5py._objects.with_phil.wrapper\u001b[0;34m()\u001b[0m\n",
            "\u001b[0;32mh5py/_objects.pyx\u001b[0m in \u001b[0;36mh5py._objects.with_phil.wrapper\u001b[0;34m()\u001b[0m\n",
            "\u001b[0;32mh5py/h5f.pyx\u001b[0m in \u001b[0;36mh5py.h5f.open\u001b[0;34m()\u001b[0m\n",
            "\u001b[0;31mOSError\u001b[0m: Unable to open file (unable to open file: name = 'Weights-478--18738.19831.hdf5', errno = 2, error message = 'No such file or directory', flags = 0, o_flags = 0)"
          ]
        }
      ]
    }
  ]
}
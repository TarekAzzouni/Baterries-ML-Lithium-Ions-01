{
  "nbformat": 4,
  "nbformat_minor": 0,
  "metadata": {
    "colab": {
      "name": "Data_Driven_model_for_HNEI_DATASET_(LSTM MODEL ).ipynb",
      "provenance": [],
      "collapsed_sections": [],
      "authorship_tag": "ABX9TyP0eeafzOdEaQFM6CCB5A5s",
      "include_colab_link": true
    },
    "kernelspec": {
      "name": "python3",
      "display_name": "Python 3"
    },
    "language_info": {
      "name": "python"
    }
  },
  "cells": [
    {
      "cell_type": "markdown",
      "metadata": {
        "id": "view-in-github",
        "colab_type": "text"
      },
      "source": [
        "<a href=\"https://colab.research.google.com/github/TarekAzzouni/Baterries-ML-Lithium-Ions-01/blob/main/Data_Driven_model_for_HNEI_DATASET_(LSTM_MODEL_).ipynb\" target=\"_parent\"><img src=\"https://colab.research.google.com/assets/colab-badge.svg\" alt=\"Open In Colab\"/></a>"
      ]
    },
    {
      "cell_type": "code",
      "metadata": {
        "id": "ImuR4HoogG0F"
      },
      "source": [
        "import numpy as np \n",
        "import pandas as pd\n",
        "import seaborn as sns\n",
        "\n",
        "from matplotlib.colors import ListedColormap\n",
        "from sklearn.metrics import plot_confusion_matrix\n",
        "from scipy.stats import norm, boxcox\n",
        "from sklearn.metrics import confusion_matrix, classification_report, accuracy_score\n",
        "from collections import Counter\n",
        "from scipy import stats\n",
        "\n",
        "import tensorflow as tf\n",
        "import matplotlib.pyplot as plt\n",
        "\n",
        "import io\n",
        "import requests\n",
        "import os\n",
        "\n",
        "from warnings import simplefilter\n",
        "import warnings\n",
        "# ignore all warnings\n",
        "simplefilter(action='ignore')\n",
        "\n",
        "from keras.callbacks import ModelCheckpoint\n",
        "from keras.models import Sequential\n",
        "from keras.layers import Dense, Activation, Flatten\n",
        "from sklearn.model_selection import train_test_split\n",
        "from sklearn.ensemble import RandomForestRegressor\n",
        "from sklearn.metrics import mean_absolute_error \n",
        "from matplotlib import pyplot as plt\n",
        "import seaborn as sb\n",
        "\n",
        "import warnings \n",
        "warnings.filterwarnings('ignore')\n",
        "warnings.filterwarnings('ignore', category=DeprecationWarning)\n",
        "\n",
        "\n",
        "from keras.models import Sequential\n",
        "from keras.layers import Dense, Activation, Embedding, Flatten, LeakyReLU, BatchNormalization, Dropout\n",
        "from keras.activations import relu, sigmoid, softplus\n",
        "from keras.layers import LeakyReLU\n",
        "\n",
        "from sklearn.preprocessing import StandardScaler"
      ],
      "execution_count": 29,
      "outputs": []
    },
    {
      "cell_type": "code",
      "metadata": {
        "id": "oXg12rM9gPkC"
      },
      "source": [
        "url=\"https://www.batteryarchive.org/data/HNEI_18650_NMC_LCO_25C_0-100_0.5-1.5C_a_timeseries.csv\"\n",
        "s = requests.get(url).content\n",
        "data = pd.read_csv(io.StringIO(s.decode('utf-8')))"
      ],
      "execution_count": 30,
      "outputs": []
    },
    {
      "cell_type": "code",
      "metadata": {
        "colab": {
          "base_uri": "https://localhost:8080/"
        },
        "id": "mma2_uDOm-D6",
        "outputId": "9811c435-3f54-489e-aa3e-d59191baec99"
      },
      "source": [
        "data.columns"
      ],
      "execution_count": 31,
      "outputs": [
        {
          "output_type": "execute_result",
          "data": {
            "text/plain": [
              "Index(['Date_Time', 'Test_Time (s)', 'Cycle_Index', 'Current (A)',\n",
              "       'Voltage (V)', 'Charge_Capacity (Ah)', 'Discharge_Capacity (Ah)',\n",
              "       'Charge_Energy (Wh)', 'Discharge_Energy (Wh)',\n",
              "       'Environment_Temperature (C)', 'Cell_Temperature (C)'],\n",
              "      dtype='object')"
            ]
          },
          "metadata": {
            "tags": []
          },
          "execution_count": 31
        }
      ]
    },
    {
      "cell_type": "code",
      "metadata": {
        "id": "Rh96kvqv_tJD"
      },
      "source": [
        "data0 = data[data['Cycle_Index'] < 3  ]"
      ],
      "execution_count": 32,
      "outputs": []
    },
    {
      "cell_type": "code",
      "metadata": {
        "id": "R27N2pli-01m"
      },
      "source": [
        "data1 = data0[['Date_Time','Charge_Capacity (Ah)']]"
      ],
      "execution_count": 33,
      "outputs": []
    },
    {
      "cell_type": "code",
      "metadata": {
        "id": "6PAa8KxG_IKL"
      },
      "source": [
        "data1[\"Date_Time\"] = pd.to_datetime(data1.Date_Time, format=\"%Y-%m-%d\")"
      ],
      "execution_count": 34,
      "outputs": []
    },
    {
      "cell_type": "code",
      "metadata": {
        "id": "dXqEek-B_W58"
      },
      "source": [
        "data1.index = data1['Date_Time']"
      ],
      "execution_count": 35,
      "outputs": []
    },
    {
      "cell_type": "code",
      "metadata": {
        "colab": {
          "base_uri": "https://localhost:8080/",
          "height": 285
        },
        "id": "qfsCbhvd_c2i",
        "outputId": "16c5cc35-0d3b-4d43-cab7-80b1ed0c0c51"
      },
      "source": [
        "plt.plot(data0[\"Charge_Capacity (Ah)\"],label='Charge_Capacity (Ah) history')"
      ],
      "execution_count": 36,
      "outputs": [
        {
          "output_type": "execute_result",
          "data": {
            "text/plain": [
              "[<matplotlib.lines.Line2D at 0x7fc8ea898150>]"
            ]
          },
          "metadata": {
            "tags": []
          },
          "execution_count": 36
        },
        {
          "output_type": "display_data",
          "data": {
            "image/png": "[encoded data removed]",
            "text/plain": [
              "<Figure size 432x288 with 1 Axes>"
            ]
          },
          "metadata": {
            "tags": [],
            "needs_background": "light"
          }
        }
      ]
    },
    {
      "cell_type": "code",
      "metadata": {
        "colab": {
          "base_uri": "https://localhost:8080/",
          "height": 282
        },
        "id": "EqMxGpljeLDs",
        "outputId": "15b030d9-7303-4ecf-b725-f5d190d9eb74"
      },
      "source": [
        "plt.plot(data0[\"Voltage (V)\"],label='Charge_Capacity (Ah) history')"
      ],
      "execution_count": 37,
      "outputs": [
        {
          "output_type": "execute_result",
          "data": {
            "text/plain": [
              "[<matplotlib.lines.Line2D at 0x7fc8e84c2a90>]"
            ]
          },
          "metadata": {
            "tags": []
          },
          "execution_count": 37
        },
        {
          "output_type": "display_data",
          "data": {
            "image/png": "[encoded data removed]",
            "text/plain": [
              "<Figure size 432x288 with 1 Axes>"
            ]
          },
          "metadata": {
            "tags": [],
            "needs_background": "light"
          }
        }
      ]
    },
    {
      "cell_type": "code",
      "metadata": {
        "id": "E1t4FLVf0kJN"
      },
      "source": [
        "data0 = data0.iloc[:, 1].values"
      ],
      "execution_count": 38,
      "outputs": []
    },
    {
      "cell_type": "code",
      "metadata": {
        "colab": {
          "base_uri": "https://localhost:8080/"
        },
        "id": "ECXD0-oe0zXT",
        "outputId": "930baf86-5aee-49f1-a02f-7d4cf167273a"
      },
      "source": [
        "print(data0)"
      ],
      "execution_count": 39,
      "outputs": [
        {
          "output_type": "stream",
          "text": [
            "[3.0014000e+01 5.9999000e+01 6.7294000e+01 ... 3.3742750e+04 3.3772734e+04\n",
            " 3.3772734e+04]\n"
          ],
          "name": "stdout"
        }
      ]
    },
    {
      "cell_type": "code",
      "metadata": {
        "id": "34o-UX8a1W7B"
      },
      "source": [
        "from sklearn.preprocessing import MinMaxScaler"
      ],
      "execution_count": 40,
      "outputs": []
    },
    {
      "cell_type": "code",
      "metadata": {
        "id": "xoTIcJi81erX"
      },
      "source": [
        "scaler = MinMaxScaler()"
      ],
      "execution_count": 41,
      "outputs": []
    },
    {
      "cell_type": "code",
      "metadata": {
        "id": "N27U_7S_2pk1"
      },
      "source": [
        "data_1 = scaler.fit_transform(data0.reshape(-1, 1))"
      ],
      "execution_count": 42,
      "outputs": []
    },
    {
      "cell_type": "code",
      "metadata": {
        "id": "-RE5YWP84wQM"
      },
      "source": [
        "x_training_data = []\n",
        "\n",
        "y_training_data =[]"
      ],
      "execution_count": 43,
      "outputs": []
    },
    {
      "cell_type": "code",
      "metadata": {
        "id": "7FU7hNqa4ydj"
      },
      "source": [
        "for i in range(1, len(data_1)):\n",
        "\n",
        "    x_training_data.append(data_1[i-1:i, 0])\n",
        "\n",
        "    y_training_data.append(data_1[i, 0])"
      ],
      "execution_count": 44,
      "outputs": []
    },
    {
      "cell_type": "code",
      "metadata": {
        "id": "sm24f0qN5BTH"
      },
      "source": [
        "x_training_data = np.array(x_training_data)\n",
        "\n",
        "y_training_data = np.array(y_training_data)"
      ],
      "execution_count": 45,
      "outputs": []
    },
    {
      "cell_type": "code",
      "metadata": {
        "colab": {
          "base_uri": "https://localhost:8080/"
        },
        "id": "SEbnmvTH5ZL9",
        "outputId": "dbff6fb0-32c9-420f-9578-8e254b24a59c"
      },
      "source": [
        "print(x_training_data.shape)\n",
        "\n",
        "print(y_training_data.shape)"
      ],
      "execution_count": 46,
      "outputs": [
        {
          "output_type": "stream",
          "text": [
            "(4558, 1)\n",
            "(4558,)\n"
          ],
          "name": "stdout"
        }
      ]
    },
    {
      "cell_type": "code",
      "metadata": {
        "id": "Erd8smXQ5hJC"
      },
      "source": [
        "x_training_data = np.reshape(x_training_data, (x_training_data.shape[0], \n",
        "\n",
        "                                               x_training_data.shape[1], \n",
        "\n",
        "                                               1))"
      ],
      "execution_count": 47,
      "outputs": []
    },
    {
      "cell_type": "code",
      "metadata": {
        "colab": {
          "base_uri": "https://localhost:8080/"
        },
        "id": "-JnXmmi75kXH",
        "outputId": "33bc0d26-68c1-4ca1-d240-c77609c54d51"
      },
      "source": [
        "print(x_training_data.shape)"
      ],
      "execution_count": 48,
      "outputs": [
        {
          "output_type": "stream",
          "text": [
            "(4558, 1, 1)\n"
          ],
          "name": "stdout"
        }
      ]
    },
    {
      "cell_type": "markdown",
      "metadata": {
        "id": "g-cPdoK-YuCV"
      },
      "source": [
        "##How to Select how many hidden layer and neurons in a neural network"
      ]
    },
    {
      "cell_type": "markdown",
      "metadata": {
        "id": "oX8V6XiK5o-_"
      },
      "source": [
        "##THE MODEL"
      ]
    },
    {
      "cell_type": "code",
      "metadata": {
        "id": "l17hz83t5rQ9"
      },
      "source": [
        "from tensorflow.keras.models import Sequential\n",
        "\n",
        "from tensorflow.keras.layers import Dense\n",
        "\n",
        "from tensorflow.keras.layers import LSTM\n",
        "\n",
        "from tensorflow.keras.layers import Dropout\n"
      ],
      "execution_count": 49,
      "outputs": []
    },
    {
      "cell_type": "code",
      "metadata": {
        "id": "c-eFOaMf5uJa"
      },
      "source": [
        "rnn = Sequential()"
      ],
      "execution_count": 50,
      "outputs": []
    },
    {
      "cell_type": "code",
      "metadata": {
        "id": "L_mcwPp354pK"
      },
      "source": [
        "rnn.add(LSTM(units = 256, return_sequences = True, input_shape = (x_training_data.shape[1], 1)))"
      ],
      "execution_count": 51,
      "outputs": []
    },
    {
      "cell_type": "code",
      "metadata": {
        "id": "gtYxTsYO58X6"
      },
      "source": [
        "rnn.add(Dropout(0.2))"
      ],
      "execution_count": 52,
      "outputs": []
    },
    {
      "cell_type": "code",
      "metadata": {
        "id": "jThjjpom61RL"
      },
      "source": [
        "rnn.add(LSTM(units = 128, return_sequences = True))\n",
        "\n",
        "rnn.add(Dropout(0.2))\n",
        "\n",
        "rnn.add(LSTM(units = 64, return_sequences = True))\n",
        "\n",
        "rnn.add(Dropout(0.2))\n",
        "\n",
        "rnn.add(LSTM(units = 32))\n",
        "\n",
        "rnn.add(Dropout(0.2))"
      ],
      "execution_count": 53,
      "outputs": []
    },
    {
      "cell_type": "code",
      "metadata": {
        "id": "LQ2B9QOp66Zn"
      },
      "source": [
        "rnn.add(Dense(units = 1))"
      ],
      "execution_count": 54,
      "outputs": []
    },
    {
      "cell_type": "code",
      "metadata": {
        "id": "9kL9zdiX7Tas"
      },
      "source": [
        "rnn.compile(optimizer = 'adam', loss = 'mean_squared_error',metrics=['accuracy'])"
      ],
      "execution_count": 55,
      "outputs": []
    },
    {
      "cell_type": "code",
      "metadata": {
        "colab": {
          "base_uri": "https://localhost:8080/"
        },
        "id": "2C3Oe1Ny7iou",
        "outputId": "ca2f8dfc-57cd-4d11-9507-58142471b138"
      },
      "source": [
        "rnn.fit(x_training_data, y_training_data, epochs = 100, batch_size = 32)"
      ],
      "execution_count": 56,
      "outputs": [
        {
          "output_type": "stream",
          "text": [
            "Epoch 1/100\n",
            "143/143 [==============================] - 8s 13ms/step - loss: 0.0630 - accuracy: 4.3879e-04\n",
            "Epoch 2/100\n",
            "143/143 [==============================] - 2s 13ms/step - loss: 0.0060 - accuracy: 4.3879e-04\n",
            "Epoch 3/100\n",
            "143/143 [==============================] - 2s 13ms/step - loss: 0.0042 - accuracy: 4.3879e-04\n",
            "Epoch 4/100\n",
            "143/143 [==============================] - 2s 15ms/step - loss: 0.0038 - accuracy: 4.3879e-04\n",
            "Epoch 5/100\n",
            "143/143 [==============================] - 2s 13ms/step - loss: 0.0032 - accuracy: 4.3879e-04\n",
            "Epoch 6/100\n",
            "143/143 [==============================] - 2s 13ms/step - loss: 0.0032 - accuracy: 4.3879e-04\n",
            "Epoch 7/100\n",
            "143/143 [==============================] - 2s 13ms/step - loss: 0.0029 - accuracy: 4.3879e-04\n",
            "Epoch 8/100\n",
            "143/143 [==============================] - 2s 14ms/step - loss: 0.0029 - accuracy: 4.3879e-04\n",
            "Epoch 9/100\n",
            "143/143 [==============================] - 2s 14ms/step - loss: 0.0028 - accuracy: 4.3879e-04\n",
            "Epoch 10/100\n",
            "143/143 [==============================] - 2s 14ms/step - loss: 0.0026 - accuracy: 4.3879e-04\n",
            "Epoch 11/100\n",
            "143/143 [==============================] - 2s 15ms/step - loss: 0.0026 - accuracy: 4.3879e-04\n",
            "Epoch 12/100\n",
            "143/143 [==============================] - 2s 13ms/step - loss: 0.0024 - accuracy: 4.3879e-04\n",
            "Epoch 13/100\n",
            "143/143 [==============================] - 2s 13ms/step - loss: 0.0023 - accuracy: 4.3879e-04\n",
            "Epoch 14/100\n",
            "143/143 [==============================] - 2s 13ms/step - loss: 0.0022 - accuracy: 4.3879e-04\n",
            "Epoch 15/100\n",
            "143/143 [==============================] - 2s 13ms/step - loss: 0.0021 - accuracy: 4.3879e-04\n",
            "Epoch 16/100\n",
            "143/143 [==============================] - 2s 13ms/step - loss: 0.0021 - accuracy: 4.3879e-04\n",
            "Epoch 17/100\n",
            "143/143 [==============================] - 2s 14ms/step - loss: 0.0020 - accuracy: 4.3879e-04\n",
            "Epoch 18/100\n",
            "143/143 [==============================] - 2s 13ms/step - loss: 0.0019 - accuracy: 4.3879e-04\n",
            "Epoch 19/100\n",
            "143/143 [==============================] - 2s 13ms/step - loss: 0.0018 - accuracy: 4.3879e-04\n",
            "Epoch 20/100\n",
            "143/143 [==============================] - 2s 14ms/step - loss: 0.0018 - accuracy: 4.3879e-04\n",
            "Epoch 21/100\n",
            "143/143 [==============================] - 2s 15ms/step - loss: 0.0018 - accuracy: 4.3879e-04\n",
            "Epoch 22/100\n",
            "143/143 [==============================] - 2s 16ms/step - loss: 0.0017 - accuracy: 4.3879e-04\n",
            "Epoch 23/100\n",
            "143/143 [==============================] - 2s 14ms/step - loss: 0.0016 - accuracy: 4.3879e-04\n",
            "Epoch 24/100\n",
            "143/143 [==============================] - 2s 14ms/step - loss: 0.0017 - accuracy: 4.3879e-04\n",
            "Epoch 25/100\n",
            "143/143 [==============================] - 2s 15ms/step - loss: 0.0015 - accuracy: 4.3879e-04\n",
            "Epoch 26/100\n",
            "143/143 [==============================] - 2s 14ms/step - loss: 0.0016 - accuracy: 4.3879e-04\n",
            "Epoch 27/100\n",
            "143/143 [==============================] - 2s 13ms/step - loss: 0.0015 - accuracy: 4.3879e-04\n",
            "Epoch 28/100\n",
            "143/143 [==============================] - 2s 13ms/step - loss: 0.0015 - accuracy: 4.3879e-04\n",
            "Epoch 29/100\n",
            "143/143 [==============================] - 2s 15ms/step - loss: 0.0015 - accuracy: 4.3879e-04\n",
            "Epoch 30/100\n",
            "143/143 [==============================] - 2s 14ms/step - loss: 0.0015 - accuracy: 4.3879e-04\n",
            "Epoch 31/100\n",
            "143/143 [==============================] - 2s 13ms/step - loss: 0.0013 - accuracy: 4.3879e-04\n",
            "Epoch 32/100\n",
            "143/143 [==============================] - 2s 14ms/step - loss: 0.0014 - accuracy: 4.3879e-04\n",
            "Epoch 33/100\n",
            "143/143 [==============================] - 2s 13ms/step - loss: 0.0014 - accuracy: 4.3879e-04\n",
            "Epoch 34/100\n",
            "143/143 [==============================] - 2s 13ms/step - loss: 0.0013 - accuracy: 4.3879e-04\n",
            "Epoch 35/100\n",
            "143/143 [==============================] - 2s 14ms/step - loss: 0.0013 - accuracy: 4.3879e-04\n",
            "Epoch 36/100\n",
            "143/143 [==============================] - 2s 13ms/step - loss: 0.0013 - accuracy: 4.3879e-04\n",
            "Epoch 37/100\n",
            "143/143 [==============================] - 2s 13ms/step - loss: 0.0014 - accuracy: 4.3879e-04\n",
            "Epoch 38/100\n",
            "143/143 [==============================] - 2s 13ms/step - loss: 0.0013 - accuracy: 4.3879e-04\n",
            "Epoch 39/100\n",
            "143/143 [==============================] - 2s 13ms/step - loss: 0.0013 - accuracy: 4.3879e-04\n",
            "Epoch 40/100\n",
            "143/143 [==============================] - 2s 14ms/step - loss: 0.0013 - accuracy: 4.3879e-04\n",
            "Epoch 41/100\n",
            "143/143 [==============================] - 2s 14ms/step - loss: 0.0012 - accuracy: 4.3879e-04\n",
            "Epoch 42/100\n",
            "143/143 [==============================] - 2s 13ms/step - loss: 0.0013 - accuracy: 4.3879e-04\n",
            "Epoch 43/100\n",
            "143/143 [==============================] - 2s 13ms/step - loss: 0.0012 - accuracy: 4.3879e-04\n",
            "Epoch 44/100\n",
            "143/143 [==============================] - 2s 14ms/step - loss: 0.0012 - accuracy: 4.3879e-04\n",
            "Epoch 45/100\n",
            "143/143 [==============================] - 2s 13ms/step - loss: 0.0013 - accuracy: 4.3879e-04\n",
            "Epoch 46/100\n",
            "143/143 [==============================] - 2s 13ms/step - loss: 0.0013 - accuracy: 4.3879e-04\n",
            "Epoch 47/100\n",
            "143/143 [==============================] - 2s 14ms/step - loss: 0.0013 - accuracy: 4.3879e-04\n",
            "Epoch 48/100\n",
            "143/143 [==============================] - 2s 13ms/step - loss: 0.0013 - accuracy: 4.3879e-04\n",
            "Epoch 49/100\n",
            "143/143 [==============================] - 2s 13ms/step - loss: 0.0013 - accuracy: 4.3879e-04\n",
            "Epoch 50/100\n",
            "143/143 [==============================] - 2s 13ms/step - loss: 0.0012 - accuracy: 4.3879e-04\n",
            "Epoch 51/100\n",
            "143/143 [==============================] - 2s 13ms/step - loss: 0.0013 - accuracy: 4.3879e-04\n",
            "Epoch 52/100\n",
            "143/143 [==============================] - 2s 13ms/step - loss: 0.0012 - accuracy: 4.3879e-04\n",
            "Epoch 53/100\n",
            "143/143 [==============================] - 2s 14ms/step - loss: 0.0013 - accuracy: 4.3879e-04\n",
            "Epoch 54/100\n",
            "143/143 [==============================] - 2s 14ms/step - loss: 0.0012 - accuracy: 4.3879e-04\n",
            "Epoch 55/100\n",
            "143/143 [==============================] - 2s 14ms/step - loss: 0.0012 - accuracy: 4.3879e-04\n",
            "Epoch 56/100\n",
            "143/143 [==============================] - 2s 14ms/step - loss: 0.0012 - accuracy: 4.3879e-04\n",
            "Epoch 57/100\n",
            "143/143 [==============================] - 2s 13ms/step - loss: 0.0011 - accuracy: 4.3879e-04\n",
            "Epoch 58/100\n",
            "143/143 [==============================] - 2s 14ms/step - loss: 0.0012 - accuracy: 4.3879e-04\n",
            "Epoch 59/100\n",
            "143/143 [==============================] - 2s 14ms/step - loss: 0.0012 - accuracy: 4.3879e-04\n",
            "Epoch 60/100\n",
            "143/143 [==============================] - 2s 14ms/step - loss: 0.0012 - accuracy: 4.3879e-04\n",
            "Epoch 61/100\n",
            "143/143 [==============================] - 2s 14ms/step - loss: 0.0012 - accuracy: 4.3879e-04\n",
            "Epoch 62/100\n",
            "143/143 [==============================] - 2s 15ms/step - loss: 0.0012 - accuracy: 4.3879e-04\n",
            "Epoch 63/100\n",
            "143/143 [==============================] - 2s 14ms/step - loss: 0.0012 - accuracy: 4.3879e-04\n",
            "Epoch 64/100\n",
            "143/143 [==============================] - 2s 14ms/step - loss: 0.0011 - accuracy: 4.3879e-04\n",
            "Epoch 65/100\n",
            "143/143 [==============================] - 2s 13ms/step - loss: 0.0012 - accuracy: 4.3879e-04\n",
            "Epoch 66/100\n",
            "143/143 [==============================] - 2s 13ms/step - loss: 0.0012 - accuracy: 4.3879e-04\n",
            "Epoch 67/100\n",
            "143/143 [==============================] - 2s 14ms/step - loss: 0.0012 - accuracy: 4.3879e-04\n",
            "Epoch 68/100\n",
            "143/143 [==============================] - 2s 13ms/step - loss: 0.0012 - accuracy: 4.3879e-04\n",
            "Epoch 69/100\n",
            "143/143 [==============================] - 2s 14ms/step - loss: 0.0011 - accuracy: 4.3879e-04\n",
            "Epoch 70/100\n",
            "143/143 [==============================] - 2s 13ms/step - loss: 0.0011 - accuracy: 4.3879e-04\n",
            "Epoch 71/100\n",
            "143/143 [==============================] - 2s 13ms/step - loss: 0.0012 - accuracy: 4.3879e-04\n",
            "Epoch 72/100\n",
            "143/143 [==============================] - 2s 13ms/step - loss: 0.0012 - accuracy: 4.3879e-04\n",
            "Epoch 73/100\n",
            "143/143 [==============================] - 2s 13ms/step - loss: 0.0011 - accuracy: 4.3879e-04\n",
            "Epoch 74/100\n",
            "143/143 [==============================] - 2s 16ms/step - loss: 0.0011 - accuracy: 4.3879e-04\n",
            "Epoch 75/100\n",
            "143/143 [==============================] - 2s 14ms/step - loss: 0.0011 - accuracy: 4.3879e-04\n",
            "Epoch 76/100\n",
            "143/143 [==============================] - 2s 14ms/step - loss: 0.0011 - accuracy: 4.3879e-04\n",
            "Epoch 77/100\n",
            "143/143 [==============================] - 2s 16ms/step - loss: 0.0012 - accuracy: 4.3879e-04\n",
            "Epoch 78/100\n",
            "143/143 [==============================] - 2s 14ms/step - loss: 0.0011 - accuracy: 4.3879e-04\n",
            "Epoch 79/100\n",
            "143/143 [==============================] - 2s 13ms/step - loss: 0.0012 - accuracy: 4.3879e-04\n",
            "Epoch 80/100\n",
            "143/143 [==============================] - 2s 16ms/step - loss: 0.0011 - accuracy: 4.3879e-04\n",
            "Epoch 81/100\n",
            "143/143 [==============================] - 2s 15ms/step - loss: 0.0012 - accuracy: 4.3879e-04\n",
            "Epoch 82/100\n",
            "143/143 [==============================] - 2s 15ms/step - loss: 0.0012 - accuracy: 4.3879e-04\n",
            "Epoch 83/100\n",
            "143/143 [==============================] - 2s 16ms/step - loss: 0.0011 - accuracy: 4.3879e-04\n",
            "Epoch 84/100\n",
            "143/143 [==============================] - 2s 14ms/step - loss: 0.0012 - accuracy: 4.3879e-04\n",
            "Epoch 85/100\n",
            "143/143 [==============================] - 2s 13ms/step - loss: 0.0011 - accuracy: 4.3879e-04\n",
            "Epoch 86/100\n",
            "143/143 [==============================] - 2s 15ms/step - loss: 0.0011 - accuracy: 4.3879e-04\n",
            "Epoch 87/100\n",
            "143/143 [==============================] - 2s 14ms/step - loss: 0.0011 - accuracy: 4.3879e-04\n",
            "Epoch 88/100\n",
            "143/143 [==============================] - 2s 14ms/step - loss: 0.0011 - accuracy: 4.3879e-04\n",
            "Epoch 89/100\n",
            "143/143 [==============================] - 2s 15ms/step - loss: 0.0011 - accuracy: 4.3879e-04\n",
            "Epoch 90/100\n",
            "143/143 [==============================] - 2s 16ms/step - loss: 0.0011 - accuracy: 4.3879e-04\n",
            "Epoch 91/100\n",
            "143/143 [==============================] - 2s 14ms/step - loss: 0.0011 - accuracy: 4.3879e-04\n",
            "Epoch 92/100\n",
            "143/143 [==============================] - 2s 13ms/step - loss: 0.0012 - accuracy: 4.3879e-04\n",
            "Epoch 93/100\n",
            "143/143 [==============================] - 2s 14ms/step - loss: 0.0011 - accuracy: 4.3879e-04\n",
            "Epoch 94/100\n",
            "143/143 [==============================] - 2s 14ms/step - loss: 0.0011 - accuracy: 4.3879e-04\n",
            "Epoch 95/100\n",
            "143/143 [==============================] - 2s 15ms/step - loss: 0.0010 - accuracy: 4.3879e-04\n",
            "Epoch 96/100\n",
            "143/143 [==============================] - 2s 14ms/step - loss: 0.0011 - accuracy: 4.3879e-04\n",
            "Epoch 97/100\n",
            "143/143 [==============================] - 2s 16ms/step - loss: 0.0011 - accuracy: 4.3879e-04\n",
            "Epoch 98/100\n",
            "143/143 [==============================] - 2s 14ms/step - loss: 0.0011 - accuracy: 4.3879e-04\n",
            "Epoch 99/100\n",
            "143/143 [==============================] - 2s 15ms/step - loss: 0.0011 - accuracy: 4.3879e-04\n",
            "Epoch 100/100\n",
            "143/143 [==============================] - 2s 15ms/step - loss: 0.0010 - accuracy: 4.3879e-04\n"
          ],
          "name": "stdout"
        },
        {
          "output_type": "execute_result",
          "data": {
            "text/plain": [
              "<tensorflow.python.keras.callbacks.History at 0x7fc8ea861e90>"
            ]
          },
          "metadata": {
            "tags": []
          },
          "execution_count": 56
        }
      ]
    },
    {
      "cell_type": "code",
      "metadata": {
        "id": "nzTlVKlgGktO"
      },
      "source": [
        "test = data[data['Cycle_Index']== 2]"
      ],
      "execution_count": 57,
      "outputs": []
    },
    {
      "cell_type": "code",
      "metadata": {
        "id": "1aR8KuSQGlzc"
      },
      "source": [
        "test_data = test.iloc[:, 1].values"
      ],
      "execution_count": 58,
      "outputs": []
    },
    {
      "cell_type": "code",
      "metadata": {
        "colab": {
          "base_uri": "https://localhost:8080/"
        },
        "id": "67_9bnXCGpND",
        "outputId": "96829550-adcb-4da8-858d-d4c4d91bc64f"
      },
      "source": [
        "print(test_data)"
      ],
      "execution_count": 59,
      "outputs": [
        {
          "output_type": "stream",
          "text": [
            "[14655.743 14662.75  14669.758 ... 33742.75  33772.734 33772.734]\n"
          ],
          "name": "stdout"
        }
      ]
    },
    {
      "cell_type": "code",
      "metadata": {
        "colab": {
          "base_uri": "https://localhost:8080/",
          "height": 282
        },
        "id": "gCe7iju4GvXY",
        "outputId": "77ac5779-c083-4726-c478-256bbf7ea228"
      },
      "source": [
        "plt.plot(test_data)"
      ],
      "execution_count": 60,
      "outputs": [
        {
          "output_type": "execute_result",
          "data": {
            "text/plain": [
              "[<matplotlib.lines.Line2D at 0x7fc8e98acad0>]"
            ]
          },
          "metadata": {
            "tags": []
          },
          "execution_count": 60
        },
        {
          "output_type": "display_data",
          "data": {
            "image/png": "[encoded data removed]",
            "text/plain": [
              "<Figure size 432x288 with 1 Axes>"
            ]
          },
          "metadata": {
            "tags": [],
            "needs_background": "light"
          }
        }
      ]
    },
    {
      "cell_type": "code",
      "metadata": {
        "id": "_di8jNvlHM-C"
      },
      "source": [
        "unscaled_train = data[data['Cycle_Index'] == 1]\n",
        "unscaled_test = data[data['Cycle_Index']== 2]"
      ],
      "execution_count": 61,
      "outputs": []
    },
    {
      "cell_type": "code",
      "metadata": {
        "id": "ArMV7UACHbuy"
      },
      "source": [
        "all_data = pd.concat((unscaled_train['Charge_Capacity (Ah)'], unscaled_test['Charge_Capacity (Ah)']), axis = 0)"
      ],
      "execution_count": 62,
      "outputs": []
    },
    {
      "cell_type": "code",
      "metadata": {
        "id": "UFGTH_suIOMo"
      },
      "source": [
        "x_test_data = all_data[len(all_data) - len(test_data) - 1:].values"
      ],
      "execution_count": 63,
      "outputs": []
    },
    {
      "cell_type": "code",
      "metadata": {
        "id": "a60JWdyFIbkR"
      },
      "source": [
        "x_test_data = np.reshape(x_test_data, (-1, 1))"
      ],
      "execution_count": 64,
      "outputs": []
    },
    {
      "cell_type": "code",
      "metadata": {
        "id": "6b7WMjI1IeLb"
      },
      "source": [
        "x_test_data = scaler.transform(x_test_data)"
      ],
      "execution_count": 65,
      "outputs": []
    },
    {
      "cell_type": "code",
      "metadata": {
        "colab": {
          "base_uri": "https://localhost:8080/"
        },
        "id": "NS9OE2xNdPb-",
        "outputId": "2ed882b1-122f-48ca-f85d-3c4bb43a9973"
      },
      "source": [
        "x_test_data"
      ],
      "execution_count": 66,
      "outputs": [
        {
          "output_type": "execute_result",
          "data": {
            "text/plain": [
              "array([[-0.00080447],\n",
              "       [-0.0008895 ],\n",
              "       [-0.0008895 ],\n",
              "       ...,\n",
              "       [-0.00080491],\n",
              "       [-0.00080491],\n",
              "       [-0.00080491]])"
            ]
          },
          "metadata": {
            "tags": []
          },
          "execution_count": 66
        }
      ]
    },
    {
      "cell_type": "code",
      "metadata": {
        "id": "ma0M39i5IhA_"
      },
      "source": [
        "final_x_test_data = []\n",
        "\n",
        "for i in range(1, len(x_test_data)):\n",
        "\n",
        "    final_x_test_data.append(x_test_data[i-1:i, 0])\n",
        "\n",
        "final_x_test_data = np.array(final_x_test_data)"
      ],
      "execution_count": 67,
      "outputs": []
    },
    {
      "cell_type": "code",
      "metadata": {
        "id": "RvcdzO1CImwe"
      },
      "source": [
        "final_x_test_data = np.reshape(final_x_test_data, (final_x_test_data.shape[0], \n",
        "\n",
        "                                               final_x_test_data.shape[1], \n",
        "\n",
        "                                               1))"
      ],
      "execution_count": 68,
      "outputs": []
    },
    {
      "cell_type": "code",
      "metadata": {
        "id": "O_bGqZdbIqTI"
      },
      "source": [
        "predictions = rnn.predict(final_x_test_data)"
      ],
      "execution_count": 69,
      "outputs": []
    },
    {
      "cell_type": "code",
      "metadata": {
        "colab": {
          "base_uri": "https://localhost:8080/",
          "height": 282
        },
        "id": "h2Y4tme7Itbp",
        "outputId": "045d4f35-32bd-459a-e66b-d4633986d62c"
      },
      "source": [
        "plt.plot(predictions) "
      ],
      "execution_count": 70,
      "outputs": [
        {
          "output_type": "execute_result",
          "data": {
            "text/plain": [
              "[<matplotlib.lines.Line2D at 0x7fc8e9522990>]"
            ]
          },
          "metadata": {
            "tags": []
          },
          "execution_count": 70
        },
        {
          "output_type": "display_data",
          "data": {
            "image/png": "[encoded data removed]",
            "text/plain": [
              "<Figure size 432x288 with 1 Axes>"
            ]
          },
          "metadata": {
            "tags": [],
            "needs_background": "light"
          }
        }
      ]
    },
    {
      "cell_type": "code",
      "metadata": {
        "colab": {
          "base_uri": "https://localhost:8080/",
          "height": 34
        },
        "id": "hONCj4gPIynF",
        "outputId": "53c7fcb4-4f4a-44a1-fc74-2e409b8b6314"
      },
      "source": [
        "plt.clf()"
      ],
      "execution_count": 71,
      "outputs": [
        {
          "output_type": "display_data",
          "data": {
            "text/plain": [
              "<Figure size 432x288 with 0 Axes>"
            ]
          },
          "metadata": {
            "tags": []
          }
        }
      ]
    },
    {
      "cell_type": "code",
      "metadata": {
        "colab": {
          "base_uri": "https://localhost:8080/",
          "height": 282
        },
        "id": "b930_HaxI6ZY",
        "outputId": "c27d31af-e419-47a0-a2a3-3082ca33e965"
      },
      "source": [
        "unscaled_predictions = scaler.inverse_transform(predictions)\n",
        "\n",
        "plt.clf() #This clears the first prediction plot from our canvas\n",
        "\n",
        "plt.plot(unscaled_predictions)"
      ],
      "execution_count": 72,
      "outputs": [
        {
          "output_type": "execute_result",
          "data": {
            "text/plain": [
              "[<matplotlib.lines.Line2D at 0x7fc8e949f390>]"
            ]
          },
          "metadata": {
            "tags": []
          },
          "execution_count": 72
        },
        {
          "output_type": "display_data",
          "data": {
            "image/png": "[encoded data removed]",
            "text/plain": [
              "<Figure size 432x288 with 1 Axes>"
            ]
          },
          "metadata": {
            "tags": [],
            "needs_background": "light"
          }
        }
      ]
    },
    {
      "cell_type": "code",
      "metadata": {
        "colab": {
          "base_uri": "https://localhost:8080/",
          "height": 298
        },
        "id": "MYwQ2REVI_ur",
        "outputId": "906e043b-24dd-4459-dfe2-372d752a0a82"
      },
      "source": [
        "plt.plot(unscaled_predictions, color = '#135485', label = \"Predictions\")\n",
        "\n",
        "plt.plot(test_data, color = 'black', label = \"Real Data\")\n",
        "\n",
        "plt.title(' Predictions')"
      ],
      "execution_count": 73,
      "outputs": [
        {
          "output_type": "execute_result",
          "data": {
            "text/plain": [
              "Text(0.5, 1.0, ' Predictions')"
            ]
          },
          "metadata": {
            "tags": []
          },
          "execution_count": 73
        },
        {
          "output_type": "display_data",
          "data": {
            "image/png": "[encoded data removed]",
            "text/plain": [
              "<Figure size 432x288 with 1 Axes>"
            ]
          },
          "metadata": {
            "tags": [],
            "needs_background": "light"
          }
        }
      ]
    }
  ]
}
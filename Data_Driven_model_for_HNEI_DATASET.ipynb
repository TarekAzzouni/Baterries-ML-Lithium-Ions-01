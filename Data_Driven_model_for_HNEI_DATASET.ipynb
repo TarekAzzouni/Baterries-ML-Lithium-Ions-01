{
  "nbformat": 4,
  "nbformat_minor": 0,
  "metadata": {
    "colab": {
      "name": "Data Driven model for HNEI DATASET.ipynb",
      "provenance": [],
      "collapsed_sections": [
        "A2CfgR4Iro35",
        "AzkCAOLC_PBg"
      ],
      "toc_visible": true,
      "include_colab_link": true
    },
    "kernelspec": {
      "name": "python3",
      "display_name": "Python 3"
    },
    "language_info": {
      "name": "python"
    }
  },
  "cells": [
    {
      "cell_type": "markdown",
      "metadata": {
        "id": "view-in-github",
        "colab_type": "text"
      },
      "source": [
        "<a href=\"https://colab.research.google.com/github/TarekAzzouni/Baterries-ML-Lithium-Ions-01/blob/main/Data_Driven_model_for_HNEI_DATASET.ipynb\" target=\"_parent\"><img src=\"https://colab.research.google.com/assets/colab-badge.svg\" alt=\"Open In Colab\"/></a>"
      ]
    },
    {
      "cell_type": "markdown",
      "metadata": {
        "id": "O3zgw0cqxTZS"
      },
      "source": [
        "# Description of the dataset : \n",
        "\n",
        "A batch of fifty-one 18650-format lithium ion cells was purchased from a commercial vendor. These cells were manufactured by LG Chemical Limited, (Seoul, Korea), under the model denomination “ICR18650 C2” and intended for notebook PC applications. The negative electrode (NE) was made of a graphitic intercalation compound (GIC), while the positive electrode (PE) was a blend of LiCoO2 (LCO) and LiNi4Co4Mn2O2 (NMC). The electrolyte composition was not disclosed. The recommended charge cut-off voltage was 4.30 V (associated with a 50 mA cut-off current). The recommended charge rate was C/2 and the maximum charge rate was 1 C. The recommended discharge cut-off voltage was 3.00 V and the maximum discharge rate was 2 C at ambient temperatures (5 to 45 °C). The nominal capacity was 2800 mAh and the maximum weight was 50 grams. The calculated energy density was approximately 208 Wh/kg classifying it as a high-energy cell by current standards."
      ]
    },
    {
      "cell_type": "markdown",
      "metadata": {
        "id": "B54WK2nArKoJ"
      },
      "source": [
        "# Packages "
      ]
    },
    {
      "cell_type": "code",
      "metadata": {
        "id": "SPybgV_PJOyM"
      },
      "source": [
        "import numpy as np \n",
        "import pandas as pd\n",
        "import seaborn as sns\n",
        "\n",
        "from matplotlib.colors import ListedColormap\n",
        "from sklearn.metrics import plot_confusion_matrix\n",
        "from scipy.stats import norm, boxcox\n",
        "from sklearn.metrics import confusion_matrix, classification_report, accuracy_score\n",
        "from collections import Counter\n",
        "from scipy import stats\n",
        "\n",
        "import tensorflow as tf\n",
        "import matplotlib.pyplot as plt\n",
        "\n",
        "import io\n",
        "import requests\n"
      ],
      "execution_count": 158,
      "outputs": []
    },
    {
      "cell_type": "markdown",
      "metadata": {
        "id": "bY8WB7KtrPGI"
      },
      "source": [
        "# Reading Data & Data leaning / processing \n"
      ]
    },
    {
      "cell_type": "code",
      "metadata": {
        "id": "iE17f4kzUKw4"
      },
      "source": [
        "url=\"https://www.batteryarchive.org/data/HNEI_18650_NMC_LCO_25C_0-100_0.5-1.5C_a_timeseries.csv\"\n",
        "s = requests.get(url).content\n",
        "df = pd.read_csv(io.StringIO(s.decode('utf-8')))"
      ],
      "execution_count": 159,
      "outputs": []
    },
    {
      "cell_type": "code",
      "metadata": {
        "colab": {
          "base_uri": "https://localhost:8080/",
          "height": 405
        },
        "id": "lHQRe8FMUV1p",
        "outputId": "81ea49ed-a047-4e29-937b-db4a891207b9"
      },
      "source": [
        "df.head()"
      ],
      "execution_count": 160,
      "outputs": [
        {
          "output_type": "execute_result",
          "data": {
            "text/html": [
              "<div>\n",
              "<style scoped>\n",
              "    .dataframe tbody tr th:only-of-type {\n",
              "        vertical-align: middle;\n",
              "    }\n",
              "\n",
              "    .dataframe tbody tr th {\n",
              "        vertical-align: top;\n",
              "    }\n",
              "\n",
              "    .dataframe thead th {\n",
              "        text-align: right;\n",
              "    }\n",
              "</style>\n",
              "<table border=\"1\" class=\"dataframe\">\n",
              "  <thead>\n",
              "    <tr style=\"text-align: right;\">\n",
              "      <th></th>\n",
              "      <th>Date_Time</th>\n",
              "      <th>Test_Time (s)</th>\n",
              "      <th>Cycle_Index</th>\n",
              "      <th>Current (A)</th>\n",
              "      <th>Voltage (V)</th>\n",
              "      <th>Charge_Capacity (Ah)</th>\n",
              "      <th>Discharge_Capacity (Ah)</th>\n",
              "      <th>Charge_Energy (Wh)</th>\n",
              "      <th>Discharge_Energy (Wh)</th>\n",
              "      <th>Environment_Temperature (C)</th>\n",
              "      <th>Cell_Temperature (C)</th>\n",
              "    </tr>\n",
              "  </thead>\n",
              "  <tbody>\n",
              "    <tr>\n",
              "      <th>0</th>\n",
              "      <td>2013-05-22 11:46:56</td>\n",
              "      <td>30.014</td>\n",
              "      <td>1.0</td>\n",
              "      <td>0.000</td>\n",
              "      <td>3.779</td>\n",
              "      <td>0.0</td>\n",
              "      <td>0.000</td>\n",
              "      <td>0.0</td>\n",
              "      <td>0.000</td>\n",
              "      <td>NaN</td>\n",
              "      <td>NaN</td>\n",
              "    </tr>\n",
              "    <tr>\n",
              "      <th>1</th>\n",
              "      <td>2013-05-22 11:47:26</td>\n",
              "      <td>59.999</td>\n",
              "      <td>1.0</td>\n",
              "      <td>0.000</td>\n",
              "      <td>3.779</td>\n",
              "      <td>0.0</td>\n",
              "      <td>0.000</td>\n",
              "      <td>0.0</td>\n",
              "      <td>0.000</td>\n",
              "      <td>NaN</td>\n",
              "      <td>NaN</td>\n",
              "    </tr>\n",
              "    <tr>\n",
              "      <th>2</th>\n",
              "      <td>2013-05-22 11:47:33</td>\n",
              "      <td>67.294</td>\n",
              "      <td>1.0</td>\n",
              "      <td>-1.398</td>\n",
              "      <td>3.670</td>\n",
              "      <td>0.0</td>\n",
              "      <td>0.001</td>\n",
              "      <td>0.0</td>\n",
              "      <td>0.005</td>\n",
              "      <td>NaN</td>\n",
              "      <td>NaN</td>\n",
              "    </tr>\n",
              "    <tr>\n",
              "      <th>3</th>\n",
              "      <td>2013-05-22 11:47:41</td>\n",
              "      <td>74.303</td>\n",
              "      <td>1.0</td>\n",
              "      <td>-1.398</td>\n",
              "      <td>3.664</td>\n",
              "      <td>0.0</td>\n",
              "      <td>0.004</td>\n",
              "      <td>0.0</td>\n",
              "      <td>0.015</td>\n",
              "      <td>NaN</td>\n",
              "      <td>NaN</td>\n",
              "    </tr>\n",
              "    <tr>\n",
              "      <th>4</th>\n",
              "      <td>2013-05-22 11:47:48</td>\n",
              "      <td>81.310</td>\n",
              "      <td>1.0</td>\n",
              "      <td>-1.399</td>\n",
              "      <td>3.659</td>\n",
              "      <td>0.0</td>\n",
              "      <td>0.006</td>\n",
              "      <td>0.0</td>\n",
              "      <td>0.025</td>\n",
              "      <td>NaN</td>\n",
              "      <td>NaN</td>\n",
              "    </tr>\n",
              "  </tbody>\n",
              "</table>\n",
              "</div>"
            ],
            "text/plain": [
              "             Date_Time  ...  Cell_Temperature (C)\n",
              "0  2013-05-22 11:46:56  ...                   NaN\n",
              "1  2013-05-22 11:47:26  ...                   NaN\n",
              "2  2013-05-22 11:47:33  ...                   NaN\n",
              "3  2013-05-22 11:47:41  ...                   NaN\n",
              "4  2013-05-22 11:47:48  ...                   NaN\n",
              "\n",
              "[5 rows x 11 columns]"
            ]
          },
          "metadata": {
            "tags": []
          },
          "execution_count": 160
        }
      ]
    },
    {
      "cell_type": "code",
      "metadata": {
        "colab": {
          "base_uri": "https://localhost:8080/"
        },
        "id": "Gjw7HfRiV8um",
        "outputId": "357268d1-42fb-4a34-ca4d-446cdc2d754b"
      },
      "source": [
        "df.info()"
      ],
      "execution_count": 161,
      "outputs": [
        {
          "output_type": "stream",
          "text": [
            "<class 'pandas.core.frame.DataFrame'>\n",
            "RangeIndex: 651031 entries, 0 to 651030\n",
            "Data columns (total 11 columns):\n",
            " #   Column                       Non-Null Count   Dtype  \n",
            "---  ------                       --------------   -----  \n",
            " 0   Date_Time                    651031 non-null  object \n",
            " 1   Test_Time (s)                651031 non-null  float64\n",
            " 2   Cycle_Index                  651031 non-null  float64\n",
            " 3   Current (A)                  651031 non-null  float64\n",
            " 4   Voltage (V)                  651031 non-null  float64\n",
            " 5   Charge_Capacity (Ah)         651031 non-null  float64\n",
            " 6   Discharge_Capacity (Ah)      651031 non-null  float64\n",
            " 7   Charge_Energy (Wh)           651031 non-null  float64\n",
            " 8   Discharge_Energy (Wh)        651031 non-null  float64\n",
            " 9   Environment_Temperature (C)  0 non-null       float64\n",
            " 10  Cell_Temperature (C)         0 non-null       float64\n",
            "dtypes: float64(10), object(1)\n",
            "memory usage: 54.6+ MB\n"
          ],
          "name": "stdout"
        }
      ]
    },
    {
      "cell_type": "code",
      "metadata": {
        "id": "qaoNAj9rxh2g"
      },
      "source": [
        "new_df = df[df['Cycle_Index'] < 2 ]"
      ],
      "execution_count": 162,
      "outputs": []
    },
    {
      "cell_type": "code",
      "metadata": {
        "colab": {
          "base_uri": "https://localhost:8080/",
          "height": 784
        },
        "id": "Rl6GfcZexvok",
        "outputId": "d78caf33-1b06-4705-c724-c4c9e2789d73"
      },
      "source": [
        "new_df"
      ],
      "execution_count": 163,
      "outputs": [
        {
          "output_type": "execute_result",
          "data": {
            "text/html": [
              "<div>\n",
              "<style scoped>\n",
              "    .dataframe tbody tr th:only-of-type {\n",
              "        vertical-align: middle;\n",
              "    }\n",
              "\n",
              "    .dataframe tbody tr th {\n",
              "        vertical-align: top;\n",
              "    }\n",
              "\n",
              "    .dataframe thead th {\n",
              "        text-align: right;\n",
              "    }\n",
              "</style>\n",
              "<table border=\"1\" class=\"dataframe\">\n",
              "  <thead>\n",
              "    <tr style=\"text-align: right;\">\n",
              "      <th></th>\n",
              "      <th>Date_Time</th>\n",
              "      <th>Test_Time (s)</th>\n",
              "      <th>Cycle_Index</th>\n",
              "      <th>Current (A)</th>\n",
              "      <th>Voltage (V)</th>\n",
              "      <th>Charge_Capacity (Ah)</th>\n",
              "      <th>Discharge_Capacity (Ah)</th>\n",
              "      <th>Charge_Energy (Wh)</th>\n",
              "      <th>Discharge_Energy (Wh)</th>\n",
              "      <th>Environment_Temperature (C)</th>\n",
              "      <th>Cell_Temperature (C)</th>\n",
              "    </tr>\n",
              "  </thead>\n",
              "  <tbody>\n",
              "    <tr>\n",
              "      <th>0</th>\n",
              "      <td>2013-05-22 11:46:56</td>\n",
              "      <td>30.014</td>\n",
              "      <td>1.0</td>\n",
              "      <td>0.000</td>\n",
              "      <td>3.779</td>\n",
              "      <td>0.000</td>\n",
              "      <td>0.000</td>\n",
              "      <td>0.00</td>\n",
              "      <td>0.000</td>\n",
              "      <td>NaN</td>\n",
              "      <td>NaN</td>\n",
              "    </tr>\n",
              "    <tr>\n",
              "      <th>1</th>\n",
              "      <td>2013-05-22 11:47:26</td>\n",
              "      <td>59.999</td>\n",
              "      <td>1.0</td>\n",
              "      <td>0.000</td>\n",
              "      <td>3.779</td>\n",
              "      <td>0.000</td>\n",
              "      <td>0.000</td>\n",
              "      <td>0.00</td>\n",
              "      <td>0.000</td>\n",
              "      <td>NaN</td>\n",
              "      <td>NaN</td>\n",
              "    </tr>\n",
              "    <tr>\n",
              "      <th>2</th>\n",
              "      <td>2013-05-22 11:47:33</td>\n",
              "      <td>67.294</td>\n",
              "      <td>1.0</td>\n",
              "      <td>-1.398</td>\n",
              "      <td>3.670</td>\n",
              "      <td>0.000</td>\n",
              "      <td>0.001</td>\n",
              "      <td>0.00</td>\n",
              "      <td>0.005</td>\n",
              "      <td>NaN</td>\n",
              "      <td>NaN</td>\n",
              "    </tr>\n",
              "    <tr>\n",
              "      <th>3</th>\n",
              "      <td>2013-05-22 11:47:41</td>\n",
              "      <td>74.303</td>\n",
              "      <td>1.0</td>\n",
              "      <td>-1.398</td>\n",
              "      <td>3.664</td>\n",
              "      <td>0.000</td>\n",
              "      <td>0.004</td>\n",
              "      <td>0.00</td>\n",
              "      <td>0.015</td>\n",
              "      <td>NaN</td>\n",
              "      <td>NaN</td>\n",
              "    </tr>\n",
              "    <tr>\n",
              "      <th>4</th>\n",
              "      <td>2013-05-22 11:47:48</td>\n",
              "      <td>81.310</td>\n",
              "      <td>1.0</td>\n",
              "      <td>-1.399</td>\n",
              "      <td>3.659</td>\n",
              "      <td>0.000</td>\n",
              "      <td>0.006</td>\n",
              "      <td>0.00</td>\n",
              "      <td>0.025</td>\n",
              "      <td>NaN</td>\n",
              "      <td>NaN</td>\n",
              "    </tr>\n",
              "    <tr>\n",
              "      <th>...</th>\n",
              "      <td>...</td>\n",
              "      <td>...</td>\n",
              "      <td>...</td>\n",
              "      <td>...</td>\n",
              "      <td>...</td>\n",
              "      <td>...</td>\n",
              "      <td>...</td>\n",
              "      <td>...</td>\n",
              "      <td>...</td>\n",
              "      <td>...</td>\n",
              "      <td>...</td>\n",
              "    </tr>\n",
              "    <tr>\n",
              "      <th>1951</th>\n",
              "      <td>2013-05-22 15:49:05</td>\n",
              "      <td>14558.462</td>\n",
              "      <td>1.0</td>\n",
              "      <td>0.000</td>\n",
              "      <td>4.342</td>\n",
              "      <td>2.869</td>\n",
              "      <td>0.000</td>\n",
              "      <td>11.58</td>\n",
              "      <td>0.000</td>\n",
              "      <td>NaN</td>\n",
              "      <td>NaN</td>\n",
              "    </tr>\n",
              "    <tr>\n",
              "      <th>1952</th>\n",
              "      <td>2013-05-22 15:49:35</td>\n",
              "      <td>14588.447</td>\n",
              "      <td>1.0</td>\n",
              "      <td>0.000</td>\n",
              "      <td>4.341</td>\n",
              "      <td>2.869</td>\n",
              "      <td>0.000</td>\n",
              "      <td>11.58</td>\n",
              "      <td>0.000</td>\n",
              "      <td>NaN</td>\n",
              "      <td>NaN</td>\n",
              "    </tr>\n",
              "    <tr>\n",
              "      <th>1953</th>\n",
              "      <td>2013-05-22 15:50:05</td>\n",
              "      <td>14618.462</td>\n",
              "      <td>1.0</td>\n",
              "      <td>0.000</td>\n",
              "      <td>4.341</td>\n",
              "      <td>2.869</td>\n",
              "      <td>0.000</td>\n",
              "      <td>11.58</td>\n",
              "      <td>0.000</td>\n",
              "      <td>NaN</td>\n",
              "      <td>NaN</td>\n",
              "    </tr>\n",
              "    <tr>\n",
              "      <th>1954</th>\n",
              "      <td>2013-05-22 15:50:34</td>\n",
              "      <td>14648.447</td>\n",
              "      <td>1.0</td>\n",
              "      <td>0.000</td>\n",
              "      <td>4.341</td>\n",
              "      <td>2.869</td>\n",
              "      <td>0.000</td>\n",
              "      <td>11.58</td>\n",
              "      <td>0.000</td>\n",
              "      <td>NaN</td>\n",
              "      <td>NaN</td>\n",
              "    </tr>\n",
              "    <tr>\n",
              "      <th>1955</th>\n",
              "      <td>2013-05-22 15:50:35</td>\n",
              "      <td>14648.447</td>\n",
              "      <td>1.0</td>\n",
              "      <td>0.000</td>\n",
              "      <td>4.341</td>\n",
              "      <td>2.869</td>\n",
              "      <td>0.000</td>\n",
              "      <td>11.58</td>\n",
              "      <td>0.000</td>\n",
              "      <td>NaN</td>\n",
              "      <td>NaN</td>\n",
              "    </tr>\n",
              "  </tbody>\n",
              "</table>\n",
              "<p>1956 rows × 11 columns</p>\n",
              "</div>"
            ],
            "text/plain": [
              "                Date_Time  ...  Cell_Temperature (C)\n",
              "0     2013-05-22 11:46:56  ...                   NaN\n",
              "1     2013-05-22 11:47:26  ...                   NaN\n",
              "2     2013-05-22 11:47:33  ...                   NaN\n",
              "3     2013-05-22 11:47:41  ...                   NaN\n",
              "4     2013-05-22 11:47:48  ...                   NaN\n",
              "...                   ...  ...                   ...\n",
              "1951  2013-05-22 15:49:05  ...                   NaN\n",
              "1952  2013-05-22 15:49:35  ...                   NaN\n",
              "1953  2013-05-22 15:50:05  ...                   NaN\n",
              "1954  2013-05-22 15:50:34  ...                   NaN\n",
              "1955  2013-05-22 15:50:35  ...                   NaN\n",
              "\n",
              "[1956 rows x 11 columns]"
            ]
          },
          "metadata": {
            "tags": []
          },
          "execution_count": 163
        }
      ]
    },
    {
      "cell_type": "code",
      "metadata": {
        "id": "Pagzh50B9wZW"
      },
      "source": [
        "Train = new_df.drop(new_df.index[[0, 1]])"
      ],
      "execution_count": 164,
      "outputs": []
    },
    {
      "cell_type": "code",
      "metadata": {
        "colab": {
          "base_uri": "https://localhost:8080/",
          "height": 405
        },
        "id": "FqawkNSK-DLs",
        "outputId": "9b8e2cd0-0a6b-4541-f0a0-b945196da8ef"
      },
      "source": [
        "Train.head()"
      ],
      "execution_count": 165,
      "outputs": [
        {
          "output_type": "execute_result",
          "data": {
            "text/html": [
              "<div>\n",
              "<style scoped>\n",
              "    .dataframe tbody tr th:only-of-type {\n",
              "        vertical-align: middle;\n",
              "    }\n",
              "\n",
              "    .dataframe tbody tr th {\n",
              "        vertical-align: top;\n",
              "    }\n",
              "\n",
              "    .dataframe thead th {\n",
              "        text-align: right;\n",
              "    }\n",
              "</style>\n",
              "<table border=\"1\" class=\"dataframe\">\n",
              "  <thead>\n",
              "    <tr style=\"text-align: right;\">\n",
              "      <th></th>\n",
              "      <th>Date_Time</th>\n",
              "      <th>Test_Time (s)</th>\n",
              "      <th>Cycle_Index</th>\n",
              "      <th>Current (A)</th>\n",
              "      <th>Voltage (V)</th>\n",
              "      <th>Charge_Capacity (Ah)</th>\n",
              "      <th>Discharge_Capacity (Ah)</th>\n",
              "      <th>Charge_Energy (Wh)</th>\n",
              "      <th>Discharge_Energy (Wh)</th>\n",
              "      <th>Environment_Temperature (C)</th>\n",
              "      <th>Cell_Temperature (C)</th>\n",
              "    </tr>\n",
              "  </thead>\n",
              "  <tbody>\n",
              "    <tr>\n",
              "      <th>2</th>\n",
              "      <td>2013-05-22 11:47:33</td>\n",
              "      <td>67.294</td>\n",
              "      <td>1.0</td>\n",
              "      <td>-1.398</td>\n",
              "      <td>3.670</td>\n",
              "      <td>0.0</td>\n",
              "      <td>0.001</td>\n",
              "      <td>0.0</td>\n",
              "      <td>0.005</td>\n",
              "      <td>NaN</td>\n",
              "      <td>NaN</td>\n",
              "    </tr>\n",
              "    <tr>\n",
              "      <th>3</th>\n",
              "      <td>2013-05-22 11:47:41</td>\n",
              "      <td>74.303</td>\n",
              "      <td>1.0</td>\n",
              "      <td>-1.398</td>\n",
              "      <td>3.664</td>\n",
              "      <td>0.0</td>\n",
              "      <td>0.004</td>\n",
              "      <td>0.0</td>\n",
              "      <td>0.015</td>\n",
              "      <td>NaN</td>\n",
              "      <td>NaN</td>\n",
              "    </tr>\n",
              "    <tr>\n",
              "      <th>4</th>\n",
              "      <td>2013-05-22 11:47:48</td>\n",
              "      <td>81.310</td>\n",
              "      <td>1.0</td>\n",
              "      <td>-1.399</td>\n",
              "      <td>3.659</td>\n",
              "      <td>0.0</td>\n",
              "      <td>0.006</td>\n",
              "      <td>0.0</td>\n",
              "      <td>0.025</td>\n",
              "      <td>NaN</td>\n",
              "      <td>NaN</td>\n",
              "    </tr>\n",
              "    <tr>\n",
              "      <th>5</th>\n",
              "      <td>2013-05-22 11:47:55</td>\n",
              "      <td>88.319</td>\n",
              "      <td>1.0</td>\n",
              "      <td>-1.398</td>\n",
              "      <td>3.656</td>\n",
              "      <td>0.0</td>\n",
              "      <td>0.009</td>\n",
              "      <td>0.0</td>\n",
              "      <td>0.035</td>\n",
              "      <td>NaN</td>\n",
              "      <td>NaN</td>\n",
              "    </tr>\n",
              "    <tr>\n",
              "      <th>6</th>\n",
              "      <td>2013-05-22 11:48:01</td>\n",
              "      <td>95.294</td>\n",
              "      <td>1.0</td>\n",
              "      <td>-1.399</td>\n",
              "      <td>3.654</td>\n",
              "      <td>0.0</td>\n",
              "      <td>0.012</td>\n",
              "      <td>0.0</td>\n",
              "      <td>0.045</td>\n",
              "      <td>NaN</td>\n",
              "      <td>NaN</td>\n",
              "    </tr>\n",
              "  </tbody>\n",
              "</table>\n",
              "</div>"
            ],
            "text/plain": [
              "             Date_Time  ...  Cell_Temperature (C)\n",
              "2  2013-05-22 11:47:33  ...                   NaN\n",
              "3  2013-05-22 11:47:41  ...                   NaN\n",
              "4  2013-05-22 11:47:48  ...                   NaN\n",
              "5  2013-05-22 11:47:55  ...                   NaN\n",
              "6  2013-05-22 11:48:01  ...                   NaN\n",
              "\n",
              "[5 rows x 11 columns]"
            ]
          },
          "metadata": {
            "tags": []
          },
          "execution_count": 165
        }
      ]
    },
    {
      "cell_type": "code",
      "metadata": {
        "id": "q3PIPCP2zkPh"
      },
      "source": [
        "Test = df[df['Cycle_Index'] == 2 ]"
      ],
      "execution_count": 166,
      "outputs": []
    },
    {
      "cell_type": "code",
      "metadata": {
        "colab": {
          "base_uri": "https://localhost:8080/",
          "height": 405
        },
        "id": "1jNmm9m48VgV",
        "outputId": "1b490dc0-6888-44c6-b89d-87e5ee059515"
      },
      "source": [
        "Test.head()"
      ],
      "execution_count": 167,
      "outputs": [
        {
          "output_type": "execute_result",
          "data": {
            "text/html": [
              "<div>\n",
              "<style scoped>\n",
              "    .dataframe tbody tr th:only-of-type {\n",
              "        vertical-align: middle;\n",
              "    }\n",
              "\n",
              "    .dataframe tbody tr th {\n",
              "        vertical-align: top;\n",
              "    }\n",
              "\n",
              "    .dataframe thead th {\n",
              "        text-align: right;\n",
              "    }\n",
              "</style>\n",
              "<table border=\"1\" class=\"dataframe\">\n",
              "  <thead>\n",
              "    <tr style=\"text-align: right;\">\n",
              "      <th></th>\n",
              "      <th>Date_Time</th>\n",
              "      <th>Test_Time (s)</th>\n",
              "      <th>Cycle_Index</th>\n",
              "      <th>Current (A)</th>\n",
              "      <th>Voltage (V)</th>\n",
              "      <th>Charge_Capacity (Ah)</th>\n",
              "      <th>Discharge_Capacity (Ah)</th>\n",
              "      <th>Charge_Energy (Wh)</th>\n",
              "      <th>Discharge_Energy (Wh)</th>\n",
              "      <th>Environment_Temperature (C)</th>\n",
              "      <th>Cell_Temperature (C)</th>\n",
              "    </tr>\n",
              "  </thead>\n",
              "  <tbody>\n",
              "    <tr>\n",
              "      <th>1956</th>\n",
              "      <td>2013-05-22 15:50:42</td>\n",
              "      <td>14655.743</td>\n",
              "      <td>2.0</td>\n",
              "      <td>-1.399</td>\n",
              "      <td>4.246</td>\n",
              "      <td>0.0</td>\n",
              "      <td>0.000</td>\n",
              "      <td>0.0</td>\n",
              "      <td>0.000</td>\n",
              "      <td>NaN</td>\n",
              "      <td>NaN</td>\n",
              "    </tr>\n",
              "    <tr>\n",
              "      <th>1957</th>\n",
              "      <td>2013-05-22 15:50:49</td>\n",
              "      <td>14662.750</td>\n",
              "      <td>2.0</td>\n",
              "      <td>-1.398</td>\n",
              "      <td>4.239</td>\n",
              "      <td>0.0</td>\n",
              "      <td>0.002</td>\n",
              "      <td>0.0</td>\n",
              "      <td>0.011</td>\n",
              "      <td>NaN</td>\n",
              "      <td>NaN</td>\n",
              "    </tr>\n",
              "    <tr>\n",
              "      <th>1958</th>\n",
              "      <td>2013-05-22 15:50:56</td>\n",
              "      <td>14669.758</td>\n",
              "      <td>2.0</td>\n",
              "      <td>-1.398</td>\n",
              "      <td>4.233</td>\n",
              "      <td>0.0</td>\n",
              "      <td>0.005</td>\n",
              "      <td>0.0</td>\n",
              "      <td>0.023</td>\n",
              "      <td>NaN</td>\n",
              "      <td>NaN</td>\n",
              "    </tr>\n",
              "    <tr>\n",
              "      <th>1959</th>\n",
              "      <td>2013-05-22 15:51:03</td>\n",
              "      <td>14676.735</td>\n",
              "      <td>2.0</td>\n",
              "      <td>-1.398</td>\n",
              "      <td>4.229</td>\n",
              "      <td>0.0</td>\n",
              "      <td>0.008</td>\n",
              "      <td>0.0</td>\n",
              "      <td>0.034</td>\n",
              "      <td>NaN</td>\n",
              "      <td>NaN</td>\n",
              "    </tr>\n",
              "    <tr>\n",
              "      <th>1960</th>\n",
              "      <td>2013-05-22 15:51:10</td>\n",
              "      <td>14683.743</td>\n",
              "      <td>2.0</td>\n",
              "      <td>-1.399</td>\n",
              "      <td>4.225</td>\n",
              "      <td>0.0</td>\n",
              "      <td>0.010</td>\n",
              "      <td>0.0</td>\n",
              "      <td>0.046</td>\n",
              "      <td>NaN</td>\n",
              "      <td>NaN</td>\n",
              "    </tr>\n",
              "  </tbody>\n",
              "</table>\n",
              "</div>"
            ],
            "text/plain": [
              "                Date_Time  ...  Cell_Temperature (C)\n",
              "1956  2013-05-22 15:50:42  ...                   NaN\n",
              "1957  2013-05-22 15:50:49  ...                   NaN\n",
              "1958  2013-05-22 15:50:56  ...                   NaN\n",
              "1959  2013-05-22 15:51:03  ...                   NaN\n",
              "1960  2013-05-22 15:51:10  ...                   NaN\n",
              "\n",
              "[5 rows x 11 columns]"
            ]
          },
          "metadata": {
            "tags": []
          },
          "execution_count": 167
        }
      ]
    },
    {
      "cell_type": "markdown",
      "metadata": {
        "id": "A2CfgR4Iro35"
      },
      "source": [
        "## Idea of using the tangent ( slote ) as a SoC and define as a target column"
      ]
    },
    {
      "cell_type": "code",
      "metadata": {
        "id": "vTTebfD8GFDi"
      },
      "source": [
        "col_x = ['Charge_Capacity (Ah)']\n",
        "col_y = ['Voltage (V)']"
      ],
      "execution_count": 168,
      "outputs": []
    },
    {
      "cell_type": "code",
      "metadata": {
        "id": "nmvtsEUEGLCQ"
      },
      "source": [
        "Col_X = Train[col_x]\n",
        "Col_Y = Train[col_y]"
      ],
      "execution_count": 169,
      "outputs": []
    },
    {
      "cell_type": "code",
      "metadata": {
        "id": "JsfT-tTpM0Xd"
      },
      "source": [
        "X = Col_X.to_numpy()\n",
        "Y = Col_Y.to_numpy()"
      ],
      "execution_count": 170,
      "outputs": []
    },
    {
      "cell_type": "markdown",
      "metadata": {
        "id": "vhAR1cU54FPp"
      },
      "source": [
        "In this part we are going to delete every NaN values. So, we won't have any problem. "
      ]
    },
    {
      "cell_type": "code",
      "metadata": {
        "id": "oTiJ8f2-4R-z"
      },
      "source": [
        "Train_1 = Train.drop(['Environment_Temperature (C)','Cell_Temperature (C)','Date_Time'],axis=1)"
      ],
      "execution_count": 171,
      "outputs": []
    },
    {
      "cell_type": "markdown",
      "metadata": {
        "id": "AlW6sACd4W58"
      },
      "source": [
        "# Feature selection can be done in multiple ways but there are broadly 2 categories of it:\n",
        "\n",
        "\n",
        "\n",
        "1.   Correlation Coefficient ( filter Method )\n",
        "2.   Wrapper Methods (if we can get the tangent and set it as target we can you this operation )\n"
      ]
    },
    {
      "cell_type": "markdown",
      "metadata": {
        "id": "AzkCAOLC_PBg"
      },
      "source": [
        "## 1/ Correlation Coefficient \n",
        "description : Correlation is a measure of the linear relationship of 2 or more variables. Through correlation, we can predict one variable from the other. The logic behind using correlation for feature selection is that the good variables are highly correlated with the target. Furthermore, variables should be correlated with the target but should be uncorrelated among themselves.\n",
        "\n",
        "We need to set an absolute value, say 0.5 as the threshold for selecting the variables. If we find that the predictor variables are correlated among themselves, we can drop the variable which has a lower correlation coefficient value with the target variable. We can also compute multiple correlation coefficients to check whether more than two variables are correlated to each other. This phenomenon is known as multicollinearity."
      ]
    },
    {
      "cell_type": "code",
      "metadata": {
        "colab": {
          "base_uri": "https://localhost:8080/",
          "height": 0
        },
        "id": "-GfCjRP7AtvB",
        "outputId": "85b76f6e-6e11-49fc-d826-24030d1a6d0a"
      },
      "source": [
        "plt.subplots(figsize=(20,15))\n",
        "cor = Train_1.corr()\n",
        "sns.heatmap(cor, annot = True,square=True)"
      ],
      "execution_count": 172,
      "outputs": [
        {
          "output_type": "execute_result",
          "data": {
            "text/plain": [
              "<matplotlib.axes._subplots.AxesSubplot at 0x7f7657da6390>"
            ]
          },
          "metadata": {
            "tags": []
          },
          "execution_count": 172
        },
        {
          "output_type": "display_data",
          "data": {
            "image/png": "[encoded data removed]",
            "text/plain": [
              "<Figure size 1440x1080 with 2 Axes>"
            ]
          },
          "metadata": {
            "tags": [],
            "needs_background": "light"
          }
        }
      ]
    },
    {
      "cell_type": "code",
      "metadata": {
        "colab": {
          "base_uri": "https://localhost:8080/"
        },
        "id": "nFWmo6d2B4Jl",
        "outputId": "0aa2dd70-7639-4455-b73d-8f148ead39d5"
      },
      "source": [
        "Train_1.info()"
      ],
      "execution_count": 173,
      "outputs": [
        {
          "output_type": "stream",
          "text": [
            "<class 'pandas.core.frame.DataFrame'>\n",
            "Int64Index: 1954 entries, 2 to 1955\n",
            "Data columns (total 8 columns):\n",
            " #   Column                   Non-Null Count  Dtype  \n",
            "---  ------                   --------------  -----  \n",
            " 0   Test_Time (s)            1954 non-null   float64\n",
            " 1   Cycle_Index              1954 non-null   float64\n",
            " 2   Current (A)              1954 non-null   float64\n",
            " 3   Voltage (V)              1954 non-null   float64\n",
            " 4   Charge_Capacity (Ah)     1954 non-null   float64\n",
            " 5   Discharge_Capacity (Ah)  1954 non-null   float64\n",
            " 6   Charge_Energy (Wh)       1954 non-null   float64\n",
            " 7   Discharge_Energy (Wh)    1954 non-null   float64\n",
            "dtypes: float64(8)\n",
            "memory usage: 137.4 KB\n"
          ],
          "name": "stdout"
        }
      ]
    },
    {
      "cell_type": "code",
      "metadata": {
        "colab": {
          "base_uri": "https://localhost:8080/"
        },
        "id": "rtVnFGvqB2Ce",
        "outputId": "357e1a05-7569-431e-99e2-f58c3875367b"
      },
      "source": [
        "\n",
        "#Correlation with output variable\n",
        "cor_target = abs(cor[\"Charge_Capacity (Ah)\"])\n",
        "#Selecting highly correlated features\n",
        "relevant_features = cor_target[cor_target>0.5]\n",
        "relevant_features"
      ],
      "execution_count": 174,
      "outputs": [
        {
          "output_type": "execute_result",
          "data": {
            "text/plain": [
              "Test_Time (s)              0.978678\n",
              "Voltage (V)                0.940138\n",
              "Charge_Capacity (Ah)       1.000000\n",
              "Discharge_Capacity (Ah)    0.537384\n",
              "Charge_Energy (Wh)         0.999798\n",
              "Discharge_Energy (Wh)      0.539681\n",
              "Name: Charge_Capacity (Ah), dtype: float64"
            ]
          },
          "metadata": {
            "tags": []
          },
          "execution_count": 174
        }
      ]
    },
    {
      "cell_type": "markdown",
      "metadata": {
        "id": "NDcEkhiTA-Ux"
      },
      "source": [
        "Interpretation of the correlation heatmap : \n",
        "As we set the charge capacity as a correlation target and we say what are the features that influence the Charge Capacity: \n",
        "those features are : \n",
        "\n",
        "\n",
        "*   Test time  & The Voltage (V) have a high correlation of 0.978678 and 0,940138 respectively we can see that they increase at the same time (verification in Data visualization part ) \n",
        "*   Charge_Energy (Wh) has a highest correlation. \n",
        "     \n",
        "\n",
        "*   Discharge Energy (Wh) and Discharge Capacity (Ah) have a negative correlation ( see the heat map and in the data visualization part) which means that : one variable increases as the other decreases, and vice versa . \n",
        "\n",
        "\n",
        "\n"
      ]
    },
    {
      "cell_type": "markdown",
      "metadata": {
        "id": "4V_nUZrXPB-R"
      },
      "source": [
        "## 2/ Wrapper Methods\n",
        "Description : Wrappers require some method to search the space of all possible subsets of features, assessing their quality by learning and evaluating a classifier with that feature subset. The feature selection process is based on a specific machine learning algorithm that we are trying to fit on a given dataset. It follows a greedy search approach by evaluating all the possible combinations of features against the evaluation criterion. The wrapper methods usually result in better predictive accuracy than filter methods.\n",
        "\n",
        "*Forward Feature Selection :* This is an iterative method wherein we start with the best performing variable against the target. Next, we select another variable that gives the best performance in combination with the first selected variable. This process continues until the preset criterion is achieved\n",
        "\n",
        "link 1: https://scikit-learn.org/stable/modules/generated/sklearn.feature_selection.SequentialFeatureSelector.html?highlight=sequentialfeatureselector#sklearn.feature_selection.SequentialFeatureSelector\n",
        "\n",
        "link 2 : https://www.analyticsvidhya.com/blog/2020/10/feature-selection-techniques-in-machine-learning/"
      ]
    },
    {
      "cell_type": "markdown",
      "metadata": {
        "id": "WGo9LECaZqSG"
      },
      "source": [
        "# Data visualization over the charge capacity "
      ]
    },
    {
      "cell_type": "code",
      "metadata": {
        "colab": {
          "base_uri": "https://localhost:8080/",
          "height": 295
        },
        "id": "5TxFowUVy6O2",
        "outputId": "547822eb-2534-496e-a083-8c0bba03ff56"
      },
      "source": [
        "ax = plt.gca()\n",
        "\n",
        "Train.plot(kind='line',x='Charge_Capacity (Ah)',y='Voltage (V)',ax=ax)\n",
        "plt.title(\"Correlation betweel C.C and V during Cycle = 1\")\n",
        "\n",
        "plt.show()"
      ],
      "execution_count": 175,
      "outputs": [
        {
          "output_type": "display_data",
          "data": {
            "image/png": "[encoded data removed]",
            "text/plain": [
              "<Figure size 432x288 with 1 Axes>"
            ]
          },
          "metadata": {
            "tags": [],
            "needs_background": "light"
          }
        }
      ]
    },
    {
      "cell_type": "code",
      "metadata": {
        "colab": {
          "base_uri": "https://localhost:8080/",
          "height": 236
        },
        "id": "TxVQSR0fzHWA",
        "outputId": "558ed264-26de-4e31-b258-e3aaef0dba47"
      },
      "source": [
        "import datetime as dt\n",
        "\n",
        "Train['Date_Time']= pd.to_datetime(Train['Date_Time'],format='%Y-%m-%d %H:%M')\n",
        "\n",
        "df_gen=Train.groupby('Date_Time').sum().reset_index()\n",
        "df_gen['time']=df_gen['Date_Time'].dt.time\n",
        "\n",
        "fig,ax = plt.subplots(ncols=2,nrows=1,dpi=100,figsize=(20,5))\n",
        "# Charge capacity plot\n",
        "df_gen.plot(x='Date_Time',y='Charge_Capacity (Ah)',color='navy',ax=ax[0])\n",
        "# Charge energy plot\n",
        "df_gen.set_index('time').drop('Date_Time',1)[['Charge_Energy (Wh)']].plot(ax=ax[1])\n",
        "\n",
        "ax[0].set_title('time dependant of the charge capacity',)\n",
        "ax[1].set_title('Time dependant of the charge energy ')\n",
        "ax[0].set_ylabel('Charge_Capacity (Ah)',color='navy',fontsize=17)\n",
        "ax[1].set_ylabel('Charge energy (Wh)', color = 'navy',fontsize=17)\n",
        "plt.show()"
      ],
      "execution_count": 176,
      "outputs": [
        {
          "output_type": "display_data",
          "data": {
            "image/png": "[encoded data removed]",
            "text/plain": [
              "<Figure size 2000x500 with 2 Axes>"
            ]
          },
          "metadata": {
            "tags": [],
            "needs_background": "light"
          }
        }
      ]
    },
    {
      "cell_type": "code",
      "metadata": {
        "colab": {
          "base_uri": "https://localhost:8080/",
          "height": 240
        },
        "id": "Dx_ljCsy3gt0",
        "outputId": "be5a4f4c-918c-4915-ed98-a0b3bd6e2370"
      },
      "source": [
        "fig,ax = plt.subplots(ncols=2,nrows=1,dpi=100,figsize=(20,5))\n",
        "# Charge capacity plot\n",
        "df_gen.plot(x='Charge_Capacity (Ah)',y='Voltage (V)',color='navy',ax=ax[0])\n",
        "# Charge energy plot\n",
        "df_gen.plot(x='Charge_Capacity (Ah)',y='Current (A)',color='navy',ax=ax[1])\n",
        "# Charge energy plot\n",
        "\n",
        "ax[0].set_title('Voltage in function of the charge capacity',)\n",
        "ax[1].set_title('Current in function of the charge capacity')\n",
        "ax[0].set_ylabel('Voltage (V)',color='navy',fontsize=17)\n",
        "ax[1].set_ylabel('Current (A)', color = 'navy',fontsize=17)\n",
        "plt.show()"
      ],
      "execution_count": 177,
      "outputs": [
        {
          "output_type": "display_data",
          "data": {
            "image/png": "[encoded data removed]",
            "text/plain": [
              "<Figure size 2000x500 with 2 Axes>"
            ]
          },
          "metadata": {
            "tags": [],
            "needs_background": "light"
          }
        }
      ]
    },
    {
      "cell_type": "markdown",
      "metadata": {
        "id": "J2oUtJD55VxM"
      },
      "source": [
        "this is the evidence of the non correlation between the current and charge capacity. \n",
        "Therefor we can see the relationship between voltage and the charge capacity "
      ]
    },
    {
      "cell_type": "code",
      "metadata": {
        "colab": {
          "base_uri": "https://localhost:8080/"
        },
        "id": "4AqDdobF3jIe",
        "outputId": "9d4f3917-7205-4dae-a59f-3cc136e93b8c"
      },
      "source": [
        "Train_1.info()"
      ],
      "execution_count": 178,
      "outputs": [
        {
          "output_type": "stream",
          "text": [
            "<class 'pandas.core.frame.DataFrame'>\n",
            "Int64Index: 1954 entries, 2 to 1955\n",
            "Data columns (total 8 columns):\n",
            " #   Column                   Non-Null Count  Dtype  \n",
            "---  ------                   --------------  -----  \n",
            " 0   Test_Time (s)            1954 non-null   float64\n",
            " 1   Cycle_Index              1954 non-null   float64\n",
            " 2   Current (A)              1954 non-null   float64\n",
            " 3   Voltage (V)              1954 non-null   float64\n",
            " 4   Charge_Capacity (Ah)     1954 non-null   float64\n",
            " 5   Discharge_Capacity (Ah)  1954 non-null   float64\n",
            " 6   Charge_Energy (Wh)       1954 non-null   float64\n",
            " 7   Discharge_Energy (Wh)    1954 non-null   float64\n",
            "dtypes: float64(8)\n",
            "memory usage: 137.4 KB\n"
          ],
          "name": "stdout"
        }
      ]
    },
    {
      "cell_type": "code",
      "metadata": {
        "colab": {
          "base_uri": "https://localhost:8080/"
        },
        "id": "Q51tJD8S5K3_",
        "outputId": "b514e02b-a826-4171-a481-209766960f45"
      },
      "source": [
        "Test.shape"
      ],
      "execution_count": 179,
      "outputs": [
        {
          "output_type": "execute_result",
          "data": {
            "text/plain": [
              "(2603, 11)"
            ]
          },
          "metadata": {
            "tags": []
          },
          "execution_count": 179
        }
      ]
    },
    {
      "cell_type": "markdown",
      "metadata": {
        "id": "s3PcLBoU7na6"
      },
      "source": [
        "observation of the cycles on the battery. "
      ]
    },
    {
      "cell_type": "markdown",
      "metadata": {
        "id": "641soYi7Wyqa"
      },
      "source": [
        "# Note : normalization of the capacity "
      ]
    },
    {
      "cell_type": "code",
      "metadata": {
        "id": "k6B5SLP4W3Gg"
      },
      "source": [
        "from sklearn.preprocessing import RobustScaler\n",
        "\n",
        "transformer = RobustScaler().fit(X)"
      ],
      "execution_count": 180,
      "outputs": []
    },
    {
      "cell_type": "code",
      "metadata": {
        "colab": {
          "base_uri": "https://localhost:8080/"
        },
        "id": "gaHPA_VAXW5J",
        "outputId": "b706864a-c965-43c0-c11a-6b9d2cfb3133"
      },
      "source": [
        "transformer"
      ],
      "execution_count": 181,
      "outputs": [
        {
          "output_type": "execute_result",
          "data": {
            "text/plain": [
              "RobustScaler(copy=True, quantile_range=(25.0, 75.0), with_centering=True,\n",
              "             with_scaling=True)"
            ]
          },
          "metadata": {
            "tags": []
          },
          "execution_count": 181
        }
      ]
    },
    {
      "cell_type": "code",
      "metadata": {
        "colab": {
          "base_uri": "https://localhost:8080/"
        },
        "id": "yncy5akdXZgW",
        "outputId": "607b3635-7dd6-4f97-bd6e-8917d74b5aba"
      },
      "source": [
        "RobustScaler(X)"
      ],
      "execution_count": 182,
      "outputs": [
        {
          "output_type": "execute_result",
          "data": {
            "text/plain": [
              "RobustScaler(copy=True, quantile_range=(25.0, 75.0),\n",
              "             with_centering=array([[0.   ],\n",
              "       [0.   ],\n",
              "       [0.   ],\n",
              "       ...,\n",
              "       [2.869],\n",
              "       [2.869],\n",
              "       [2.869]]),\n",
              "             with_scaling=True)"
            ]
          },
          "metadata": {
            "tags": []
          },
          "execution_count": 182
        }
      ]
    },
    {
      "cell_type": "markdown",
      "metadata": {
        "id": "I2YDkmyt8LGl"
      },
      "source": [
        "# Neural Network model "
      ]
    },
    {
      "cell_type": "markdown",
      "metadata": {
        "id": "lV0WRYgy8bK6"
      },
      "source": [
        "## 1/ Recurrent Neural Network \n",
        "*LSTM =  Long Short Term Memory* "
      ]
    },
    {
      "cell_type": "code",
      "metadata": {
        "id": "HAGrZLtB8DW7"
      },
      "source": [
        "from sklearn.model_selection import train_test_split\n",
        "from sklearn import preprocessing\n",
        "from sklearn.decomposition import PCA\n",
        "from sklearn.cluster import KMeans\n",
        "from sklearn.covariance import EllipticEnvelope\n",
        "#from pyemma import msm # not available on Kaggle Kernel\n",
        "from sklearn.ensemble import IsolationForest\n",
        "from sklearn.svm import OneClassSVM"
      ],
      "execution_count": 183,
      "outputs": []
    },
    {
      "cell_type": "code",
      "metadata": {
        "id": "180uTKqR6Msp"
      },
      "source": [
        "df1 = df[df['Cycle_Index'] < 3 ]"
      ],
      "execution_count": 196,
      "outputs": []
    },
    {
      "cell_type": "code",
      "metadata": {
        "colab": {
          "base_uri": "https://localhost:8080/"
        },
        "id": "bmdOMAxGapbs",
        "outputId": "cbee6421-1d4c-4546-f68a-3d1524491aff"
      },
      "source": [
        "Train.columns"
      ],
      "execution_count": 184,
      "outputs": [
        {
          "output_type": "execute_result",
          "data": {
            "text/plain": [
              "Index(['Date_Time', 'Test_Time (s)', 'Cycle_Index', 'Current (A)',\n",
              "       'Voltage (V)', 'Charge_Capacity (Ah)', 'Discharge_Capacity (Ah)',\n",
              "       'Charge_Energy (Wh)', 'Discharge_Energy (Wh)',\n",
              "       'Environment_Temperature (C)', 'Cell_Temperature (C)'],\n",
              "      dtype='object')"
            ]
          },
          "metadata": {
            "tags": []
          },
          "execution_count": 184
        }
      ]
    },
    {
      "cell_type": "code",
      "metadata": {
        "id": "oXatf5BP_KQB"
      },
      "source": [
        "#Train1 = Train_1.rename(columns={'Charge_Capacity (Ah)': 'Charge_Capacity'})"
      ],
      "execution_count": 185,
      "outputs": []
    },
    {
      "cell_type": "code",
      "metadata": {
        "colab": {
          "base_uri": "https://localhost:8080/"
        },
        "id": "mP7FCeP3btkc",
        "outputId": "0f62f1aa-c866-4347-931a-9ed7b2be7ba7"
      },
      "source": [
        "train_size = int(len(Train_1) * 0.7)\n",
        "test_size = len(Train_1) - train_size\n",
        "train, test = Train_1.iloc[0:train_size], Train_1.iloc[train_size:len(Train_1)]\n",
        "print(len(train), len(test))"
      ],
      "execution_count": 209,
      "outputs": [
        {
          "output_type": "stream",
          "text": [
            "1367 587\n"
          ],
          "name": "stdout"
        }
      ]
    },
    {
      "cell_type": "code",
      "metadata": {
        "colab": {
          "base_uri": "https://localhost:8080/"
        },
        "id": "1Ohvuy5EamJ6",
        "outputId": "d675c1f2-028d-40db-af04-da5eb0cccee1"
      },
      "source": [
        "from sklearn.preprocessing import RobustScaler\n",
        "\n",
        "i_columns = ['Voltage (V)', 'Discharge_Capacity (Ah)', 'Charge_Energy (Wh)']\n",
        "\n",
        "f_transformer = RobustScaler()\n",
        "cc_transformer = RobustScaler()\n",
        "\n",
        "f_transformer = f_transformer.fit(train[i_columns].to_numpy())\n",
        "cc_transformer = cc_transformer.fit(train[['Charge_Capacity (Ah)']])\n",
        "\n",
        "train.loc[:, i_columns] = f_transformer.transform(train[i_columns].to_numpy())\n",
        "train['Charge_Capacity (Ah)'] = cc_transformer.transform(train[['Charge_Capacity (Ah)']])\n",
        "\n",
        "test.loc[:, i_columns] = f_transformer.transform(test[i_columns].to_numpy())\n",
        "test['Charge_Capacity (Ah)'] = cc_transformer.transform(test[['Charge_Capacity (Ah)']])"
      ],
      "execution_count": 210,
      "outputs": [
        {
          "output_type": "stream",
          "text": [
            "/usr/local/lib/python3.7/dist-packages/pandas/core/indexing.py:670: SettingWithCopyWarning: \n",
            "A value is trying to be set on a copy of a slice from a DataFrame\n",
            "\n",
            "See the caveats in the documentation: https://pandas.pydata.org/pandas-docs/stable/user_guide/indexing.html#returning-a-view-versus-a-copy\n",
            "  iloc._setitem_with_indexer(indexer, value)\n",
            "/usr/local/lib/python3.7/dist-packages/ipykernel_launcher.py:11: SettingWithCopyWarning: \n",
            "A value is trying to be set on a copy of a slice from a DataFrame\n",
            "\n",
            "See the caveats in the documentation: https://pandas.pydata.org/pandas-docs/stable/user_guide/indexing.html#returning-a-view-versus-a-copy\n",
            "  # This is added back by InteractiveShellApp.init_path()\n",
            "/usr/local/lib/python3.7/dist-packages/ipykernel_launcher.py:12: SettingWithCopyWarning: \n",
            "A value is trying to be set on a copy of a slice from a DataFrame.\n",
            "Try using .loc[row_indexer,col_indexer] = value instead\n",
            "\n",
            "See the caveats in the documentation: https://pandas.pydata.org/pandas-docs/stable/user_guide/indexing.html#returning-a-view-versus-a-copy\n",
            "  if sys.path[0] == '':\n",
            "/usr/local/lib/python3.7/dist-packages/pandas/core/indexing.py:670: SettingWithCopyWarning: \n",
            "A value is trying to be set on a copy of a slice from a DataFrame\n",
            "\n",
            "See the caveats in the documentation: https://pandas.pydata.org/pandas-docs/stable/user_guide/indexing.html#returning-a-view-versus-a-copy\n",
            "  iloc._setitem_with_indexer(indexer, value)\n",
            "/usr/local/lib/python3.7/dist-packages/ipykernel_launcher.py:14: SettingWithCopyWarning: \n",
            "A value is trying to be set on a copy of a slice from a DataFrame\n",
            "\n",
            "See the caveats in the documentation: https://pandas.pydata.org/pandas-docs/stable/user_guide/indexing.html#returning-a-view-versus-a-copy\n",
            "  \n",
            "/usr/local/lib/python3.7/dist-packages/ipykernel_launcher.py:15: SettingWithCopyWarning: \n",
            "A value is trying to be set on a copy of a slice from a DataFrame.\n",
            "Try using .loc[row_indexer,col_indexer] = value instead\n",
            "\n",
            "See the caveats in the documentation: https://pandas.pydata.org/pandas-docs/stable/user_guide/indexing.html#returning-a-view-versus-a-copy\n",
            "  from ipykernel import kernelapp as app\n"
          ],
          "name": "stderr"
        }
      ]
    },
    {
      "cell_type": "code",
      "metadata": {
        "id": "5sU93CI6-Q3r"
      },
      "source": [
        "def create_dataset(X, y, time_steps=1):\n",
        "    Xs, ys = [], []\n",
        "    for i in range(len(X) - time_steps):\n",
        "        v = X.iloc[i:(i + time_steps)].values\n",
        "        Xs.append(v)        \n",
        "        ys.append(y.iloc[i + time_steps])\n",
        "    return np.array(Xs), np.array(ys)"
      ],
      "execution_count": 211,
      "outputs": []
    },
    {
      "cell_type": "code",
      "metadata": {
        "id": "z7bLfnl_CDaO"
      },
      "source": [
        "train1 = train.rename(columns={'Charge_Capacity (Ah)': 'Charge_Capacity'})"
      ],
      "execution_count": 212,
      "outputs": []
    },
    {
      "cell_type": "code",
      "metadata": {
        "id": "adOEtE5eJs2b"
      },
      "source": [
        "test1 = test.rename(columns={'Charge_Capacity (Ah)': 'Charge_Capacity'})"
      ],
      "execution_count": 213,
      "outputs": []
    },
    {
      "cell_type": "code",
      "metadata": {
        "colab": {
          "base_uri": "https://localhost:8080/"
        },
        "id": "hXu_jyPVJXK0",
        "outputId": "fabf445d-3788-414a-84f0-dd93c9205aaf"
      },
      "source": [
        "train.columns"
      ],
      "execution_count": 191,
      "outputs": [
        {
          "output_type": "execute_result",
          "data": {
            "text/plain": [
              "Index(['Date_Time', 'Test_Time (s)', 'Cycle_Index', 'Current (A)',\n",
              "       'Voltage (V)', 'Charge_Capacity (Ah)', 'Discharge_Capacity (Ah)',\n",
              "       'Charge_Energy (Wh)', 'Discharge_Energy (Wh)',\n",
              "       'Environment_Temperature (C)', 'Cell_Temperature (C)'],\n",
              "      dtype='object')"
            ]
          },
          "metadata": {
            "tags": []
          },
          "execution_count": 191
        }
      ]
    },
    {
      "cell_type": "code",
      "metadata": {
        "colab": {
          "base_uri": "https://localhost:8080/"
        },
        "id": "ONnYJwIe-Tnn",
        "outputId": "49609cbe-3e0a-4116-ab32-5a83ec7299bf"
      },
      "source": [
        "time_steps = 8 #check train.head()\n",
        "\n",
        "# reshape to [samples, time_steps, n_features]\n",
        "\n",
        "X_train, y_train = create_dataset(train1, train1.Charge_Capacity , time_steps)\n",
        "X_test, y_test = create_dataset(test1, test1.Charge_Capacity , time_steps)\n",
        "\n",
        "print(X_train.shape, y_train.shape)"
      ],
      "execution_count": 214,
      "outputs": [
        {
          "output_type": "stream",
          "text": [
            "(1359, 8, 8) (1359,)\n"
          ],
          "name": "stdout"
        }
      ]
    },
    {
      "cell_type": "code",
      "metadata": {
        "id": "7EsGNzAs-no4"
      },
      "source": [
        "from tensorflow import keras\n",
        "model = keras.Sequential()\n",
        "model.add(\n",
        "  keras.layers.Bidirectional(\n",
        "    keras.layers.LSTM(\n",
        "      units=128, \n",
        "      input_shape=(X_train.shape[1], X_train.shape[2])\n",
        "    )\n",
        "  )\n",
        ")\n",
        "model.add(keras.layers.Dropout(rate=0.2))\n",
        "model.add(keras.layers.Dense(units=1))\n",
        "model.compile(loss='mean_squared_error', optimizer='adam')"
      ],
      "execution_count": 215,
      "outputs": []
    },
    {
      "cell_type": "code",
      "metadata": {
        "colab": {
          "base_uri": "https://localhost:8080/"
        },
        "id": "9sqv0V33KzWJ",
        "outputId": "f4b152a8-ed31-4caa-a219-4eb63bd4ba9a"
      },
      "source": [
        "history = model.fit(\n",
        "    X_train, y_train, \n",
        "    epochs=30, \n",
        "    batch_size=32, \n",
        "    validation_split=0.1,\n",
        "    shuffle=False\n",
        ")"
      ],
      "execution_count": 216,
      "outputs": [
        {
          "output_type": "stream",
          "text": [
            "Epoch 1/30\n",
            "39/39 [==============================] - 5s 40ms/step - loss: 0.1149 - val_loss: 0.0336\n",
            "Epoch 2/30\n",
            "39/39 [==============================] - 1s 16ms/step - loss: 0.6047 - val_loss: 0.4159\n",
            "Epoch 3/30\n",
            "39/39 [==============================] - 1s 19ms/step - loss: 0.2938 - val_loss: 0.3404\n",
            "Epoch 4/30\n",
            "39/39 [==============================] - 1s 16ms/step - loss: 0.2625 - val_loss: 0.2322\n",
            "Epoch 5/30\n",
            "39/39 [==============================] - 1s 17ms/step - loss: 0.1784 - val_loss: 0.0795\n",
            "Epoch 6/30\n",
            "39/39 [==============================] - 1s 17ms/step - loss: 0.1767 - val_loss: 0.0419\n",
            "Epoch 7/30\n",
            "39/39 [==============================] - 1s 17ms/step - loss: 0.4292 - val_loss: 0.0635\n",
            "Epoch 8/30\n",
            "39/39 [==============================] - 1s 16ms/step - loss: 0.4000 - val_loss: 0.0775\n",
            "Epoch 9/30\n",
            "39/39 [==============================] - 1s 17ms/step - loss: 0.1465 - val_loss: 0.0990\n",
            "Epoch 10/30\n",
            "39/39 [==============================] - 1s 18ms/step - loss: 0.4756 - val_loss: 0.1073\n",
            "Epoch 11/30\n",
            "39/39 [==============================] - 1s 16ms/step - loss: 0.3607 - val_loss: 0.1263\n",
            "Epoch 12/30\n",
            "39/39 [==============================] - 1s 17ms/step - loss: 0.4991 - val_loss: 0.1428\n",
            "Epoch 13/30\n",
            "39/39 [==============================] - 1s 18ms/step - loss: 0.3445 - val_loss: 0.1089\n",
            "Epoch 14/30\n",
            "39/39 [==============================] - 1s 17ms/step - loss: 0.2614 - val_loss: 0.0910\n",
            "Epoch 15/30\n",
            "39/39 [==============================] - 1s 17ms/step - loss: 0.2399 - val_loss: 0.0738\n",
            "Epoch 16/30\n",
            "39/39 [==============================] - 1s 16ms/step - loss: 0.4243 - val_loss: 0.0931\n",
            "Epoch 17/30\n",
            "39/39 [==============================] - 1s 16ms/step - loss: 0.1857 - val_loss: 0.0849\n",
            "Epoch 18/30\n",
            "39/39 [==============================] - 1s 17ms/step - loss: 0.4896 - val_loss: 0.0244\n",
            "Epoch 19/30\n",
            "39/39 [==============================] - 1s 17ms/step - loss: 0.4238 - val_loss: 0.0513\n",
            "Epoch 20/30\n",
            "39/39 [==============================] - 1s 17ms/step - loss: 0.5163 - val_loss: 0.0838\n",
            "Epoch 21/30\n",
            "39/39 [==============================] - 1s 17ms/step - loss: 0.4105 - val_loss: 0.0572\n",
            "Epoch 22/30\n",
            "39/39 [==============================] - 1s 16ms/step - loss: 0.2993 - val_loss: 0.1134\n",
            "Epoch 23/30\n",
            "39/39 [==============================] - 1s 17ms/step - loss: 0.3165 - val_loss: 0.1245\n",
            "Epoch 24/30\n",
            "39/39 [==============================] - 1s 16ms/step - loss: 0.2207 - val_loss: 0.0526\n",
            "Epoch 25/30\n",
            "39/39 [==============================] - 1s 16ms/step - loss: 0.4455 - val_loss: 0.0817\n",
            "Epoch 26/30\n",
            "39/39 [==============================] - 1s 17ms/step - loss: 0.4792 - val_loss: 0.1141\n",
            "Epoch 27/30\n",
            "39/39 [==============================] - 1s 17ms/step - loss: 0.2757 - val_loss: 0.1071\n",
            "Epoch 28/30\n",
            "39/39 [==============================] - 1s 16ms/step - loss: 0.4438 - val_loss: 0.1501\n",
            "Epoch 29/30\n",
            "39/39 [==============================] - 1s 19ms/step - loss: 0.3158 - val_loss: 0.0834\n",
            "Epoch 30/30\n",
            "39/39 [==============================] - 1s 16ms/step - loss: 0.2126 - val_loss: 0.0683\n"
          ],
          "name": "stdout"
        }
      ]
    },
    {
      "cell_type": "code",
      "metadata": {
        "colab": {
          "base_uri": "https://localhost:8080/",
          "height": 264
        },
        "id": "VKw9LBHSLAMs",
        "outputId": "5278c5b3-d749-4a76-8d00-ba24606388e0"
      },
      "source": [
        "plt.plot(history.history['loss'], label='train')\n",
        "plt.plot(history.history['val_loss'], label='test')\n",
        "plt.legend();"
      ],
      "execution_count": 217,
      "outputs": [
        {
          "output_type": "display_data",
          "data": {
            "image/png": "[encoded data removed]",
            "text/plain": [
              "<Figure size 432x288 with 1 Axes>"
            ]
          },
          "metadata": {
            "tags": [],
            "needs_background": "light"
          }
        }
      ]
    },
    {
      "cell_type": "code",
      "metadata": {
        "id": "lqZFCyVQLE3O"
      },
      "source": [
        "y_pred = model.predict(X_test)"
      ],
      "execution_count": 218,
      "outputs": []
    },
    {
      "cell_type": "code",
      "metadata": {
        "id": "i4uX2KoQ7iTe"
      },
      "source": [
        "y_train_inv = cc_transformer.inverse_transform(y_train.reshape(1, -1))\n",
        "y_test_inv = cc_transformer.inverse_transform(y_test.reshape(1, -1))\n",
        "y_pred_inv = cc_transformer.inverse_transform(y_pred)"
      ],
      "execution_count": 219,
      "outputs": []
    },
    {
      "cell_type": "code",
      "metadata": {
        "colab": {
          "base_uri": "https://localhost:8080/",
          "height": 282
        },
        "id": "iL3F5X3-7oPJ",
        "outputId": "38ad5db1-d935-499a-a405-cff278a0f7bd"
      },
      "source": [
        "plt.plot(np.arange(0, len(y_train)), y_train_inv.flatten(), 'g', label=\"history\")\n",
        "plt.plot(np.arange(len(y_train), len(y_train) + len(y_test)), y_test_inv.flatten(), marker='.', label=\"true\")\n",
        "plt.plot(np.arange(len(y_train), len(y_train) + len(y_test)), y_pred_inv.flatten(), 'r', label=\"prediction\")\n",
        "plt.ylabel('Bike Count')\n",
        "plt.xlabel('Time Step')\n",
        "plt.legend()\n",
        "plt.show();"
      ],
      "execution_count": 220,
      "outputs": [
        {
          "output_type": "display_data",
          "data": {
            "image/png": "[encoded data removed]",
            "text/plain": [
              "<Figure size 432x288 with 1 Axes>"
            ]
          },
          "metadata": {
            "tags": [],
            "needs_background": "light"
          }
        }
      ]
    },
    {
      "cell_type": "code",
      "metadata": {
        "colab": {
          "base_uri": "https://localhost:8080/",
          "height": 278
        },
        "id": "YTDKLyor7utG",
        "outputId": "5e8ff0af-985c-4aba-de0c-2ffcacdc9187"
      },
      "source": [
        "plt.plot(y_test_inv.flatten(), marker='.', label=\"true\")\n",
        "plt.plot(y_pred_inv.flatten(), 'r', label=\"prediction\")\n",
        "plt.ylabel('Bike Count')\n",
        "plt.xlabel('Time Step')\n",
        "plt.legend()\n",
        "plt.show();"
      ],
      "execution_count": 221,
      "outputs": [
        {
          "output_type": "display_data",
          "data": {
            "image/png": "[encoded data removed]",
            "text/plain": [
              "<Figure size 432x288 with 1 Axes>"
            ]
          },
          "metadata": {
            "tags": [],
            "needs_background": "light"
          }
        }
      ]
    }
  ]
}